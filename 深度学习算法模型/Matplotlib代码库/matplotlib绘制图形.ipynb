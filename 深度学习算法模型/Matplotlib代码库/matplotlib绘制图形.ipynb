{
 "cells": [
  {
   "cell_type": "code",
   "execution_count": null,
   "metadata": {},
   "outputs": [],
   "source": [
    "import numpy as np\n",
    "import pandas as pd\n",
    "from matplotlib import pyplot as plt\n",
    "\n",
    "# 测试评估（保持现有验证逻辑）\n",
    "plt.plot(test_preds, 'r', label = 'prediction')\n",
    "plt.plot(y_test, 'b', label = 'real')\n",
    "plt.xticks(rotation=90)\n",
    "plt.legend(loc='best')\n",
    "plt.show()"
   ]
  }
 ],
 "metadata": {
  "language_info": {
   "name": "python"
  }
 },
 "nbformat": 4,
 "nbformat_minor": 2
}
