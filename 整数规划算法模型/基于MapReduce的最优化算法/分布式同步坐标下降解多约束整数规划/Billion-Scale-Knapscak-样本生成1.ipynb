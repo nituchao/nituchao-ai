{
 "cells": [
  {
   "cell_type": "code",
   "execution_count": 2,
   "metadata": {},
   "outputs": [],
   "source": [
    "import numpy as np\n",
    "import random"
   ]
  },
  {
   "cell_type": "code",
   "execution_count": 3,
   "metadata": {},
   "outputs": [
    {
     "name": "stdout",
     "output_type": "stream",
     "text": [
      "[97. 40. 30. 36. 77. 31. 47. 85. 63. 50. 91. 72. 86. 60. 42. 64. 52. 69.\n",
      " 59. 73. 81. 66. 85. 60. 71. 57. 62. 85. 80. 97. 88. 73. 57. 75. 78. 85.\n",
      " 60. 45. 60. 31. 95. 52. 40. 99. 87. 72. 32. 73. 97. 83. 49. 74. 65. 40.\n",
      " 52. 82. 45. 32. 81. 68. 49. 56. 68. 94. 31. 32. 52. 62. 65. 98. 92. 57.\n",
      " 40. 67. 60. 88. 89. 94. 54. 62. 70. 64. 69. 77. 39. 42. 77. 35. 31. 30.\n",
      " 94. 65. 66. 81. 55. 59. 93. 72. 98. 96.]\n"
     ]
    }
   ],
   "source": [
    "N = 100\n",
    "M = 10\n",
    "K = 3\n",
    "\n",
    "b_consumption = np.zeros((N, M, K))\n",
    "b_constraint = np.array([100, 121, 150])\n",
    "c_constraint = np.zeros((N,))\n",
    "p_profit = np.zeros((N, M))\n",
    "\n",
    "s_b_consumption = ''\n",
    "s_p_profit = ''\n",
    "\n",
    "\n",
    "for i in range(N):\n",
    "    for j in range(M):\n",
    "        for k in range(K):\n",
    "            # 初始化: 用户i，分配物品j，消耗背包k的资源为b_{i,j,k}\n",
    "            consumption = random.randint(1, 10) \n",
    "            b_consumption[i][j][k] = consumption\n",
    "            s_b_consumption = s_b_consumption + '%d,%d,%d,%d\\n' % (i, j, k, consumption)\n",
    "            \n",
    "        # 初始化，指定用户i对物品j的分配增加收益p_profit[i][j]\n",
    "        profit = random.randint(1, 20)\n",
    "        p_profit[i][j] = profit\n",
    "        s_p_profit = s_p_profit + '%d,%d,%d\\n' % (i,j,profit)\n",
    "\n",
    "    # 初始化：指定用户i对物品j的分配不能超过C_l\n",
    "    c_constraint[i] = random.randint(30, 100)\n",
    "print(c_constraint)\n",
    "\n",
    "# 保存数据到文件\n",
    "# np.save('data/b_consumption.npy', b_consumption)\n",
    "# np.save('data/b_constraint.npy', b_constraint)\n",
    "# np.save('data/c_constraint.npy', c_constraint)\n",
    "# np.save('data/p_profit.npy', p_profit)\n",
    "\n",
    "fh = open('data/knp_b_consumpton.csv', 'w', encoding='utf-8')\n",
    "fh.write(s_b_consumption)\n",
    "fh.close()\n",
    "\n",
    "fh = open('data/knp_p_profit.csv', 'w', encoding='utf-8')\n",
    "fh.write(s_p_profit)\n",
    "fh.close()"
   ]
  },
  {
   "cell_type": "code",
   "execution_count": 4,
   "metadata": {},
   "outputs": [
    {
     "name": "stdout",
     "output_type": "stream",
     "text": [
      "[ 54.  81.  96.  86.  74.  69.  59.  35.  88.  45.  65.  64.  86.  66.\n",
      "  43.  78.  55.  70.  80.  52.  70.  42.  78.  92.  77.  51.  71.  39.\n",
      "  81.  73.  73.  88.  91.  66.  47.  73.  87.  31.  97.  67.  60.  67.\n",
      "  92.  31.  52.  38.  46.  68.  47.  56.  78. 100.  85.  34.  75.  44.\n",
      "  98.  35.  91.  87.  53.  54.  73.  80.  97.  32.  75.  57.  30.  94.\n",
      "  76.  48.  60.  72.  65.  52.  62.  70.  94.  48.  65.  61.  99.  72.\n",
      "  96.  72.  43.  31.  65.  59.  42.  38.  37.  95.  39.  83.  87.  35.\n",
      "  99.  40.]\n"
     ]
    }
   ],
   "source": [
    "N = 100\n",
    "M = 10\n",
    "K = 3\n",
    "\n",
    "b_consumption = np.zeros((N, M, K))\n",
    "b_constraint = np.array([100, 121, 150])\n",
    "c_constraint = np.zeros((N,))\n",
    "p_profit = np.zeros((N, M))\n",
    "lambda_dict = {1: 1, 2: 1, 3: 1}\n",
    "\n",
    "s_b_consumption = ''\n",
    "s_p_profit = ''\n",
    "\n",
    "\n",
    "for i in range(N):\n",
    "    for j in range(M):\n",
    "\n",
    "        # 初始化，指定用户i对物品j的分配增加收益p_profit[i][j]\n",
    "        profit = random.randint(1, 20)\n",
    "        p_profit[i][j] = profit\n",
    "        s_p_profit = s_p_profit + '%d,%d,%d\\n' % (i,j,profit)\n",
    "\n",
    "        for k in range(K):\n",
    "            # 初始化: 用户i，分配物品j，消耗背包k的资源为b_{i,j,k}\n",
    "            b = random.randint(1, 10) \n",
    "            b_consumption[i][j][k] = b\n",
    "            s_b_consumption = s_b_consumption + '%d,%d,%d,%d,%d,%d\\n' % (i, j, profit, k, b, 1)\n",
    "            \n",
    "\n",
    "    # 初始化：指定用户i对物品j的分配不能超过C_l\n",
    "    c_constraint[i] = random.randint(30, 100)\n",
    "print(c_constraint)\n",
    "\n",
    "# 保存数据到文件\n",
    "# np.save('data/b_consumption.npy', b_consumption)\n",
    "# np.save('data/b_constraint.npy', b_constraint)\n",
    "# np.save('data/c_constraint.npy', c_constraint)\n",
    "# np.save('data/p_profit.npy', p_profit)\n",
    "\n",
    "fh = open('data/knp_b_consumpton.csv', 'w', encoding='utf-8')\n",
    "fh.write(s_b_consumption)\n",
    "fh.close()\n",
    "\n",
    "fh = open('data/knp_p_profit.csv', 'w', encoding='utf-8')\n",
    "fh.write(s_p_profit)\n",
    "fh.close()"
   ]
  },
  {
   "cell_type": "code",
   "execution_count": null,
   "metadata": {},
   "outputs": [],
   "source": []
  }
 ],
 "metadata": {
  "kernelspec": {
   "display_name": "py39_torch2_cpu",
   "language": "python",
   "name": "python3"
  },
  "language_info": {
   "codemirror_mode": {
    "name": "ipython",
    "version": 3
   },
   "file_extension": ".py",
   "mimetype": "text/x-python",
   "name": "python",
   "nbconvert_exporter": "python",
   "pygments_lexer": "ipython3",
   "version": "3.9.18"
  }
 },
 "nbformat": 4,
 "nbformat_minor": 2
}
