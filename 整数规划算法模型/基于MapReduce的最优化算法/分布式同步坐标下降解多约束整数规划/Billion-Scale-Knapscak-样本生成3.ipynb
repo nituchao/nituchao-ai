{
 "cells": [
  {
   "cell_type": "code",
   "execution_count": 2,
   "metadata": {},
   "outputs": [],
   "source": [
    "import pandas as pd\n",
    "import numpy as np\n",
    "import json"
   ]
  },
  {
   "cell_type": "code",
   "execution_count": 3,
   "metadata": {},
   "outputs": [
    {
     "name": "stdout",
     "output_type": "stream",
     "text": [
      "2352\n"
     ]
    }
   ],
   "source": [
    "# 加载 JSON 文件\n",
    "with open('data3/xtr.json', 'r') as reader:\n",
    "    records = json.load(reader)\n",
    "\n",
    "print(len(records))"
   ]
  },
  {
   "cell_type": "code",
   "execution_count": 4,
   "metadata": {},
   "outputs": [
    {
     "name": "stdout",
     "output_type": "stream",
     "text": [
      "0\n",
      "0\n",
      "0.5390863705\n",
      "0\n",
      "0\n",
      "0\n",
      "0\n",
      "0\n",
      "0\n",
      "0\n",
      "0\n"
     ]
    }
   ],
   "source": [
    "for idx, record in enumerate(records):\n",
    "    res = ['i,j,profit,k,budget']\n",
    "    sum = 0\n",
    "\n",
    "    all_ctcvr = record['all_ctcvr']\n",
    "    credit_ctcvr = record['credit_ctcvr']\n",
    "    credit_activate = record['credit_activate']\n",
    "\n",
    "    for idy, ctcvr in enumerate(credit_activate):\n",
    "        res.append(\"%d,%d,%f,%d,%f\" % (idx, idy, ctcvr, 0, all_ctcvr[idy] - credit_ctcvr[idy]))\n",
    "\n",
    "        if idx == 2:\n",
    "            sum += credit_activate[idy]\n",
    "\n",
    "    print(sum)\n",
    "\n",
    "    if idx == 10:\n",
    "        break\n",
    "\n",
    "    res_np = np.array(res)\n",
    "    np.savetxt('data3/knp_budget_' + str(idx) + '.csv', res_np, fmt='%s')\n"
   ]
  },
  {
   "cell_type": "code",
   "execution_count": 5,
   "metadata": {},
   "outputs": [
    {
     "data": {
      "text/plain": [
       "0.0033207818480043743"
      ]
     },
     "execution_count": 5,
     "metadata": {},
     "output_type": "execute_result"
    }
   ],
   "source": [
    "sum_budget = 0.017659 + 0.272917 + 0.282923 + 0.357699 + 0.194918 + 0.274299\n",
    "\n",
    "\n",
    "\n",
    "sum_budget * 0.002371284117925311\n"
   ]
  },
  {
   "cell_type": "code",
   "execution_count": 6,
   "metadata": {},
   "outputs": [
    {
     "data": {
      "text/plain": [
       "0.003299"
      ]
     },
     "execution_count": 6,
     "metadata": {},
     "output_type": "execute_result"
    }
   ],
   "source": [
    "1 * 6.95E-4 + 1 * 0.001103 + 1 * 3.45E-4 + 1 * 7.71E-4 + 1 * 3.85E-4"
   ]
  },
  {
   "cell_type": "code",
   "execution_count": 7,
   "metadata": {},
   "outputs": [
    {
     "data": {
      "text/plain": [
       "1.126116"
      ]
     },
     "execution_count": 7,
     "metadata": {},
     "output_type": "execute_result"
    }
   ],
   "source": [
    "1 * 0.017659 + 1 * 0.272917 + 1 * 0.282923 + 1 * 0.357699 + 1 * 0.194918 "
   ]
  },
  {
   "cell_type": "code",
   "execution_count": 8,
   "metadata": {},
   "outputs": [
    {
     "data": {
      "text/html": [
       "<div>\n",
       "<style scoped>\n",
       "    .dataframe tbody tr th:only-of-type {\n",
       "        vertical-align: middle;\n",
       "    }\n",
       "\n",
       "    .dataframe tbody tr th {\n",
       "        vertical-align: top;\n",
       "    }\n",
       "\n",
       "    .dataframe thead th {\n",
       "        text-align: right;\n",
       "    }\n",
       "</style>\n",
       "<table border=\"1\" class=\"dataframe\">\n",
       "  <thead>\n",
       "    <tr style=\"text-align: right;\">\n",
       "      <th></th>\n",
       "      <th>i</th>\n",
       "      <th>j</th>\n",
       "      <th>profit</th>\n",
       "      <th>k</th>\n",
       "      <th>budget</th>\n",
       "    </tr>\n",
       "  </thead>\n",
       "  <tbody>\n",
       "    <tr>\n",
       "      <th>0</th>\n",
       "      <td>1</td>\n",
       "      <td>0</td>\n",
       "      <td>0.000695</td>\n",
       "      <td>0</td>\n",
       "      <td>0.017659</td>\n",
       "    </tr>\n",
       "    <tr>\n",
       "      <th>1</th>\n",
       "      <td>1</td>\n",
       "      <td>1</td>\n",
       "      <td>0.001103</td>\n",
       "      <td>0</td>\n",
       "      <td>0.272917</td>\n",
       "    </tr>\n",
       "    <tr>\n",
       "      <th>2</th>\n",
       "      <td>1</td>\n",
       "      <td>2</td>\n",
       "      <td>0.000345</td>\n",
       "      <td>0</td>\n",
       "      <td>0.282923</td>\n",
       "    </tr>\n",
       "    <tr>\n",
       "      <th>3</th>\n",
       "      <td>1</td>\n",
       "      <td>3</td>\n",
       "      <td>0.000771</td>\n",
       "      <td>0</td>\n",
       "      <td>0.357699</td>\n",
       "    </tr>\n",
       "    <tr>\n",
       "      <th>4</th>\n",
       "      <td>1</td>\n",
       "      <td>4</td>\n",
       "      <td>0.000385</td>\n",
       "      <td>0</td>\n",
       "      <td>0.194918</td>\n",
       "    </tr>\n",
       "    <tr>\n",
       "      <th>5</th>\n",
       "      <td>1</td>\n",
       "      <td>5</td>\n",
       "      <td>0.000329</td>\n",
       "      <td>0</td>\n",
       "      <td>0.274299</td>\n",
       "    </tr>\n",
       "  </tbody>\n",
       "</table>\n",
       "</div>"
      ],
      "text/plain": [
       "   i  j    profit  k    budget\n",
       "0  1  0  0.000695  0  0.017659\n",
       "1  1  1  0.001103  0  0.272917\n",
       "2  1  2  0.000345  0  0.282923\n",
       "3  1  3  0.000771  0  0.357699\n",
       "4  1  4  0.000385  0  0.194918\n",
       "5  1  5  0.000329  0  0.274299"
      ]
     },
     "execution_count": 8,
     "metadata": {},
     "output_type": "execute_result"
    }
   ],
   "source": [
    "df = pd.read_csv('data3/knp_budget_1.csv')\n",
    "df.head(20)"
   ]
  },
  {
   "cell_type": "code",
   "execution_count": 9,
   "metadata": {},
   "outputs": [
    {
     "data": {
      "text/html": [
       "<div>\n",
       "<style scoped>\n",
       "    .dataframe tbody tr th:only-of-type {\n",
       "        vertical-align: middle;\n",
       "    }\n",
       "\n",
       "    .dataframe tbody tr th {\n",
       "        vertical-align: top;\n",
       "    }\n",
       "\n",
       "    .dataframe thead th {\n",
       "        text-align: right;\n",
       "    }\n",
       "</style>\n",
       "<table border=\"1\" class=\"dataframe\">\n",
       "  <thead>\n",
       "    <tr style=\"text-align: right;\">\n",
       "      <th></th>\n",
       "      <th>i</th>\n",
       "      <th>j</th>\n",
       "      <th>profit</th>\n",
       "      <th>k</th>\n",
       "      <th>budget</th>\n",
       "      <th>x1</th>\n",
       "      <th>x2</th>\n",
       "      <th>x3</th>\n",
       "    </tr>\n",
       "  </thead>\n",
       "  <tbody>\n",
       "    <tr>\n",
       "      <th>0</th>\n",
       "      <td>1</td>\n",
       "      <td>0</td>\n",
       "      <td>0.000695</td>\n",
       "      <td>0</td>\n",
       "      <td>0.017659</td>\n",
       "      <td>0.000163</td>\n",
       "      <td>0.000532</td>\n",
       "      <td>0.039357</td>\n",
       "    </tr>\n",
       "    <tr>\n",
       "      <th>1</th>\n",
       "      <td>1</td>\n",
       "      <td>1</td>\n",
       "      <td>0.001103</td>\n",
       "      <td>0</td>\n",
       "      <td>0.272917</td>\n",
       "      <td>0.002512</td>\n",
       "      <td>-0.001409</td>\n",
       "      <td>0.004042</td>\n",
       "    </tr>\n",
       "    <tr>\n",
       "      <th>2</th>\n",
       "      <td>1</td>\n",
       "      <td>2</td>\n",
       "      <td>0.000345</td>\n",
       "      <td>0</td>\n",
       "      <td>0.282923</td>\n",
       "      <td>0.002604</td>\n",
       "      <td>-0.002259</td>\n",
       "      <td>0.001219</td>\n",
       "    </tr>\n",
       "    <tr>\n",
       "      <th>3</th>\n",
       "      <td>1</td>\n",
       "      <td>3</td>\n",
       "      <td>0.000771</td>\n",
       "      <td>0</td>\n",
       "      <td>0.357699</td>\n",
       "      <td>0.003293</td>\n",
       "      <td>-0.002522</td>\n",
       "      <td>0.002155</td>\n",
       "    </tr>\n",
       "    <tr>\n",
       "      <th>4</th>\n",
       "      <td>1</td>\n",
       "      <td>4</td>\n",
       "      <td>0.000385</td>\n",
       "      <td>0</td>\n",
       "      <td>0.194918</td>\n",
       "      <td>0.001794</td>\n",
       "      <td>-0.001409</td>\n",
       "      <td>0.001975</td>\n",
       "    </tr>\n",
       "    <tr>\n",
       "      <th>5</th>\n",
       "      <td>1</td>\n",
       "      <td>5</td>\n",
       "      <td>0.000329</td>\n",
       "      <td>0</td>\n",
       "      <td>0.274299</td>\n",
       "      <td>0.002525</td>\n",
       "      <td>-0.002196</td>\n",
       "      <td>0.001199</td>\n",
       "    </tr>\n",
       "  </tbody>\n",
       "</table>\n",
       "</div>"
      ],
      "text/plain": [
       "   i  j    profit  k    budget        x1        x2        x3\n",
       "0  1  0  0.000695  0  0.017659  0.000163  0.000532  0.039357\n",
       "1  1  1  0.001103  0  0.272917  0.002512 -0.001409  0.004042\n",
       "2  1  2  0.000345  0  0.282923  0.002604 -0.002259  0.001219\n",
       "3  1  3  0.000771  0  0.357699  0.003293 -0.002522  0.002155\n",
       "4  1  4  0.000385  0  0.194918  0.001794 -0.001409  0.001975\n",
       "5  1  5  0.000329  0  0.274299  0.002525 -0.002196  0.001199"
      ]
     },
     "execution_count": 9,
     "metadata": {},
     "output_type": "execute_result"
    }
   ],
   "source": [
    "df[\"x1\"] = df['budget'] * 0.009205246221105398\n",
    "df[\"x2\"] = df['profit'] - df[\"x1\"]\n",
    "df[\"x3\"] = df['profit'] / df['budget']\n",
    "df.head(20)"
   ]
  },
  {
   "cell_type": "code",
   "execution_count": 47,
   "metadata": {},
   "outputs": [
    {
     "data": {
      "text/plain": [
       "1.400415"
      ]
     },
     "execution_count": 47,
     "metadata": {},
     "output_type": "execute_result"
    }
   ],
   "source": [
    "df['budget'].sum()"
   ]
  },
  {
   "cell_type": "code",
   "execution_count": 11,
   "metadata": {},
   "outputs": [
    {
     "data": {
      "text/plain": [
       "0.843193"
      ]
     },
     "execution_count": 11,
     "metadata": {},
     "output_type": "execute_result"
    }
   ],
   "source": [
    "0.017659 + 0.272917 + 0.357699 + 0.194918"
   ]
  },
  {
   "cell_type": "code",
   "execution_count": null,
   "metadata": {},
   "outputs": [],
   "source": []
  }
 ],
 "metadata": {
  "kernelspec": {
   "display_name": "py39_torch2_cpu",
   "language": "python",
   "name": "python3"
  },
  "language_info": {
   "codemirror_mode": {
    "name": "ipython",
    "version": 3
   },
   "file_extension": ".py",
   "mimetype": "text/x-python",
   "name": "python",
   "nbconvert_exporter": "python",
   "pygments_lexer": "ipython3",
   "version": "3.9.18"
  }
 },
 "nbformat": 4,
 "nbformat_minor": 2
}
