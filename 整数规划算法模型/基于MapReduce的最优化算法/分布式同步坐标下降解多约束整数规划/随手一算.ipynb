{
 "cells": [
  {
   "cell_type": "code",
   "execution_count": 1,
   "metadata": {},
   "outputs": [],
   "source": [
    "import pandas as pd\n",
    "import numpy as np\n",
    "import random"
   ]
  },
  {
   "cell_type": "markdown",
   "metadata": {},
   "source": [
    "涉及到的变量：\n",
    "| 变量名 | 说明 |\n",
    "|:------|:-----|\n",
    "| N ｜ 用户数量 ｜\n",
    "| M ｜物品数量  ｜\n",
    "| K | 全局约束，限制每个背包的资源分配，共计K个背包 |\n",
    "| L | 局部约束，限制每个用户的消费 |\n",
    "| x_{i,j} | 代表把物品j分配给用户i，增加p_{i,j}的收益，消耗b_{i,j,k}的资源 |\n",
    "| p_{i,j} | 代表把物品j分配给用户i，增加p_{i,j}的收益 |\n",
    "| b_{i,j,k} | 代表把物品j分配给用户i，消耗b_{i,j,k}的资源 |\n",
    "\n",
    "\n",
    "假设：\n",
    "1. 用户有100个，N = {0, 1, 2, 3, ... 99}\n",
    "2. 物品数量10个，M = {0, 1, 2, 3, 4, 5, 6, 7, 8, 9}\n",
    "3. 全局约束，背包数量3个，K = 3，K代表的全局约束有3组，B_k有3个\n",
    "4. 局部约束，每个用户的消费不能超过C_l，C_l有不超过100个；\n",
    "5. b_{i,j,k}，有100 * 10 * 3 = 3000个\n",
    "\n",
    "数据集包含：\n",
    "1. b_consumption, b_{i,j,k}，3000个，代表用户i，分配物品j，消耗背包k的资源为b_{i,j,k}；\n",
    "2. b_constraint, B_k，3个，代表背包k的资源限制为B_k；\n",
    "3. C_l，30个，代表指定用户i对物品的分配不能超过C_l，C_l为整数；\n",
    "\n",
    "---\n",
    "\n",
    "```python\n",
    "N = 100\n",
    "M = 10\n",
    "K = 3\n",
    "\n",
    "b_consumption = np.zeros((N, M, K))\n",
    "b_constraint = np.array([100, 121, 150])\n",
    "c_constraint = np.zeros((N,))\n",
    "p_profit = np.zeros((N, M))\n",
    "\n",
    "for i in range(N):\n",
    "    for j in range(M):\n",
    "        for k in range(K):\n",
    "            # 初始化: 用户i，分配物品j，消耗背包k的资源为b_{i,j,k}\n",
    "            b_consumption[i][j][k] = random.randint(1, 10)  \n",
    "    # 初始化：指定用户i对物品j的分配不能超过C_l\n",
    "    c_constraint[i] = random.randint(30, 100)\n",
    "    # 初始化，指定用户i对物品j的分配增加收益p_profit[i][j]\n",
    "    p_profit[i][j] = random.randint(1, 20)\n",
    "print(c_constraint)\n",
    "\n",
    "# 保存数据到文件\n",
    "np.save('data/b_consumption.npy', b_consumption)\n",
    "np.save('data/b_constraint.npy', b_constraint)\n",
    "np.save('data/c_constraint.npy', c_constraint)\n",
    "np.save('data/p_profit.npy', p_profit)\n",
    "```\n",
    "---"
   ]
  },
  {
   "cell_type": "code",
   "execution_count": 43,
   "metadata": {},
   "outputs": [
    {
     "name": "stdout",
     "output_type": "stream",
     "text": [
      "[ 73.  90.  59.  93.  62.  40.  75.  94.  82.  46.  92.  79.  38.  62.\n",
      "  30.  85.  89.  68.  42.  77.  79.  97.  82.  84.  61.  48.  69.  52.\n",
      "  76.  39.  83.  67.  34.  33.  48.  99.  72.  72.  62.  99.  66.  81.\n",
      "  94.  37.  70.  85.  69.  43.  50. 100.  45.  43.  51.  60.  84.  60.\n",
      "  51.  95.  56.  90.  91.  89.  74.  51.  76.  87.  45.  67.  71.  38.\n",
      "  85.  82.  46.  34.  36.  50.  75.  70.  57. 100.  63.  55.  89.  96.\n",
      "  36.  82.  93.  84. 100.  90.  77.  80.  33.  52.  86.  48.  36.  42.\n",
      "  75.  38.]\n"
     ]
    }
   ],
   "source": [
    "N = 100\n",
    "M = 10\n",
    "K = 3\n",
    "\n",
    "b_consumption = np.zeros((N, M, K))\n",
    "b_constraint = np.array([100, 121, 150])\n",
    "c_constraint = np.zeros((N,))\n",
    "p_profit = np.zeros((N, M))\n",
    "\n",
    "for i in range(N):\n",
    "    for j in range(M):\n",
    "        for k in range(K):\n",
    "            # 初始化: 用户i，分配物品j，消耗背包k的资源为b_{i,j,k}\n",
    "            b_consumption[i][j][k] = random.randint(1, 10)  \n",
    "            \n",
    "        # 初始化，指定用户i对物品j的分配增加收益p_profit[i][j]\n",
    "        p_profit[i][j] = random.randint(1, 20)\n",
    "\n",
    "    # 初始化：指定用户i对物品j的分配不能超过C_l\n",
    "    c_constraint[i] = random.randint(30, 100)\n",
    "print(c_constraint)\n",
    "\n",
    "# 保存数据到文件\n",
    "np.save('data/b_consumption.npy', b_consumption)\n",
    "np.save('data/b_constraint.npy', b_constraint)\n",
    "np.save('data/c_constraint.npy', c_constraint)\n",
    "np.save('data/p_profit.npy', p_profit)"
   ]
  },
  {
   "cell_type": "code",
   "execution_count": 44,
   "metadata": {},
   "outputs": [
    {
     "name": "stdout",
     "output_type": "stream",
     "text": [
      "[ 73.  90.  59.  93.  62.  40.  75.  94.  82.  46.  92.  79.  38.  62.\n",
      "  30.  85.  89.  68.  42.  77.  79.  97.  82.  84.  61.  48.  69.  52.\n",
      "  76.  39.  83.  67.  34.  33.  48.  99.  72.  72.  62.  99.  66.  81.\n",
      "  94.  37.  70.  85.  69.  43.  50. 100.  45.  43.  51.  60.  84.  60.\n",
      "  51.  95.  56.  90.  91.  89.  74.  51.  76.  87.  45.  67.  71.  38.\n",
      "  85.  82.  46.  34.  36.  50.  75.  70.  57. 100.  63.  55.  89.  96.\n",
      "  36.  82.  93.  84. 100.  90.  77.  80.  33.  52.  86.  48.  36.  42.\n",
      "  75.  38.]\n"
     ]
    }
   ],
   "source": [
    "# 加载数据\n",
    "b_consumption = np.load('data/b_consumption.npy')\n",
    "b_constraint = np.load('data/b_constraint.npy')\n",
    "c_constraint = np.load('data/c_constraint.npy')\n",
    "p_profit = np.load('data/p_profit.npy')\n",
    "\n",
    "print(c_constraint)"
   ]
  },
  {
   "cell_type": "code",
   "execution_count": 50,
   "metadata": {},
   "outputs": [
    {
     "name": "stdout",
     "output_type": "stream",
     "text": [
      "[  1. -11.  -3.   1. -14. -10. -12.  -2. -23. -13.]\n",
      "count: 0, idx = 0, i=0, j=0, p_profit_gain =1.000000\n",
      "count: 1, idx = 3, i=0, j=3, p_profit_gain =1.000000\n",
      "[  1.   1.  -2.  -3. -10. -11. -12. -13. -14. -23.]\n"
     ]
    }
   ],
   "source": [
    "N = 100\n",
    "M = 10\n",
    "K = 3\n",
    "\n",
    "x_op_res = np.zeros((N, M))\n",
    "p_profit_gain = np.zeros(M)\n",
    "\n",
    "i = 0\n",
    "lambda_k = 1\n",
    "\n",
    "for j in range(M):\n",
    "    p_profit_gain[j] = p_profit[i][j] - np.sum(b_consumption[i][j] * lambda_k, axis=0)\n",
    "\n",
    "print(p_profit_gain)\n",
    "\n",
    "count = 0\n",
    "for j in range(M):\n",
    "    if p_profit_gain[j] > 0:\n",
    "        print(\"count: %d, idx = %d, i=%d, j=%d, p_profit_gain =%f\" % (count, (i * M + j), i, j, p_profit_gain[i * M + j]))\n",
    "        count = count + 1\n",
    "\n",
    "p_profit_gain = np.sort(p_profit_gain)[::-1]\n",
    "print(p_profit_gain)"
   ]
  },
  {
   "cell_type": "code",
   "execution_count": 1,
   "metadata": {},
   "outputs": [
    {
     "data": {
      "text/plain": [
       "-9.639000000000003"
      ]
     },
     "execution_count": 1,
     "metadata": {},
     "output_type": "execute_result"
    }
   ],
   "source": [
    "0.5 * (-6.426-20) + 0.5 * (-6.426) + 0.5 * (-6.426 - 2 * 20 + 0) + 30"
   ]
  },
  {
   "cell_type": "markdown",
   "metadata": {},
   "source": []
  }
 ],
 "metadata": {
  "kernelspec": {
   "display_name": "py39_torch2_cpu",
   "language": "python",
   "name": "python3"
  },
  "language_info": {
   "codemirror_mode": {
    "name": "ipython",
    "version": 3
   },
   "file_extension": ".py",
   "mimetype": "text/x-python",
   "name": "python",
   "nbconvert_exporter": "python",
   "pygments_lexer": "ipython3",
   "version": "3.9.18"
  }
 },
 "nbformat": 4,
 "nbformat_minor": 2
}
