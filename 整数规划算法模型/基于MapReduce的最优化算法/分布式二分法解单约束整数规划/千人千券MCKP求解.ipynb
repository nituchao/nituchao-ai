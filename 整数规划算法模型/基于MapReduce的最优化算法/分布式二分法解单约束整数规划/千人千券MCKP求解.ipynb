{
  "cells": [
    {
      "cell_type": "code",
      "execution_count": 1,
      "metadata": {
        "colab": {
          "base_uri": "https://localhost:8080/"
        },
        "id": "uBbCebOX3qKB",
        "outputId": "82f9dddc-6457-469e-d6c8-eb0887a915e7"
      },
      "outputs": [
        {
          "output_type": "stream",
          "name": "stdout",
          "text": [
            "Collecting pyspark\n",
            "  Downloading pyspark-3.5.0.tar.gz (316.9 MB)\n",
            "\u001b[2K     \u001b[90m━━━━━━━━━━━━━━━━━━━━━━━━━━━━━━━━━━━━━━━━\u001b[0m \u001b[32m316.9/316.9 MB\u001b[0m \u001b[31m1.9 MB/s\u001b[0m eta \u001b[36m0:00:00\u001b[0m\n",
            "\u001b[?25h  Preparing metadata (setup.py) ... \u001b[?25l\u001b[?25hdone\n",
            "Requirement already satisfied: py4j==0.10.9.7 in /usr/local/lib/python3.10/dist-packages (from pyspark) (0.10.9.7)\n",
            "Building wheels for collected packages: pyspark\n",
            "  Building wheel for pyspark (setup.py) ... \u001b[?25l\u001b[?25hdone\n",
            "  Created wheel for pyspark: filename=pyspark-3.5.0-py2.py3-none-any.whl size=317425345 sha256=9a0ded4826902b5373ae8b683f14b7fc252d3364d72e903f781e010e952f5527\n",
            "  Stored in directory: /root/.cache/pip/wheels/41/4e/10/c2cf2467f71c678cfc8a6b9ac9241e5e44a01940da8fbb17fc\n",
            "Successfully built pyspark\n",
            "Installing collected packages: pyspark\n",
            "Successfully installed pyspark-3.5.0\n"
          ]
        }
      ],
      "source": [
        "!pip install pyspark"
      ]
    },
    {
      "cell_type": "code",
      "execution_count": 123,
      "metadata": {
        "id": "kDp7QDjw3rTM"
      },
      "outputs": [],
      "source": [
        "import pandas as pd\n",
        "import random\n",
        "import os\n",
        "import sys\n",
        "from pyspark.context import SparkContext\n",
        "from pyspark.conf import SparkConf\n",
        "from pyspark.sql import SparkSession\n",
        "from pyspark.sql.types import *\n",
        "import pyspark.sql.functions as F\n",
        "import pyspark.sql.types as pst\n",
        "from pyspark.ml.feature import Bucketizer\n",
        "import copy\n",
        "import pandas as pd\n",
        "from sklearn.metrics import roc_auc_score\n",
        "from tqdm import tqdm"
      ]
    },
    {
      "cell_type": "code",
      "source": [
        "from google.colab import drive\n",
        "drive.mount('/content/drive')"
      ],
      "metadata": {
        "id": "nvIXTvnmkIM6",
        "colab": {
          "base_uri": "https://localhost:8080/"
        },
        "outputId": "66edf29a-99c8-4102-c585-7d25cc196c9f"
      },
      "execution_count": 124,
      "outputs": [
        {
          "output_type": "stream",
          "name": "stdout",
          "text": [
            "Drive already mounted at /content/drive; to attempt to forcibly remount, call drive.mount(\"/content/drive\", force_remount=True).\n"
          ]
        }
      ]
    },
    {
      "cell_type": "markdown",
      "metadata": {
        "id": "Y0OFuQ6y2Y_W"
      },
      "source": [
        "**促活场景，可以不发优惠券**"
      ]
    },
    {
      "cell_type": "code",
      "execution_count": 125,
      "metadata": {
        "id": "4cyzNjYmNMMS"
      },
      "outputs": [],
      "source": [
        "user_id = [3790260]*4 + [4687825]*4 + [5077519]*4 + [7927329]*4\n",
        "coupon_id = [2060114740, 1806204031, 4096652575, 1234832524] * 4\n",
        "coupon_reduce = [20, 10, 10, 0] * 4\n",
        "coupon_threshold = [60, 60, 40, -1] * 4\n",
        "is_convert = []\n",
        "control_convert = []"
      ]
    },
    {
      "cell_type": "code",
      "execution_count": 126,
      "metadata": {
        "id": "5bm1feVsP5nW"
      },
      "outputs": [],
      "source": [
        "for _ in range(4):\n",
        "  for _ in range(3):\n",
        "    is_convert.append(random.uniform(0.005, 0.3))\n",
        "  temp = random.uniform(0, 0.005)\n",
        "  is_convert.append(temp)\n",
        "  control_convert.extend([temp]*4)"
      ]
    },
    {
      "cell_type": "code",
      "execution_count": 127,
      "metadata": {
        "id": "Trkx87-s0sdB"
      },
      "outputs": [],
      "source": [
        "data = {'user_id': user_id, 'coupon_id': coupon_id, 'coupon_reduce': coupon_reduce, 'coupon_threshold': coupon_threshold, 'is_convert': is_convert, 'control_convert':control_convert}"
      ]
    },
    {
      "cell_type": "code",
      "execution_count": 128,
      "metadata": {
        "id": "AcXOxBGa1xJ8"
      },
      "outputs": [],
      "source": [
        "df_old = pd.DataFrame(data)\n",
        "df_old['expected_threshold_uplift'] = (df_old['is_convert'] - df_old['control_convert']) * df_old['coupon_threshold']"
      ]
    },
    {
      "cell_type": "code",
      "execution_count": 129,
      "metadata": {
        "colab": {
          "base_uri": "https://localhost:8080/",
          "height": 551
        },
        "id": "19p2KnpR1zxj",
        "outputId": "5b819ebd-f9da-4c17-ee8e-794596552f7c"
      },
      "outputs": [
        {
          "output_type": "execute_result",
          "data": {
            "text/plain": [
              "    user_id   coupon_id  coupon_reduce  coupon_threshold  is_convert  \\\n",
              "0   3790260  2060114740             20                60    0.233967   \n",
              "1   3790260  1806204031             10                60    0.173529   \n",
              "2   3790260  4096652575             10                40    0.163917   \n",
              "3   3790260  1234832524              0                -1    0.003082   \n",
              "4   4687825  2060114740             20                60    0.275729   \n",
              "5   4687825  1806204031             10                60    0.133412   \n",
              "6   4687825  4096652575             10                40    0.275069   \n",
              "7   4687825  1234832524              0                -1    0.000279   \n",
              "8   5077519  2060114740             20                60    0.187636   \n",
              "9   5077519  1806204031             10                60    0.183453   \n",
              "10  5077519  4096652575             10                40    0.167793   \n",
              "11  5077519  1234832524              0                -1    0.001924   \n",
              "12  7927329  2060114740             20                60    0.095899   \n",
              "13  7927329  1806204031             10                60    0.044220   \n",
              "14  7927329  4096652575             10                40    0.236533   \n",
              "15  7927329  1234832524              0                -1    0.000193   \n",
              "\n",
              "    control_convert  expected_threshold_uplift  \n",
              "0          0.003082                  13.853114  \n",
              "1          0.003082                  10.226854  \n",
              "2          0.003082                   6.433426  \n",
              "3          0.003082                  -0.000000  \n",
              "4          0.000279                  16.527020  \n",
              "5          0.000279                   7.988009  \n",
              "6          0.000279                  10.991610  \n",
              "7          0.000279                  -0.000000  \n",
              "8          0.001924                  11.142722  \n",
              "9          0.001924                  10.891729  \n",
              "10         0.001924                   6.634735  \n",
              "11         0.001924                  -0.000000  \n",
              "12         0.000193                   5.742361  \n",
              "13         0.000193                   2.641602  \n",
              "14         0.000193                   9.453604  \n",
              "15         0.000193                  -0.000000  "
            ],
            "text/html": [
              "\n",
              "  <div id=\"df-8fe8e3ec-dea7-4c81-9ad3-a6996decdb87\" class=\"colab-df-container\">\n",
              "    <div>\n",
              "<style scoped>\n",
              "    .dataframe tbody tr th:only-of-type {\n",
              "        vertical-align: middle;\n",
              "    }\n",
              "\n",
              "    .dataframe tbody tr th {\n",
              "        vertical-align: top;\n",
              "    }\n",
              "\n",
              "    .dataframe thead th {\n",
              "        text-align: right;\n",
              "    }\n",
              "</style>\n",
              "<table border=\"1\" class=\"dataframe\">\n",
              "  <thead>\n",
              "    <tr style=\"text-align: right;\">\n",
              "      <th></th>\n",
              "      <th>user_id</th>\n",
              "      <th>coupon_id</th>\n",
              "      <th>coupon_reduce</th>\n",
              "      <th>coupon_threshold</th>\n",
              "      <th>is_convert</th>\n",
              "      <th>control_convert</th>\n",
              "      <th>expected_threshold_uplift</th>\n",
              "    </tr>\n",
              "  </thead>\n",
              "  <tbody>\n",
              "    <tr>\n",
              "      <th>0</th>\n",
              "      <td>3790260</td>\n",
              "      <td>2060114740</td>\n",
              "      <td>20</td>\n",
              "      <td>60</td>\n",
              "      <td>0.233967</td>\n",
              "      <td>0.003082</td>\n",
              "      <td>13.853114</td>\n",
              "    </tr>\n",
              "    <tr>\n",
              "      <th>1</th>\n",
              "      <td>3790260</td>\n",
              "      <td>1806204031</td>\n",
              "      <td>10</td>\n",
              "      <td>60</td>\n",
              "      <td>0.173529</td>\n",
              "      <td>0.003082</td>\n",
              "      <td>10.226854</td>\n",
              "    </tr>\n",
              "    <tr>\n",
              "      <th>2</th>\n",
              "      <td>3790260</td>\n",
              "      <td>4096652575</td>\n",
              "      <td>10</td>\n",
              "      <td>40</td>\n",
              "      <td>0.163917</td>\n",
              "      <td>0.003082</td>\n",
              "      <td>6.433426</td>\n",
              "    </tr>\n",
              "    <tr>\n",
              "      <th>3</th>\n",
              "      <td>3790260</td>\n",
              "      <td>1234832524</td>\n",
              "      <td>0</td>\n",
              "      <td>-1</td>\n",
              "      <td>0.003082</td>\n",
              "      <td>0.003082</td>\n",
              "      <td>-0.000000</td>\n",
              "    </tr>\n",
              "    <tr>\n",
              "      <th>4</th>\n",
              "      <td>4687825</td>\n",
              "      <td>2060114740</td>\n",
              "      <td>20</td>\n",
              "      <td>60</td>\n",
              "      <td>0.275729</td>\n",
              "      <td>0.000279</td>\n",
              "      <td>16.527020</td>\n",
              "    </tr>\n",
              "    <tr>\n",
              "      <th>5</th>\n",
              "      <td>4687825</td>\n",
              "      <td>1806204031</td>\n",
              "      <td>10</td>\n",
              "      <td>60</td>\n",
              "      <td>0.133412</td>\n",
              "      <td>0.000279</td>\n",
              "      <td>7.988009</td>\n",
              "    </tr>\n",
              "    <tr>\n",
              "      <th>6</th>\n",
              "      <td>4687825</td>\n",
              "      <td>4096652575</td>\n",
              "      <td>10</td>\n",
              "      <td>40</td>\n",
              "      <td>0.275069</td>\n",
              "      <td>0.000279</td>\n",
              "      <td>10.991610</td>\n",
              "    </tr>\n",
              "    <tr>\n",
              "      <th>7</th>\n",
              "      <td>4687825</td>\n",
              "      <td>1234832524</td>\n",
              "      <td>0</td>\n",
              "      <td>-1</td>\n",
              "      <td>0.000279</td>\n",
              "      <td>0.000279</td>\n",
              "      <td>-0.000000</td>\n",
              "    </tr>\n",
              "    <tr>\n",
              "      <th>8</th>\n",
              "      <td>5077519</td>\n",
              "      <td>2060114740</td>\n",
              "      <td>20</td>\n",
              "      <td>60</td>\n",
              "      <td>0.187636</td>\n",
              "      <td>0.001924</td>\n",
              "      <td>11.142722</td>\n",
              "    </tr>\n",
              "    <tr>\n",
              "      <th>9</th>\n",
              "      <td>5077519</td>\n",
              "      <td>1806204031</td>\n",
              "      <td>10</td>\n",
              "      <td>60</td>\n",
              "      <td>0.183453</td>\n",
              "      <td>0.001924</td>\n",
              "      <td>10.891729</td>\n",
              "    </tr>\n",
              "    <tr>\n",
              "      <th>10</th>\n",
              "      <td>5077519</td>\n",
              "      <td>4096652575</td>\n",
              "      <td>10</td>\n",
              "      <td>40</td>\n",
              "      <td>0.167793</td>\n",
              "      <td>0.001924</td>\n",
              "      <td>6.634735</td>\n",
              "    </tr>\n",
              "    <tr>\n",
              "      <th>11</th>\n",
              "      <td>5077519</td>\n",
              "      <td>1234832524</td>\n",
              "      <td>0</td>\n",
              "      <td>-1</td>\n",
              "      <td>0.001924</td>\n",
              "      <td>0.001924</td>\n",
              "      <td>-0.000000</td>\n",
              "    </tr>\n",
              "    <tr>\n",
              "      <th>12</th>\n",
              "      <td>7927329</td>\n",
              "      <td>2060114740</td>\n",
              "      <td>20</td>\n",
              "      <td>60</td>\n",
              "      <td>0.095899</td>\n",
              "      <td>0.000193</td>\n",
              "      <td>5.742361</td>\n",
              "    </tr>\n",
              "    <tr>\n",
              "      <th>13</th>\n",
              "      <td>7927329</td>\n",
              "      <td>1806204031</td>\n",
              "      <td>10</td>\n",
              "      <td>60</td>\n",
              "      <td>0.044220</td>\n",
              "      <td>0.000193</td>\n",
              "      <td>2.641602</td>\n",
              "    </tr>\n",
              "    <tr>\n",
              "      <th>14</th>\n",
              "      <td>7927329</td>\n",
              "      <td>4096652575</td>\n",
              "      <td>10</td>\n",
              "      <td>40</td>\n",
              "      <td>0.236533</td>\n",
              "      <td>0.000193</td>\n",
              "      <td>9.453604</td>\n",
              "    </tr>\n",
              "    <tr>\n",
              "      <th>15</th>\n",
              "      <td>7927329</td>\n",
              "      <td>1234832524</td>\n",
              "      <td>0</td>\n",
              "      <td>-1</td>\n",
              "      <td>0.000193</td>\n",
              "      <td>0.000193</td>\n",
              "      <td>-0.000000</td>\n",
              "    </tr>\n",
              "  </tbody>\n",
              "</table>\n",
              "</div>\n",
              "    <div class=\"colab-df-buttons\">\n",
              "\n",
              "  <div class=\"colab-df-container\">\n",
              "    <button class=\"colab-df-convert\" onclick=\"convertToInteractive('df-8fe8e3ec-dea7-4c81-9ad3-a6996decdb87')\"\n",
              "            title=\"Convert this dataframe to an interactive table.\"\n",
              "            style=\"display:none;\">\n",
              "\n",
              "  <svg xmlns=\"http://www.w3.org/2000/svg\" height=\"24px\" viewBox=\"0 -960 960 960\">\n",
              "    <path d=\"M120-120v-720h720v720H120Zm60-500h600v-160H180v160Zm220 220h160v-160H400v160Zm0 220h160v-160H400v160ZM180-400h160v-160H180v160Zm440 0h160v-160H620v160ZM180-180h160v-160H180v160Zm440 0h160v-160H620v160Z\"/>\n",
              "  </svg>\n",
              "    </button>\n",
              "\n",
              "  <style>\n",
              "    .colab-df-container {\n",
              "      display:flex;\n",
              "      gap: 12px;\n",
              "    }\n",
              "\n",
              "    .colab-df-convert {\n",
              "      background-color: #E8F0FE;\n",
              "      border: none;\n",
              "      border-radius: 50%;\n",
              "      cursor: pointer;\n",
              "      display: none;\n",
              "      fill: #1967D2;\n",
              "      height: 32px;\n",
              "      padding: 0 0 0 0;\n",
              "      width: 32px;\n",
              "    }\n",
              "\n",
              "    .colab-df-convert:hover {\n",
              "      background-color: #E2EBFA;\n",
              "      box-shadow: 0px 1px 2px rgba(60, 64, 67, 0.3), 0px 1px 3px 1px rgba(60, 64, 67, 0.15);\n",
              "      fill: #174EA6;\n",
              "    }\n",
              "\n",
              "    .colab-df-buttons div {\n",
              "      margin-bottom: 4px;\n",
              "    }\n",
              "\n",
              "    [theme=dark] .colab-df-convert {\n",
              "      background-color: #3B4455;\n",
              "      fill: #D2E3FC;\n",
              "    }\n",
              "\n",
              "    [theme=dark] .colab-df-convert:hover {\n",
              "      background-color: #434B5C;\n",
              "      box-shadow: 0px 1px 3px 1px rgba(0, 0, 0, 0.15);\n",
              "      filter: drop-shadow(0px 1px 2px rgba(0, 0, 0, 0.3));\n",
              "      fill: #FFFFFF;\n",
              "    }\n",
              "  </style>\n",
              "\n",
              "    <script>\n",
              "      const buttonEl =\n",
              "        document.querySelector('#df-8fe8e3ec-dea7-4c81-9ad3-a6996decdb87 button.colab-df-convert');\n",
              "      buttonEl.style.display =\n",
              "        google.colab.kernel.accessAllowed ? 'block' : 'none';\n",
              "\n",
              "      async function convertToInteractive(key) {\n",
              "        const element = document.querySelector('#df-8fe8e3ec-dea7-4c81-9ad3-a6996decdb87');\n",
              "        const dataTable =\n",
              "          await google.colab.kernel.invokeFunction('convertToInteractive',\n",
              "                                                    [key], {});\n",
              "        if (!dataTable) return;\n",
              "\n",
              "        const docLinkHtml = 'Like what you see? Visit the ' +\n",
              "          '<a target=\"_blank\" href=https://colab.research.google.com/notebooks/data_table.ipynb>data table notebook</a>'\n",
              "          + ' to learn more about interactive tables.';\n",
              "        element.innerHTML = '';\n",
              "        dataTable['output_type'] = 'display_data';\n",
              "        await google.colab.output.renderOutput(dataTable, element);\n",
              "        const docLink = document.createElement('div');\n",
              "        docLink.innerHTML = docLinkHtml;\n",
              "        element.appendChild(docLink);\n",
              "      }\n",
              "    </script>\n",
              "  </div>\n",
              "\n",
              "\n",
              "<div id=\"df-838f1781-f186-410f-9623-c676cde3d157\">\n",
              "  <button class=\"colab-df-quickchart\" onclick=\"quickchart('df-838f1781-f186-410f-9623-c676cde3d157')\"\n",
              "            title=\"Suggest charts\"\n",
              "            style=\"display:none;\">\n",
              "\n",
              "<svg xmlns=\"http://www.w3.org/2000/svg\" height=\"24px\"viewBox=\"0 0 24 24\"\n",
              "     width=\"24px\">\n",
              "    <g>\n",
              "        <path d=\"M19 3H5c-1.1 0-2 .9-2 2v14c0 1.1.9 2 2 2h14c1.1 0 2-.9 2-2V5c0-1.1-.9-2-2-2zM9 17H7v-7h2v7zm4 0h-2V7h2v10zm4 0h-2v-4h2v4z\"/>\n",
              "    </g>\n",
              "</svg>\n",
              "  </button>\n",
              "\n",
              "<style>\n",
              "  .colab-df-quickchart {\n",
              "      --bg-color: #E8F0FE;\n",
              "      --fill-color: #1967D2;\n",
              "      --hover-bg-color: #E2EBFA;\n",
              "      --hover-fill-color: #174EA6;\n",
              "      --disabled-fill-color: #AAA;\n",
              "      --disabled-bg-color: #DDD;\n",
              "  }\n",
              "\n",
              "  [theme=dark] .colab-df-quickchart {\n",
              "      --bg-color: #3B4455;\n",
              "      --fill-color: #D2E3FC;\n",
              "      --hover-bg-color: #434B5C;\n",
              "      --hover-fill-color: #FFFFFF;\n",
              "      --disabled-bg-color: #3B4455;\n",
              "      --disabled-fill-color: #666;\n",
              "  }\n",
              "\n",
              "  .colab-df-quickchart {\n",
              "    background-color: var(--bg-color);\n",
              "    border: none;\n",
              "    border-radius: 50%;\n",
              "    cursor: pointer;\n",
              "    display: none;\n",
              "    fill: var(--fill-color);\n",
              "    height: 32px;\n",
              "    padding: 0;\n",
              "    width: 32px;\n",
              "  }\n",
              "\n",
              "  .colab-df-quickchart:hover {\n",
              "    background-color: var(--hover-bg-color);\n",
              "    box-shadow: 0 1px 2px rgba(60, 64, 67, 0.3), 0 1px 3px 1px rgba(60, 64, 67, 0.15);\n",
              "    fill: var(--button-hover-fill-color);\n",
              "  }\n",
              "\n",
              "  .colab-df-quickchart-complete:disabled,\n",
              "  .colab-df-quickchart-complete:disabled:hover {\n",
              "    background-color: var(--disabled-bg-color);\n",
              "    fill: var(--disabled-fill-color);\n",
              "    box-shadow: none;\n",
              "  }\n",
              "\n",
              "  .colab-df-spinner {\n",
              "    border: 2px solid var(--fill-color);\n",
              "    border-color: transparent;\n",
              "    border-bottom-color: var(--fill-color);\n",
              "    animation:\n",
              "      spin 1s steps(1) infinite;\n",
              "  }\n",
              "\n",
              "  @keyframes spin {\n",
              "    0% {\n",
              "      border-color: transparent;\n",
              "      border-bottom-color: var(--fill-color);\n",
              "      border-left-color: var(--fill-color);\n",
              "    }\n",
              "    20% {\n",
              "      border-color: transparent;\n",
              "      border-left-color: var(--fill-color);\n",
              "      border-top-color: var(--fill-color);\n",
              "    }\n",
              "    30% {\n",
              "      border-color: transparent;\n",
              "      border-left-color: var(--fill-color);\n",
              "      border-top-color: var(--fill-color);\n",
              "      border-right-color: var(--fill-color);\n",
              "    }\n",
              "    40% {\n",
              "      border-color: transparent;\n",
              "      border-right-color: var(--fill-color);\n",
              "      border-top-color: var(--fill-color);\n",
              "    }\n",
              "    60% {\n",
              "      border-color: transparent;\n",
              "      border-right-color: var(--fill-color);\n",
              "    }\n",
              "    80% {\n",
              "      border-color: transparent;\n",
              "      border-right-color: var(--fill-color);\n",
              "      border-bottom-color: var(--fill-color);\n",
              "    }\n",
              "    90% {\n",
              "      border-color: transparent;\n",
              "      border-bottom-color: var(--fill-color);\n",
              "    }\n",
              "  }\n",
              "</style>\n",
              "\n",
              "  <script>\n",
              "    async function quickchart(key) {\n",
              "      const quickchartButtonEl =\n",
              "        document.querySelector('#' + key + ' button');\n",
              "      quickchartButtonEl.disabled = true;  // To prevent multiple clicks.\n",
              "      quickchartButtonEl.classList.add('colab-df-spinner');\n",
              "      try {\n",
              "        const charts = await google.colab.kernel.invokeFunction(\n",
              "            'suggestCharts', [key], {});\n",
              "      } catch (error) {\n",
              "        console.error('Error during call to suggestCharts:', error);\n",
              "      }\n",
              "      quickchartButtonEl.classList.remove('colab-df-spinner');\n",
              "      quickchartButtonEl.classList.add('colab-df-quickchart-complete');\n",
              "    }\n",
              "    (() => {\n",
              "      let quickchartButtonEl =\n",
              "        document.querySelector('#df-838f1781-f186-410f-9623-c676cde3d157 button');\n",
              "      quickchartButtonEl.style.display =\n",
              "        google.colab.kernel.accessAllowed ? 'block' : 'none';\n",
              "    })();\n",
              "  </script>\n",
              "</div>\n",
              "    </div>\n",
              "  </div>\n"
            ]
          },
          "metadata": {},
          "execution_count": 129
        }
      ],
      "source": [
        "df_old"
      ]
    },
    {
      "cell_type": "markdown",
      "metadata": {
        "id": "4Jh88l0t2eJ3"
      },
      "source": [
        "**拉新场景，都需要发优惠券**"
      ]
    },
    {
      "cell_type": "code",
      "execution_count": 130,
      "metadata": {
        "id": "bedQPJnA2ir9"
      },
      "outputs": [],
      "source": [
        "user_id = [3790260]*4 + [4687825]*4 + [5077519]*4 + [7927329]*4\n",
        "coupon_id = [2060114740, 1806204031, 4096652575, 1234832524] * 4\n",
        "coupon_reduce = [20, 10, 10, 0] * 4\n",
        "coupon_threshold = [98, 98, 68, -1] * 4\n",
        "is_convert = []\n",
        "control_convert = []"
      ]
    },
    {
      "cell_type": "code",
      "execution_count": 131,
      "metadata": {
        "id": "s1CHct4U2iuj"
      },
      "outputs": [],
      "source": [
        "for _ in range(4):\n",
        "  for _ in range(3):\n",
        "    is_convert.append(random.uniform(0.005, 0.3))\n",
        "  temp = 0\n",
        "  is_convert.append(temp)\n",
        "  control_convert.extend([temp]*4)"
      ]
    },
    {
      "cell_type": "code",
      "execution_count": 132,
      "metadata": {
        "id": "P9gPphD72tCx"
      },
      "outputs": [],
      "source": [
        "data = {'user_id': user_id, 'coupon_id': coupon_id, 'coupon_reduce': coupon_reduce, 'coupon_threshold': coupon_threshold, 'is_convert': is_convert, 'control_convert':control_convert}"
      ]
    },
    {
      "cell_type": "code",
      "execution_count": 133,
      "metadata": {
        "id": "cSpWH7RP2ugk"
      },
      "outputs": [],
      "source": [
        "df_new = pd.DataFrame(data)\n",
        "df_new['expected_threshold_uplift'] = (df_new['is_convert'] - df_new['control_convert']) * df_new['coupon_threshold']"
      ]
    },
    {
      "cell_type": "code",
      "execution_count": 134,
      "metadata": {
        "colab": {
          "base_uri": "https://localhost:8080/",
          "height": 551
        },
        "id": "RPrx-4FU2ujI",
        "outputId": "3ce2c8fc-d329-443d-e15d-553328e34f63"
      },
      "outputs": [
        {
          "output_type": "execute_result",
          "data": {
            "text/plain": [
              "    user_id   coupon_id  coupon_reduce  coupon_threshold  is_convert  \\\n",
              "0   3790260  2060114740             20                98    0.171505   \n",
              "1   3790260  1806204031             10                98    0.042032   \n",
              "2   3790260  4096652575             10                68    0.195480   \n",
              "3   3790260  1234832524              0                -1    0.000000   \n",
              "4   4687825  2060114740             20                98    0.130384   \n",
              "5   4687825  1806204031             10                98    0.273902   \n",
              "6   4687825  4096652575             10                68    0.032596   \n",
              "7   4687825  1234832524              0                -1    0.000000   \n",
              "8   5077519  2060114740             20                98    0.044864   \n",
              "9   5077519  1806204031             10                98    0.231278   \n",
              "10  5077519  4096652575             10                68    0.269773   \n",
              "11  5077519  1234832524              0                -1    0.000000   \n",
              "12  7927329  2060114740             20                98    0.006955   \n",
              "13  7927329  1806204031             10                98    0.044381   \n",
              "14  7927329  4096652575             10                68    0.283210   \n",
              "15  7927329  1234832524              0                -1    0.000000   \n",
              "\n",
              "    control_convert  expected_threshold_uplift  \n",
              "0                 0                  16.807529  \n",
              "1                 0                   4.119103  \n",
              "2                 0                  13.292630  \n",
              "3                 0                  -0.000000  \n",
              "4                 0                  12.777594  \n",
              "5                 0                  26.842371  \n",
              "6                 0                   2.216498  \n",
              "7                 0                  -0.000000  \n",
              "8                 0                   4.396632  \n",
              "9                 0                  22.665269  \n",
              "10                0                  18.344546  \n",
              "11                0                  -0.000000  \n",
              "12                0                   0.681544  \n",
              "13                0                   4.349369  \n",
              "14                0                  19.258283  \n",
              "15                0                  -0.000000  "
            ],
            "text/html": [
              "\n",
              "  <div id=\"df-5d7e37f9-6323-436e-b340-1d858f28826b\" class=\"colab-df-container\">\n",
              "    <div>\n",
              "<style scoped>\n",
              "    .dataframe tbody tr th:only-of-type {\n",
              "        vertical-align: middle;\n",
              "    }\n",
              "\n",
              "    .dataframe tbody tr th {\n",
              "        vertical-align: top;\n",
              "    }\n",
              "\n",
              "    .dataframe thead th {\n",
              "        text-align: right;\n",
              "    }\n",
              "</style>\n",
              "<table border=\"1\" class=\"dataframe\">\n",
              "  <thead>\n",
              "    <tr style=\"text-align: right;\">\n",
              "      <th></th>\n",
              "      <th>user_id</th>\n",
              "      <th>coupon_id</th>\n",
              "      <th>coupon_reduce</th>\n",
              "      <th>coupon_threshold</th>\n",
              "      <th>is_convert</th>\n",
              "      <th>control_convert</th>\n",
              "      <th>expected_threshold_uplift</th>\n",
              "    </tr>\n",
              "  </thead>\n",
              "  <tbody>\n",
              "    <tr>\n",
              "      <th>0</th>\n",
              "      <td>3790260</td>\n",
              "      <td>2060114740</td>\n",
              "      <td>20</td>\n",
              "      <td>98</td>\n",
              "      <td>0.171505</td>\n",
              "      <td>0</td>\n",
              "      <td>16.807529</td>\n",
              "    </tr>\n",
              "    <tr>\n",
              "      <th>1</th>\n",
              "      <td>3790260</td>\n",
              "      <td>1806204031</td>\n",
              "      <td>10</td>\n",
              "      <td>98</td>\n",
              "      <td>0.042032</td>\n",
              "      <td>0</td>\n",
              "      <td>4.119103</td>\n",
              "    </tr>\n",
              "    <tr>\n",
              "      <th>2</th>\n",
              "      <td>3790260</td>\n",
              "      <td>4096652575</td>\n",
              "      <td>10</td>\n",
              "      <td>68</td>\n",
              "      <td>0.195480</td>\n",
              "      <td>0</td>\n",
              "      <td>13.292630</td>\n",
              "    </tr>\n",
              "    <tr>\n",
              "      <th>3</th>\n",
              "      <td>3790260</td>\n",
              "      <td>1234832524</td>\n",
              "      <td>0</td>\n",
              "      <td>-1</td>\n",
              "      <td>0.000000</td>\n",
              "      <td>0</td>\n",
              "      <td>-0.000000</td>\n",
              "    </tr>\n",
              "    <tr>\n",
              "      <th>4</th>\n",
              "      <td>4687825</td>\n",
              "      <td>2060114740</td>\n",
              "      <td>20</td>\n",
              "      <td>98</td>\n",
              "      <td>0.130384</td>\n",
              "      <td>0</td>\n",
              "      <td>12.777594</td>\n",
              "    </tr>\n",
              "    <tr>\n",
              "      <th>5</th>\n",
              "      <td>4687825</td>\n",
              "      <td>1806204031</td>\n",
              "      <td>10</td>\n",
              "      <td>98</td>\n",
              "      <td>0.273902</td>\n",
              "      <td>0</td>\n",
              "      <td>26.842371</td>\n",
              "    </tr>\n",
              "    <tr>\n",
              "      <th>6</th>\n",
              "      <td>4687825</td>\n",
              "      <td>4096652575</td>\n",
              "      <td>10</td>\n",
              "      <td>68</td>\n",
              "      <td>0.032596</td>\n",
              "      <td>0</td>\n",
              "      <td>2.216498</td>\n",
              "    </tr>\n",
              "    <tr>\n",
              "      <th>7</th>\n",
              "      <td>4687825</td>\n",
              "      <td>1234832524</td>\n",
              "      <td>0</td>\n",
              "      <td>-1</td>\n",
              "      <td>0.000000</td>\n",
              "      <td>0</td>\n",
              "      <td>-0.000000</td>\n",
              "    </tr>\n",
              "    <tr>\n",
              "      <th>8</th>\n",
              "      <td>5077519</td>\n",
              "      <td>2060114740</td>\n",
              "      <td>20</td>\n",
              "      <td>98</td>\n",
              "      <td>0.044864</td>\n",
              "      <td>0</td>\n",
              "      <td>4.396632</td>\n",
              "    </tr>\n",
              "    <tr>\n",
              "      <th>9</th>\n",
              "      <td>5077519</td>\n",
              "      <td>1806204031</td>\n",
              "      <td>10</td>\n",
              "      <td>98</td>\n",
              "      <td>0.231278</td>\n",
              "      <td>0</td>\n",
              "      <td>22.665269</td>\n",
              "    </tr>\n",
              "    <tr>\n",
              "      <th>10</th>\n",
              "      <td>5077519</td>\n",
              "      <td>4096652575</td>\n",
              "      <td>10</td>\n",
              "      <td>68</td>\n",
              "      <td>0.269773</td>\n",
              "      <td>0</td>\n",
              "      <td>18.344546</td>\n",
              "    </tr>\n",
              "    <tr>\n",
              "      <th>11</th>\n",
              "      <td>5077519</td>\n",
              "      <td>1234832524</td>\n",
              "      <td>0</td>\n",
              "      <td>-1</td>\n",
              "      <td>0.000000</td>\n",
              "      <td>0</td>\n",
              "      <td>-0.000000</td>\n",
              "    </tr>\n",
              "    <tr>\n",
              "      <th>12</th>\n",
              "      <td>7927329</td>\n",
              "      <td>2060114740</td>\n",
              "      <td>20</td>\n",
              "      <td>98</td>\n",
              "      <td>0.006955</td>\n",
              "      <td>0</td>\n",
              "      <td>0.681544</td>\n",
              "    </tr>\n",
              "    <tr>\n",
              "      <th>13</th>\n",
              "      <td>7927329</td>\n",
              "      <td>1806204031</td>\n",
              "      <td>10</td>\n",
              "      <td>98</td>\n",
              "      <td>0.044381</td>\n",
              "      <td>0</td>\n",
              "      <td>4.349369</td>\n",
              "    </tr>\n",
              "    <tr>\n",
              "      <th>14</th>\n",
              "      <td>7927329</td>\n",
              "      <td>4096652575</td>\n",
              "      <td>10</td>\n",
              "      <td>68</td>\n",
              "      <td>0.283210</td>\n",
              "      <td>0</td>\n",
              "      <td>19.258283</td>\n",
              "    </tr>\n",
              "    <tr>\n",
              "      <th>15</th>\n",
              "      <td>7927329</td>\n",
              "      <td>1234832524</td>\n",
              "      <td>0</td>\n",
              "      <td>-1</td>\n",
              "      <td>0.000000</td>\n",
              "      <td>0</td>\n",
              "      <td>-0.000000</td>\n",
              "    </tr>\n",
              "  </tbody>\n",
              "</table>\n",
              "</div>\n",
              "    <div class=\"colab-df-buttons\">\n",
              "\n",
              "  <div class=\"colab-df-container\">\n",
              "    <button class=\"colab-df-convert\" onclick=\"convertToInteractive('df-5d7e37f9-6323-436e-b340-1d858f28826b')\"\n",
              "            title=\"Convert this dataframe to an interactive table.\"\n",
              "            style=\"display:none;\">\n",
              "\n",
              "  <svg xmlns=\"http://www.w3.org/2000/svg\" height=\"24px\" viewBox=\"0 -960 960 960\">\n",
              "    <path d=\"M120-120v-720h720v720H120Zm60-500h600v-160H180v160Zm220 220h160v-160H400v160Zm0 220h160v-160H400v160ZM180-400h160v-160H180v160Zm440 0h160v-160H620v160ZM180-180h160v-160H180v160Zm440 0h160v-160H620v160Z\"/>\n",
              "  </svg>\n",
              "    </button>\n",
              "\n",
              "  <style>\n",
              "    .colab-df-container {\n",
              "      display:flex;\n",
              "      gap: 12px;\n",
              "    }\n",
              "\n",
              "    .colab-df-convert {\n",
              "      background-color: #E8F0FE;\n",
              "      border: none;\n",
              "      border-radius: 50%;\n",
              "      cursor: pointer;\n",
              "      display: none;\n",
              "      fill: #1967D2;\n",
              "      height: 32px;\n",
              "      padding: 0 0 0 0;\n",
              "      width: 32px;\n",
              "    }\n",
              "\n",
              "    .colab-df-convert:hover {\n",
              "      background-color: #E2EBFA;\n",
              "      box-shadow: 0px 1px 2px rgba(60, 64, 67, 0.3), 0px 1px 3px 1px rgba(60, 64, 67, 0.15);\n",
              "      fill: #174EA6;\n",
              "    }\n",
              "\n",
              "    .colab-df-buttons div {\n",
              "      margin-bottom: 4px;\n",
              "    }\n",
              "\n",
              "    [theme=dark] .colab-df-convert {\n",
              "      background-color: #3B4455;\n",
              "      fill: #D2E3FC;\n",
              "    }\n",
              "\n",
              "    [theme=dark] .colab-df-convert:hover {\n",
              "      background-color: #434B5C;\n",
              "      box-shadow: 0px 1px 3px 1px rgba(0, 0, 0, 0.15);\n",
              "      filter: drop-shadow(0px 1px 2px rgba(0, 0, 0, 0.3));\n",
              "      fill: #FFFFFF;\n",
              "    }\n",
              "  </style>\n",
              "\n",
              "    <script>\n",
              "      const buttonEl =\n",
              "        document.querySelector('#df-5d7e37f9-6323-436e-b340-1d858f28826b button.colab-df-convert');\n",
              "      buttonEl.style.display =\n",
              "        google.colab.kernel.accessAllowed ? 'block' : 'none';\n",
              "\n",
              "      async function convertToInteractive(key) {\n",
              "        const element = document.querySelector('#df-5d7e37f9-6323-436e-b340-1d858f28826b');\n",
              "        const dataTable =\n",
              "          await google.colab.kernel.invokeFunction('convertToInteractive',\n",
              "                                                    [key], {});\n",
              "        if (!dataTable) return;\n",
              "\n",
              "        const docLinkHtml = 'Like what you see? Visit the ' +\n",
              "          '<a target=\"_blank\" href=https://colab.research.google.com/notebooks/data_table.ipynb>data table notebook</a>'\n",
              "          + ' to learn more about interactive tables.';\n",
              "        element.innerHTML = '';\n",
              "        dataTable['output_type'] = 'display_data';\n",
              "        await google.colab.output.renderOutput(dataTable, element);\n",
              "        const docLink = document.createElement('div');\n",
              "        docLink.innerHTML = docLinkHtml;\n",
              "        element.appendChild(docLink);\n",
              "      }\n",
              "    </script>\n",
              "  </div>\n",
              "\n",
              "\n",
              "<div id=\"df-184e1a84-e806-4828-9137-3b84b340e649\">\n",
              "  <button class=\"colab-df-quickchart\" onclick=\"quickchart('df-184e1a84-e806-4828-9137-3b84b340e649')\"\n",
              "            title=\"Suggest charts\"\n",
              "            style=\"display:none;\">\n",
              "\n",
              "<svg xmlns=\"http://www.w3.org/2000/svg\" height=\"24px\"viewBox=\"0 0 24 24\"\n",
              "     width=\"24px\">\n",
              "    <g>\n",
              "        <path d=\"M19 3H5c-1.1 0-2 .9-2 2v14c0 1.1.9 2 2 2h14c1.1 0 2-.9 2-2V5c0-1.1-.9-2-2-2zM9 17H7v-7h2v7zm4 0h-2V7h2v10zm4 0h-2v-4h2v4z\"/>\n",
              "    </g>\n",
              "</svg>\n",
              "  </button>\n",
              "\n",
              "<style>\n",
              "  .colab-df-quickchart {\n",
              "      --bg-color: #E8F0FE;\n",
              "      --fill-color: #1967D2;\n",
              "      --hover-bg-color: #E2EBFA;\n",
              "      --hover-fill-color: #174EA6;\n",
              "      --disabled-fill-color: #AAA;\n",
              "      --disabled-bg-color: #DDD;\n",
              "  }\n",
              "\n",
              "  [theme=dark] .colab-df-quickchart {\n",
              "      --bg-color: #3B4455;\n",
              "      --fill-color: #D2E3FC;\n",
              "      --hover-bg-color: #434B5C;\n",
              "      --hover-fill-color: #FFFFFF;\n",
              "      --disabled-bg-color: #3B4455;\n",
              "      --disabled-fill-color: #666;\n",
              "  }\n",
              "\n",
              "  .colab-df-quickchart {\n",
              "    background-color: var(--bg-color);\n",
              "    border: none;\n",
              "    border-radius: 50%;\n",
              "    cursor: pointer;\n",
              "    display: none;\n",
              "    fill: var(--fill-color);\n",
              "    height: 32px;\n",
              "    padding: 0;\n",
              "    width: 32px;\n",
              "  }\n",
              "\n",
              "  .colab-df-quickchart:hover {\n",
              "    background-color: var(--hover-bg-color);\n",
              "    box-shadow: 0 1px 2px rgba(60, 64, 67, 0.3), 0 1px 3px 1px rgba(60, 64, 67, 0.15);\n",
              "    fill: var(--button-hover-fill-color);\n",
              "  }\n",
              "\n",
              "  .colab-df-quickchart-complete:disabled,\n",
              "  .colab-df-quickchart-complete:disabled:hover {\n",
              "    background-color: var(--disabled-bg-color);\n",
              "    fill: var(--disabled-fill-color);\n",
              "    box-shadow: none;\n",
              "  }\n",
              "\n",
              "  .colab-df-spinner {\n",
              "    border: 2px solid var(--fill-color);\n",
              "    border-color: transparent;\n",
              "    border-bottom-color: var(--fill-color);\n",
              "    animation:\n",
              "      spin 1s steps(1) infinite;\n",
              "  }\n",
              "\n",
              "  @keyframes spin {\n",
              "    0% {\n",
              "      border-color: transparent;\n",
              "      border-bottom-color: var(--fill-color);\n",
              "      border-left-color: var(--fill-color);\n",
              "    }\n",
              "    20% {\n",
              "      border-color: transparent;\n",
              "      border-left-color: var(--fill-color);\n",
              "      border-top-color: var(--fill-color);\n",
              "    }\n",
              "    30% {\n",
              "      border-color: transparent;\n",
              "      border-left-color: var(--fill-color);\n",
              "      border-top-color: var(--fill-color);\n",
              "      border-right-color: var(--fill-color);\n",
              "    }\n",
              "    40% {\n",
              "      border-color: transparent;\n",
              "      border-right-color: var(--fill-color);\n",
              "      border-top-color: var(--fill-color);\n",
              "    }\n",
              "    60% {\n",
              "      border-color: transparent;\n",
              "      border-right-color: var(--fill-color);\n",
              "    }\n",
              "    80% {\n",
              "      border-color: transparent;\n",
              "      border-right-color: var(--fill-color);\n",
              "      border-bottom-color: var(--fill-color);\n",
              "    }\n",
              "    90% {\n",
              "      border-color: transparent;\n",
              "      border-bottom-color: var(--fill-color);\n",
              "    }\n",
              "  }\n",
              "</style>\n",
              "\n",
              "  <script>\n",
              "    async function quickchart(key) {\n",
              "      const quickchartButtonEl =\n",
              "        document.querySelector('#' + key + ' button');\n",
              "      quickchartButtonEl.disabled = true;  // To prevent multiple clicks.\n",
              "      quickchartButtonEl.classList.add('colab-df-spinner');\n",
              "      try {\n",
              "        const charts = await google.colab.kernel.invokeFunction(\n",
              "            'suggestCharts', [key], {});\n",
              "      } catch (error) {\n",
              "        console.error('Error during call to suggestCharts:', error);\n",
              "      }\n",
              "      quickchartButtonEl.classList.remove('colab-df-spinner');\n",
              "      quickchartButtonEl.classList.add('colab-df-quickchart-complete');\n",
              "    }\n",
              "    (() => {\n",
              "      let quickchartButtonEl =\n",
              "        document.querySelector('#df-184e1a84-e806-4828-9137-3b84b340e649 button');\n",
              "      quickchartButtonEl.style.display =\n",
              "        google.colab.kernel.accessAllowed ? 'block' : 'none';\n",
              "    })();\n",
              "  </script>\n",
              "</div>\n",
              "    </div>\n",
              "  </div>\n"
            ]
          },
          "metadata": {},
          "execution_count": 134
        }
      ],
      "source": [
        "df_new"
      ]
    },
    {
      "cell_type": "markdown",
      "metadata": {
        "id": "ti4_yOn3A2gT"
      },
      "source": [
        "**转为pyspark计算**"
      ]
    },
    {
      "cell_type": "code",
      "execution_count": 135,
      "metadata": {
        "id": "MnPXwhFN_GcG"
      },
      "outputs": [],
      "source": [
        "# 初始化spark会话\n",
        "spark = SparkSession.builder.getOrCreate()"
      ]
    },
    {
      "cell_type": "code",
      "execution_count": 136,
      "metadata": {
        "colab": {
          "base_uri": "https://localhost:8080/"
        },
        "id": "W9vxt6rJ3W4O",
        "outputId": "f248ed33-4ef1-4b56-99b7-a22ddb2496df"
      },
      "outputs": [
        {
          "output_type": "stream",
          "name": "stdout",
          "text": [
            "+-------+----------+-------------+----------------+--------------------+--------------------+-------------------------+\n",
            "|user_id| coupon_id|coupon_reduce|coupon_threshold|          is_convert|     control_convert|expected_threshold_uplift|\n",
            "+-------+----------+-------------+----------------+--------------------+--------------------+-------------------------+\n",
            "|3790260|2060114740|           20|              60| 0.23396696208735995|0.003081724383531...|       13.853114262229724|\n",
            "|3790260|1806204031|           10|              60| 0.17352928847960694|0.003081724383531...|       10.226853845764543|\n",
            "|3790260|4096652575|           10|              40| 0.16391737573102966|0.003081724383531...|        6.433426053899938|\n",
            "|3790260|1234832524|            0|              -1|0.003081724383531...|0.003081724383531...|                     -0.0|\n",
            "|4687825|2060114740|           20|              60|  0.2757289275003614|2.786015915007423E-4|       16.527019554531638|\n",
            "|4687825|1806204031|           10|              60| 0.13341209053564848|2.786015915007423E-4|        7.988009336648863|\n",
            "|4687825|4096652575|           10|              40|  0.2750688572495713|2.786015915007423E-4|       10.991610226322823|\n",
            "|4687825|1234832524|            0|              -1|2.786015915007423E-4|2.786015915007423E-4|                     -0.0|\n",
            "|5077519|2060114740|           20|              60| 0.18763644920778796|0.001924419173698...|       11.142721802045354|\n",
            "|5077519|1806204031|           10|              60|  0.1834532368239207|0.001924419173698...|       10.891729059013318|\n",
            "|5077519|4096652575|           10|              40| 0.16779279576240982|0.001924419173698...|        6.634735063548444|\n",
            "|5077519|1234832524|            0|              -1|0.001924419173698...|0.001924419173698...|                     -0.0|\n",
            "|7927329|2060114740|           20|              60|  0.0958993775979146|1.933541143776507E-4|        5.742361409012217|\n",
            "|7927329|1806204031|           10|              60| 0.04422005788618074|1.933541143776507E-4|       2.6416022263081853|\n",
            "|7927329|4096652575|           10|              40| 0.23653344394723919|1.933541143776507E-4|        9.453603593314462|\n",
            "|7927329|1234832524|            0|              -1|1.933541143776507E-4|1.933541143776507E-4|                     -0.0|\n",
            "+-------+----------+-------------+----------------+--------------------+--------------------+-------------------------+\n",
            "\n"
          ]
        }
      ],
      "source": [
        "spark_df_old = spark.createDataFrame(df_old)\n",
        "spark_df_old.show()"
      ]
    },
    {
      "cell_type": "code",
      "execution_count": 137,
      "metadata": {
        "colab": {
          "base_uri": "https://localhost:8080/"
        },
        "id": "ta97Sx5R_UPw",
        "outputId": "36f69250-5450-45c1-d31c-b8e6e4dcffac"
      },
      "outputs": [
        {
          "output_type": "stream",
          "name": "stdout",
          "text": [
            "+-------+----------+-------------+----------------+--------------------+---------------+-------------------------+\n",
            "|user_id| coupon_id|coupon_reduce|coupon_threshold|          is_convert|control_convert|expected_threshold_uplift|\n",
            "+-------+----------+-------------+----------------+--------------------+---------------+-------------------------+\n",
            "|3790260|2060114740|           20|              98|  0.1715053967759044|              0|       16.807528884038632|\n",
            "|3790260|1806204031|           10|              98|0.042031663648089315|              0|        4.119103037512753|\n",
            "|3790260|4096652575|           10|              68| 0.19547985868769374|              0|       13.292630390763174|\n",
            "|3790260|1234832524|            0|              -1|                 0.0|              0|                     -0.0|\n",
            "|4687825|2060114740|           20|              98| 0.13038360772451696|              0|       12.777593557002662|\n",
            "|4687825|1806204031|           10|              98| 0.27390174015734736|              0|        26.84237053542004|\n",
            "|4687825|4096652575|           10|              68|  0.0325955610237338|              0|       2.2164981496138987|\n",
            "|4687825|1234832524|            0|              -1|                 0.0|              0|                     -0.0|\n",
            "|5077519|2060114740|           20|              98|0.044863595515040176|              0|        4.396632360473937|\n",
            "|5077519|1806204031|           10|              98| 0.23127825719311065|              0|       22.665269204924844|\n",
            "|5077519|4096652575|           10|              68|   0.269772739413616|              0|        18.34454628012589|\n",
            "|5077519|1234832524|            0|              -1|                 0.0|              0|                     -0.0|\n",
            "|7927329|2060114740|           20|              98|0.006954534196861031|              0|        0.681544351292381|\n",
            "|7927329|1806204031|           10|              98|0.044381315320420965|              0|        4.349368901401254|\n",
            "|7927329|4096652575|           10|              68| 0.28321005054962844|              0|       19.258283437374736|\n",
            "|7927329|1234832524|            0|              -1|                 0.0|              0|                     -0.0|\n",
            "+-------+----------+-------------+----------------+--------------------+---------------+-------------------------+\n",
            "\n"
          ]
        }
      ],
      "source": [
        "spark_df_new = spark.createDataFrame(df_new)\n",
        "spark_df_new.show()"
      ]
    },
    {
      "cell_type": "code",
      "execution_count": 138,
      "metadata": {
        "colab": {
          "base_uri": "https://localhost:8080/"
        },
        "id": "HlaYp5ki_pSU",
        "outputId": "1693bc1c-b01b-47e1-cb58-dcc4a290d8cf"
      },
      "outputs": [
        {
          "output_type": "stream",
          "name": "stdout",
          "text": [
            "+-------+--------------------+--------------------+---------------+----------------+-------------------------+\n",
            "|user_id|          is_convert|           coupon_id|  coupon_reduce|coupon_threshold|expected_threshold_uplift|\n",
            "+-------+--------------------+--------------------+---------------+----------------+-------------------------+\n",
            "|3790260|[0.23396696208735...|[2060114740, 1806...|[20, 10, 10, 0]|[60, 60, 40, -1]|     [13.8531142622297...|\n",
            "|4687825|[0.27572892750036...|[2060114740, 1806...|[20, 10, 10, 0]|[60, 60, 40, -1]|     [16.5270195545316...|\n",
            "|5077519|[0.18763644920778...|[2060114740, 1806...|[20, 10, 10, 0]|[60, 60, 40, -1]|     [11.1427218020453...|\n",
            "|7927329|[0.09589937759791...|[2060114740, 1806...|[20, 10, 10, 0]|[60, 60, 40, -1]|     [5.74236140901221...|\n",
            "+-------+--------------------+--------------------+---------------+----------------+-------------------------+\n",
            "\n"
          ]
        }
      ],
      "source": [
        "result_df_old = spark_df_old.groupby('user_id').agg(\n",
        "    F.collect_list('is_convert').alias('is_convert'),\n",
        "    F.collect_list('coupon_id').alias('coupon_id'),\n",
        "    F.collect_list('coupon_reduce').alias('coupon_reduce'),\n",
        "    F.collect_list('coupon_threshold').alias('coupon_threshold'),\n",
        "    F.collect_list('expected_threshold_uplift').alias('expected_threshold_uplift'),).cache()\n",
        "\n",
        "result_df_old.show()"
      ]
    },
    {
      "cell_type": "code",
      "source": [
        "result_df_new = spark_df_new.groupby('user_id').agg(\n",
        "    F.collect_list('is_convert').alias('is_convert'),\n",
        "    F.collect_list('coupon_id').alias('coupon_id'),\n",
        "    F.collect_list('coupon_reduce').alias('coupon_reduce'),\n",
        "    F.collect_list('coupon_threshold').alias('coupon_threshold'),\n",
        "    F.collect_list('expected_threshold_uplift').alias('expected_threshold_uplift'),).cache()\n",
        "\n",
        "result_df_new.show()"
      ],
      "metadata": {
        "colab": {
          "base_uri": "https://localhost:8080/"
        },
        "id": "2ozaDSDFw_0g",
        "outputId": "a0f53aff-ac0a-4ba9-aebf-dcfb8591ac27"
      },
      "execution_count": 139,
      "outputs": [
        {
          "output_type": "stream",
          "name": "stdout",
          "text": [
            "+-------+--------------------+--------------------+---------------+----------------+-------------------------+\n",
            "|user_id|          is_convert|           coupon_id|  coupon_reduce|coupon_threshold|expected_threshold_uplift|\n",
            "+-------+--------------------+--------------------+---------------+----------------+-------------------------+\n",
            "|3790260|[0.17150539677590...|[2060114740, 1806...|[20, 10, 10, 0]|[98, 98, 68, -1]|     [16.8075288840386...|\n",
            "|4687825|[0.13038360772451...|[2060114740, 1806...|[20, 10, 10, 0]|[98, 98, 68, -1]|     [12.7775935570026...|\n",
            "|5077519|[0.04486359551504...|[2060114740, 1806...|[20, 10, 10, 0]|[98, 98, 68, -1]|     [4.39663236047393...|\n",
            "|7927329|[0.00695453419686...|[2060114740, 1806...|[20, 10, 10, 0]|[98, 98, 68, -1]|     [0.68154435129238...|\n",
            "+-------+--------------------+--------------------+---------------+----------------+-------------------------+\n",
            "\n"
          ]
        }
      ]
    },
    {
      "cell_type": "markdown",
      "metadata": {
        "id": "Cofj2GtVA98k"
      },
      "source": [
        "**MCKP求解**"
      ]
    },
    {
      "cell_type": "code",
      "execution_count": 140,
      "metadata": {
        "id": "SBWTQKd8ATYu"
      },
      "outputs": [],
      "source": [
        "epoch = 1000\n",
        "B = 20\n",
        "C = 1 * B\n",
        "alpha = 0.01\n",
        "lr_decay = 0.98"
      ]
    },
    {
      "cell_type": "code",
      "execution_count": 141,
      "metadata": {
        "id": "udrVJPadAiJS"
      },
      "outputs": [],
      "source": [
        "def MCKP(df, epoch, B, C, alpha, lr_decay=1):\n",
        "    N = df.count()\n",
        "    lambda_B = 0\n",
        "    lambda_C = 0\n",
        "\n",
        "    for _ in tqdm(range(epoch)):\n",
        "\n",
        "        temp = df.cache()\n",
        "\n",
        "        # 固定lambda，更新xij，选择收益最大的优惠券，lamda_B * B为常量，没有计算进来\n",
        "        temp = temp.withColumn('score', F.expr('zip_with(is_convert, coupon_reduce, (x, y) -> (x - %f * y))' % (lambda_B)))\n",
        "        temp = temp.withColumn('score', F.expr('zip_with(score, expected_threshold_uplift, (x, y) -> (x + %f * y))' % (lambda_C)))\n",
        "        temp = temp.withColumn('choice', F.expr('array_position(score, array_max(score)) - 1'))\n",
        "\n",
        "        # 固定优惠券，更新lambda\n",
        "        delta_B = temp.select(F.sum(F.col('coupon_reduce')[F.col('choice')])).collect()[0][0]\n",
        "        lambda_B = max(0, lambda_B - alpha * (B - delta_B)/N)\n",
        "\n",
        "        delta_C = temp.select(F.sum(F.col('expected_threshold_uplift')[F.col('choice')])).collect()[0][0]\n",
        "        lambda_C = max(0, lambda_C - alpha * (delta_C - C)/N)\n",
        "\n",
        "        total_budget = temp.select(F.sum(F.col('coupon_reduce')[F.col('choice')]).alias('total_budget')).toPandas()['total_budget'][0]\n",
        "        budget_offset = total_budget / B - 1\n",
        "\n",
        "        if _ % 100 == 0:\n",
        "            print(\"epoch: {0}, lambda_B: {1}, lambda_C: {2}, budget_offset: {3}\".format(_, lambda_B, lambda_C, budget_offset))\n",
        "\n",
        "        alpha *= lr_decay\n",
        "        temp.unpersist()\n",
        "\n",
        "    print(\"lambda_B: {0}, lambda_C: {1}, budget_offset: {2}\".format(lambda_B, lambda_C, budget_offset))\n",
        "    result = temp.withColumn('choose_incentive', F.col('coupon_id')[F.col('choice')])\n",
        "    result.groupby('choose_incentive').count().show()\n",
        "\n",
        "    return temp"
      ]
    },
    {
      "cell_type": "code",
      "execution_count": 142,
      "metadata": {
        "colab": {
          "base_uri": "https://localhost:8080/"
        },
        "id": "wEs3XBK-AkQj",
        "outputId": "d45d5cde-9790-4845-9500-ab37e4d2525a"
      },
      "outputs": [
        {
          "output_type": "stream",
          "name": "stderr",
          "text": [
            "  0%|          | 1/1000 [00:00<04:17,  3.88it/s]"
          ]
        },
        {
          "output_type": "stream",
          "name": "stdout",
          "text": [
            "epoch: 0, lambda_B: 0.125, lambda_C: 0, budget_offset: 2.5\n"
          ]
        },
        {
          "output_type": "stream",
          "name": "stderr",
          "text": [
            " 10%|█         | 101/1000 [00:25<04:01,  3.72it/s]"
          ]
        },
        {
          "output_type": "stream",
          "name": "stdout",
          "text": [
            "epoch: 100, lambda_B: 0.031139924315292465, lambda_C: 0.012075579032960602, budget_offset: -0.5\n"
          ]
        },
        {
          "output_type": "stream",
          "name": "stderr",
          "text": [
            " 20%|██        | 201/1000 [00:52<03:42,  3.60it/s]"
          ]
        },
        {
          "output_type": "stream",
          "name": "stdout",
          "text": [
            "epoch: 200, lambda_B: 0.029570124467447313, lambda_C: 0.006818659244324553, budget_offset: 0.0\n"
          ]
        },
        {
          "output_type": "stream",
          "name": "stderr",
          "text": [
            " 30%|███       | 301/1000 [01:17<02:27,  4.74it/s]"
          ]
        },
        {
          "output_type": "stream",
          "name": "stdout",
          "text": [
            "epoch: 300, lambda_B: 0.02938191116013414, lambda_C: 0.006164576835713028, budget_offset: 0.0\n"
          ]
        },
        {
          "output_type": "stream",
          "name": "stderr",
          "text": [
            " 40%|████      | 402/1000 [01:39<02:03,  4.85it/s]"
          ]
        },
        {
          "output_type": "stream",
          "name": "stdout",
          "text": [
            "epoch: 400, lambda_B: 0.029362715772819698, lambda_C: 0.006072382357427072, budget_offset: 0.0\n"
          ]
        },
        {
          "output_type": "stream",
          "name": "stderr",
          "text": [
            " 50%|█████     | 501/1000 [02:02<01:36,  5.14it/s]"
          ]
        },
        {
          "output_type": "stream",
          "name": "stdout",
          "text": [
            "epoch: 500, lambda_B: 0.02936050579976468, lambda_C: 0.006059838199086227, budget_offset: 0.0\n"
          ]
        },
        {
          "output_type": "stream",
          "name": "stderr",
          "text": [
            " 60%|██████    | 602/1000 [02:24<01:14,  5.33it/s]"
          ]
        },
        {
          "output_type": "stream",
          "name": "stdout",
          "text": [
            "epoch: 600, lambda_B: 0.02936050579976468, lambda_C: 0.0060578975268272325, budget_offset: 0.0\n"
          ]
        },
        {
          "output_type": "stream",
          "name": "stderr",
          "text": [
            " 70%|███████   | 701/1000 [02:45<01:21,  3.65it/s]"
          ]
        },
        {
          "output_type": "stream",
          "name": "stdout",
          "text": [
            "epoch: 700, lambda_B: 0.02936050579976468, lambda_C: 0.006057640155734101, budget_offset: 0.0\n"
          ]
        },
        {
          "output_type": "stream",
          "name": "stderr",
          "text": [
            " 80%|████████  | 801/1000 [03:07<00:38,  5.23it/s]"
          ]
        },
        {
          "output_type": "stream",
          "name": "stdout",
          "text": [
            "epoch: 800, lambda_B: 0.02936050579976468, lambda_C: 0.006057606023294031, budget_offset: 0.0\n"
          ]
        },
        {
          "output_type": "stream",
          "name": "stderr",
          "text": [
            " 90%|█████████ | 902/1000 [03:28<00:19,  5.15it/s]"
          ]
        },
        {
          "output_type": "stream",
          "name": "stdout",
          "text": [
            "epoch: 900, lambda_B: 0.02936050579976468, lambda_C: 0.0060576014966649844, budget_offset: 0.0\n"
          ]
        },
        {
          "output_type": "stream",
          "name": "stderr",
          "text": [
            "100%|██████████| 1000/1000 [03:51<00:00,  4.32it/s]\n"
          ]
        },
        {
          "output_type": "stream",
          "name": "stdout",
          "text": [
            "lambda_B: 0.02936050579976468, lambda_C: 0.006057600898218651, budget_offset: 0.0\n",
            "+----------------+-----+\n",
            "|choose_incentive|count|\n",
            "+----------------+-----+\n",
            "|      1234832524|    2|\n",
            "|      4096652575|    2|\n",
            "+----------------+-----+\n",
            "\n"
          ]
        }
      ],
      "source": [
        "result_old = MCKP(result_df_old, epoch, B, C, alpha, lr_decay)"
      ]
    },
    {
      "cell_type": "code",
      "execution_count": 143,
      "metadata": {
        "id": "RHFzkJmKAm8X"
      },
      "outputs": [],
      "source": [
        "result_old = result_old.withColumn('choose_coupon', F.col('coupon_id')[F.col('choice')]) \\\n",
        "                        .withColumn('choose_budget', F.col('coupon_reduce')[F.col('choice')]) \\\n",
        "                        .withColumn('choose_cost', F.col('coupon_threshold')[F.col('choice')])"
      ]
    },
    {
      "cell_type": "code",
      "execution_count": 144,
      "metadata": {
        "colab": {
          "base_uri": "https://localhost:8080/"
        },
        "id": "ujHSTH1MCFzX",
        "outputId": "b15268bc-1999-4b16-8104-c590e181892e"
      },
      "outputs": [
        {
          "output_type": "stream",
          "name": "stdout",
          "text": [
            "+-------+--------------------+--------------------+---------------+----------------+-------------------------+--------------------+------+-------------+-------------+-----------+\n",
            "|user_id|          is_convert|           coupon_id|  coupon_reduce|coupon_threshold|expected_threshold_uplift|               score|choice|choose_coupon|choose_budget|choose_cost|\n",
            "+-------+--------------------+--------------------+---------------+----------------+-------------------------+--------------------+------+-------------+-------------+-----------+\n",
            "|3790260|[0.23396696208735...|[2060114740, 1806...|[20, 10, 10, 0]|[60, 60, 40, -1]|     [13.8531142622297...|[-0.2693308717120...|     3|   1234832524|            0|         -1|\n",
            "|4687825|[0.27572892750036...|[2060114740, 1806...|[20, 10, 10, 0]|[60, 60, 40, -1]|     [16.5270195545316...|[-0.2113703880382...|     2|   4096652575|           10|         40|\n",
            "|5077519|[0.18763644920778...|[2060114740, 1806...|[20, 10, 10, 0]|[60, 60, 40, -1]|     [11.1427218020453...|[-0.3320809421154...|     3|   1234832524|            0|         -1|\n",
            "|7927329|[0.09589937759791...|[2060114740, 1806...|[20, 10, 10, 0]|[60, 60, 40, -1]|     [5.74236140901221...|[-0.4565333969862...|     2|   4096652575|           10|         40|\n",
            "+-------+--------------------+--------------------+---------------+----------------+-------------------------+--------------------+------+-------------+-------------+-----------+\n",
            "\n"
          ]
        }
      ],
      "source": [
        "result_old.show()"
      ]
    },
    {
      "cell_type": "code",
      "source": [
        "epoch = 1000\n",
        "B = 30\n",
        "C = 1 * B\n",
        "alpha = 0.01\n",
        "lr_decay = 0.98"
      ],
      "metadata": {
        "id": "mlKD-_I03ziV"
      },
      "execution_count": 145,
      "outputs": []
    },
    {
      "cell_type": "code",
      "execution_count": 146,
      "metadata": {
        "id": "K68swAR2BV1p",
        "colab": {
          "base_uri": "https://localhost:8080/"
        },
        "outputId": "f12e1956-265d-466b-ceb9-55f173bb1eee"
      },
      "outputs": [
        {
          "output_type": "stream",
          "name": "stderr",
          "text": [
            "  0%|          | 1/1000 [00:00<03:25,  4.87it/s]"
          ]
        },
        {
          "output_type": "stream",
          "name": "stdout",
          "text": [
            "epoch: 0, lambda_B: 0.025, lambda_C: 0, budget_offset: 0.33333333333333326\n"
          ]
        },
        {
          "output_type": "stream",
          "name": "stderr",
          "text": [
            " 10%|█         | 102/1000 [00:21<02:48,  5.32it/s]"
          ]
        },
        {
          "output_type": "stream",
          "name": "stdout",
          "text": [
            "epoch: 100, lambda_B: 0.025, lambda_C: 0, budget_offset: 0.0\n"
          ]
        },
        {
          "output_type": "stream",
          "name": "stderr",
          "text": [
            " 20%|██        | 201/1000 [00:43<03:22,  3.94it/s]"
          ]
        },
        {
          "output_type": "stream",
          "name": "stdout",
          "text": [
            "epoch: 200, lambda_B: 0.025, lambda_C: 0, budget_offset: 0.0\n"
          ]
        },
        {
          "output_type": "stream",
          "name": "stderr",
          "text": [
            " 30%|███       | 302/1000 [01:04<02:09,  5.38it/s]"
          ]
        },
        {
          "output_type": "stream",
          "name": "stdout",
          "text": [
            "epoch: 300, lambda_B: 0.025, lambda_C: 0, budget_offset: 0.0\n"
          ]
        },
        {
          "output_type": "stream",
          "name": "stderr",
          "text": [
            " 40%|████      | 402/1000 [01:24<01:55,  5.19it/s]"
          ]
        },
        {
          "output_type": "stream",
          "name": "stdout",
          "text": [
            "epoch: 400, lambda_B: 0.025, lambda_C: 0, budget_offset: 0.0\n"
          ]
        },
        {
          "output_type": "stream",
          "name": "stderr",
          "text": [
            " 50%|█████     | 502/1000 [01:47<01:42,  4.85it/s]"
          ]
        },
        {
          "output_type": "stream",
          "name": "stdout",
          "text": [
            "epoch: 500, lambda_B: 0.025, lambda_C: 0, budget_offset: 0.0\n"
          ]
        },
        {
          "output_type": "stream",
          "name": "stderr",
          "text": [
            " 60%|██████    | 602/1000 [02:07<01:14,  5.35it/s]"
          ]
        },
        {
          "output_type": "stream",
          "name": "stdout",
          "text": [
            "epoch: 600, lambda_B: 0.025, lambda_C: 0, budget_offset: 0.0\n"
          ]
        },
        {
          "output_type": "stream",
          "name": "stderr",
          "text": [
            " 70%|███████   | 701/1000 [02:28<01:27,  3.40it/s]"
          ]
        },
        {
          "output_type": "stream",
          "name": "stdout",
          "text": [
            "epoch: 700, lambda_B: 0.025, lambda_C: 0, budget_offset: 0.0\n"
          ]
        },
        {
          "output_type": "stream",
          "name": "stderr",
          "text": [
            " 80%|████████  | 802/1000 [02:50<00:36,  5.38it/s]"
          ]
        },
        {
          "output_type": "stream",
          "name": "stdout",
          "text": [
            "epoch: 800, lambda_B: 0.025, lambda_C: 0, budget_offset: 0.0\n"
          ]
        },
        {
          "output_type": "stream",
          "name": "stderr",
          "text": [
            " 90%|█████████ | 902/1000 [03:10<00:18,  5.30it/s]"
          ]
        },
        {
          "output_type": "stream",
          "name": "stdout",
          "text": [
            "epoch: 900, lambda_B: 0.025, lambda_C: 0, budget_offset: 0.0\n"
          ]
        },
        {
          "output_type": "stream",
          "name": "stderr",
          "text": [
            "100%|██████████| 1000/1000 [03:30<00:00,  4.74it/s]\n"
          ]
        },
        {
          "output_type": "stream",
          "name": "stdout",
          "text": [
            "lambda_B: 0.025, lambda_C: 0, budget_offset: 0.0\n",
            "+----------------+-----+\n",
            "|choose_incentive|count|\n",
            "+----------------+-----+\n",
            "|      1234832524|    1|\n",
            "|      4096652575|    2|\n",
            "|      1806204031|    1|\n",
            "+----------------+-----+\n",
            "\n"
          ]
        }
      ],
      "source": [
        "result_new = MCKP(result_df_new, epoch, B, C, alpha, lr_decay)"
      ]
    },
    {
      "cell_type": "code",
      "execution_count": 147,
      "metadata": {
        "id": "AK7NRumXBV4M"
      },
      "outputs": [],
      "source": [
        "result_new = result_new.withColumn('choose_coupon', F.col('coupon_id')[F.col('choice')]) \\\n",
        "                        .withColumn('choose_budget', F.col('coupon_reduce')[F.col('choice')]) \\\n",
        "                        .withColumn('choose_cost', F.col('coupon_threshold')[F.col('choice')])"
      ]
    },
    {
      "cell_type": "code",
      "execution_count": 148,
      "metadata": {
        "id": "NsnavUPjCwkk",
        "colab": {
          "base_uri": "https://localhost:8080/"
        },
        "outputId": "9697499c-0690-49df-fd72-adfc5127f4a5"
      },
      "outputs": [
        {
          "output_type": "stream",
          "name": "stdout",
          "text": [
            "+-------+--------------------+--------------------+---------------+----------------+-------------------------+--------------------+------+-------------+-------------+-----------+\n",
            "|user_id|          is_convert|           coupon_id|  coupon_reduce|coupon_threshold|expected_threshold_uplift|               score|choice|choose_coupon|choose_budget|choose_cost|\n",
            "+-------+--------------------+--------------------+---------------+----------------+-------------------------+--------------------+------+-------------+-------------+-----------+\n",
            "|3790260|[0.17150539677590...|[2060114740, 1806...|[20, 10, 10, 0]|[98, 98, 68, -1]|     [16.8075288840386...|[-0.3284946032240...|     3|   1234832524|            0|         -1|\n",
            "|4687825|[0.13038360772451...|[2060114740, 1806...|[20, 10, 10, 0]|[98, 98, 68, -1]|     [12.7775935570026...|[-0.3696163922754...|     1|   1806204031|           10|         98|\n",
            "|5077519|[0.04486359551504...|[2060114740, 1806...|[20, 10, 10, 0]|[98, 98, 68, -1]|     [4.39663236047393...|[-0.4551364044849...|     2|   4096652575|           10|         68|\n",
            "|7927329|[0.00695453419686...|[2060114740, 1806...|[20, 10, 10, 0]|[98, 98, 68, -1]|     [0.68154435129238...|[-0.4930454658031...|     2|   4096652575|           10|         68|\n",
            "+-------+--------------------+--------------------+---------------+----------------+-------------------------+--------------------+------+-------------+-------------+-----------+\n",
            "\n"
          ]
        }
      ],
      "source": [
        "result_new.show()"
      ]
    },
    {
      "cell_type": "code",
      "execution_count": 149,
      "metadata": {
        "id": "nRjNTzvACCvK"
      },
      "outputs": [],
      "source": [
        "def solve_binary_search(df, epoch, B, C):\n",
        "    N = df.count()\n",
        "    lambda_B = 0\n",
        "    lambda_B_lb = 0\n",
        "    lambda_B_ub = 10\n",
        "    epsilon = 1e-6\n",
        "\n",
        "    for _ in tqdm(range(epoch)):\n",
        "\n",
        "        temp = df.cache()\n",
        "        lambda_B = (lambda_B_lb + lambda_B_ub) / 2\n",
        "\n",
        "        # 固定lambda，更新xij，选择收益最大的优惠券，lamda_B * B为常量，没有计算进来\n",
        "        temp = temp.withColumn('score', F.expr('zip_with(is_convert, coupon_reduce, (x, y) -> (x - %f * y))' % (lambda_B)))\n",
        "        temp = temp.withColumn('choice', F.expr('array_position(score, array_max(score)) - 1'))\n",
        "\n",
        "        total_budget = temp.select(F.sum(F.col('coupon_reduce')[F.col('choice')]).alias('total_budget')).toPandas()['total_budget'][0]\n",
        "        budget_offset = total_budget / B - 1\n",
        "\n",
        "        print(\"epoch: {0}, lambda_B: {1}, lambda_B_lb: {2}, lambda_B_ub:{3}, budget_offset: {4}\".format(_, lambda_B, lambda_B_lb, lambda_B_ub, budget_offset))\n",
        "\n",
        "        if abs(budget_offset) < epsilon:\n",
        "          break\n",
        "        elif total_budget < B:\n",
        "          lambda_B_ub = lambda_B\n",
        "        else:\n",
        "          lambda_B_lb = lambda_B\n",
        "\n",
        "\n",
        "        temp.unpersist()\n",
        "\n",
        "    print(\"lambda_B: {0}, budget_offset: {1}\".format(lambda_B,budget_offset))\n",
        "\n",
        "    print(\"choose_incentive: \")\n",
        "    result = temp.withColumn('choose_incentive', F.col('coupon_id')[F.col('choice')])\n",
        "    result.groupby('choose_incentive').count().show()\n",
        "\n",
        "    return temp"
      ]
    },
    {
      "cell_type": "code",
      "source": [
        "epoch = 1000\n",
        "B = 20\n",
        "C = 1 * B"
      ],
      "metadata": {
        "id": "TfkC7nQz5qHh"
      },
      "execution_count": 150,
      "outputs": []
    },
    {
      "cell_type": "code",
      "source": [
        "result_old = solve_binary_search(result_df_old, epoch, B, C)"
      ],
      "metadata": {
        "colab": {
          "base_uri": "https://localhost:8080/"
        },
        "id": "52sau75q5jjq",
        "outputId": "1219467e-3018-485c-a5df-4e90ce535753"
      },
      "execution_count": 151,
      "outputs": [
        {
          "output_type": "stream",
          "name": "stderr",
          "text": [
            "  0%|          | 2/1000 [00:00<03:09,  5.27it/s]"
          ]
        },
        {
          "output_type": "stream",
          "name": "stdout",
          "text": [
            "epoch: 0, lambda_B: 5.0, lambda_B_lb: 0, lambda_B_ub:10, budget_offset: -1.0\n",
            "epoch: 1, lambda_B: 2.5, lambda_B_lb: 0, lambda_B_ub:5.0, budget_offset: -1.0\n"
          ]
        },
        {
          "output_type": "stream",
          "name": "stderr",
          "text": [
            "  0%|          | 4/1000 [00:00<02:23,  6.95it/s]"
          ]
        },
        {
          "output_type": "stream",
          "name": "stdout",
          "text": [
            "epoch: 2, lambda_B: 1.25, lambda_B_lb: 0, lambda_B_ub:2.5, budget_offset: -1.0\n",
            "epoch: 3, lambda_B: 0.625, lambda_B_lb: 0, lambda_B_ub:1.25, budget_offset: -1.0\n"
          ]
        },
        {
          "output_type": "stream",
          "name": "stderr",
          "text": [
            "\r  1%|          | 6/1000 [00:00<01:53,  8.77it/s]"
          ]
        },
        {
          "output_type": "stream",
          "name": "stdout",
          "text": [
            "epoch: 4, lambda_B: 0.3125, lambda_B_lb: 0, lambda_B_ub:0.625, budget_offset: -1.0\n",
            "epoch: 5, lambda_B: 0.15625, lambda_B_lb: 0, lambda_B_ub:0.3125, budget_offset: -1.0\n",
            "epoch: 6, lambda_B: 0.078125, lambda_B_lb: 0, lambda_B_ub:0.15625, budget_offset: -1.0\n"
          ]
        },
        {
          "output_type": "stream",
          "name": "stderr",
          "text": [
            "  1%|          | 8/1000 [00:01<02:18,  7.14it/s]\n"
          ]
        },
        {
          "output_type": "stream",
          "name": "stdout",
          "text": [
            "epoch: 7, lambda_B: 0.0390625, lambda_B_lb: 0, lambda_B_ub:0.078125, budget_offset: -1.0\n",
            "epoch: 8, lambda_B: 0.01953125, lambda_B_lb: 0, lambda_B_ub:0.0390625, budget_offset: 0.0\n",
            "lambda_B: 0.01953125, budget_offset: 0.0\n",
            "choose_incentive: \n",
            "+----------------+-----+\n",
            "|choose_incentive|count|\n",
            "+----------------+-----+\n",
            "|      1234832524|    2|\n",
            "|      4096652575|    2|\n",
            "+----------------+-----+\n",
            "\n"
          ]
        }
      ]
    },
    {
      "cell_type": "code",
      "source": [
        "result_old = result_old.withColumn('choose_coupon', F.col('coupon_id')[F.col('choice')]) \\\n",
        "                        .withColumn('choose_budget', F.col('coupon_reduce')[F.col('choice')]) \\\n",
        "                        .withColumn('choose_cost', F.col('coupon_threshold')[F.col('choice')])"
      ],
      "metadata": {
        "id": "QBde3KM_5rK8"
      },
      "execution_count": 152,
      "outputs": []
    },
    {
      "cell_type": "code",
      "source": [
        "result_old.show()"
      ],
      "metadata": {
        "colab": {
          "base_uri": "https://localhost:8080/"
        },
        "id": "vXYoRHuN7sxu",
        "outputId": "05322b7c-1da1-411b-b31a-3cf96a2a1fd6"
      },
      "execution_count": 153,
      "outputs": [
        {
          "output_type": "stream",
          "name": "stdout",
          "text": [
            "+-------+--------------------+--------------------+---------------+----------------+-------------------------+--------------------+------+-------------+-------------+-----------+\n",
            "|user_id|          is_convert|           coupon_id|  coupon_reduce|coupon_threshold|expected_threshold_uplift|               score|choice|choose_coupon|choose_budget|choose_cost|\n",
            "+-------+--------------------+--------------------+---------------+----------------+-------------------------+--------------------+------+-------------+-------------+-----------+\n",
            "|3790260|[0.23396696208735...|[2060114740, 1806...|[20, 10, 10, 0]|[60, 60, 40, -1]|     [13.8531142622297...|[-0.1566530379126...|     3|   1234832524|            0|         -1|\n",
            "|4687825|[0.27572892750036...|[2060114740, 1806...|[20, 10, 10, 0]|[60, 60, 40, -1]|     [16.5270195545316...|[-0.1148910724996...|     2|   4096652575|           10|         40|\n",
            "|5077519|[0.18763644920778...|[2060114740, 1806...|[20, 10, 10, 0]|[60, 60, 40, -1]|     [11.1427218020453...|[-0.2029835507922...|     3|   1234832524|            0|         -1|\n",
            "|7927329|[0.09589937759791...|[2060114740, 1806...|[20, 10, 10, 0]|[60, 60, 40, -1]|     [5.74236140901221...|[-0.2947206224020...|     2|   4096652575|           10|         40|\n",
            "+-------+--------------------+--------------------+---------------+----------------+-------------------------+--------------------+------+-------------+-------------+-----------+\n",
            "\n"
          ]
        }
      ]
    },
    {
      "cell_type": "code",
      "source": [
        "epoch = 1000\n",
        "B = 30\n",
        "C = 1 * B"
      ],
      "metadata": {
        "id": "lKE3MB-S7v6W"
      },
      "execution_count": 154,
      "outputs": []
    },
    {
      "cell_type": "code",
      "source": [
        "result_new = solve_binary_search(result_df_new, epoch, B, C)"
      ],
      "metadata": {
        "colab": {
          "base_uri": "https://localhost:8080/"
        },
        "id": "EAZPlIuh8J8L",
        "outputId": "77fc8218-0d0f-4492-9025-456b8259e330"
      },
      "execution_count": 155,
      "outputs": [
        {
          "output_type": "stream",
          "name": "stderr",
          "text": [
            "  0%|          | 1/1000 [00:00<01:56,  8.56it/s]"
          ]
        },
        {
          "output_type": "stream",
          "name": "stdout",
          "text": [
            "epoch: 0, lambda_B: 5.0, lambda_B_lb: 0, lambda_B_ub:10, budget_offset: -1.0\n"
          ]
        },
        {
          "output_type": "stream",
          "name": "stderr",
          "text": [
            "\r  0%|          | 2/1000 [00:00<01:46,  9.33it/s]"
          ]
        },
        {
          "output_type": "stream",
          "name": "stdout",
          "text": [
            "epoch: 1, lambda_B: 2.5, lambda_B_lb: 0, lambda_B_ub:5.0, budget_offset: -1.0\n",
            "epoch: 2, lambda_B: 1.25, lambda_B_lb: 0, lambda_B_ub:2.5, budget_offset: -1.0\n",
            "epoch: 3, lambda_B: 0.625, lambda_B_lb: 0, lambda_B_ub:1.25, budget_offset: -1.0"
          ]
        },
        {
          "output_type": "stream",
          "name": "stderr",
          "text": [
            "  1%|          | 6/1000 [00:00<01:35, 10.40it/s]"
          ]
        },
        {
          "output_type": "stream",
          "name": "stdout",
          "text": [
            "\n",
            "epoch: 4, lambda_B: 0.3125, lambda_B_lb: 0, lambda_B_ub:0.625, budget_offset: -1.0\n",
            "epoch: 5, lambda_B: 0.15625, lambda_B_lb: 0, lambda_B_ub:0.3125, budget_offset: -1.0\n"
          ]
        },
        {
          "output_type": "stream",
          "name": "stderr",
          "text": [
            "\r  1%|          | 8/1000 [00:00<01:42,  9.65it/s]"
          ]
        },
        {
          "output_type": "stream",
          "name": "stdout",
          "text": [
            "epoch: 6, lambda_B: 0.078125, lambda_B_lb: 0, lambda_B_ub:0.15625, budget_offset: -1.0\n",
            "epoch: 7, lambda_B: 0.0390625, lambda_B_lb: 0, lambda_B_ub:0.078125, budget_offset: -1.0\n",
            "epoch: 8, lambda_B: 0.01953125, lambda_B_lb: 0, lambda_B_ub:0.0390625, budget_offset: 0.33333333333333326"
          ]
        },
        {
          "output_type": "stream",
          "name": "stderr",
          "text": [
            "\r  1%|          | 10/1000 [00:01<01:43,  9.59it/s]"
          ]
        },
        {
          "output_type": "stream",
          "name": "stdout",
          "text": [
            "\n",
            "epoch: 9, lambda_B: 0.029296875, lambda_B_lb: 0.01953125, lambda_B_ub:0.0390625, budget_offset: -1.0\n"
          ]
        },
        {
          "output_type": "stream",
          "name": "stderr",
          "text": [
            "\r  1%|          | 10/1000 [00:01<01:51,  8.87it/s]\n"
          ]
        },
        {
          "output_type": "stream",
          "name": "stdout",
          "text": [
            "epoch: 10, lambda_B: 0.0244140625, lambda_B_lb: 0.01953125, lambda_B_ub:0.029296875, budget_offset: 0.0\n",
            "lambda_B: 0.0244140625, budget_offset: 0.0\n",
            "choose_incentive: \n",
            "+----------------+-----+\n",
            "|choose_incentive|count|\n",
            "+----------------+-----+\n",
            "|      1234832524|    1|\n",
            "|      4096652575|    2|\n",
            "|      1806204031|    1|\n",
            "+----------------+-----+\n",
            "\n"
          ]
        }
      ]
    },
    {
      "cell_type": "code",
      "source": [
        "result_new = result_new.withColumn('choose_coupon', F.col('coupon_id')[F.col('choice')]) \\\n",
        "                        .withColumn('choose_budget', F.col('coupon_reduce')[F.col('choice')]) \\\n",
        "                        .withColumn('choose_cost', F.col('coupon_threshold')[F.col('choice')])"
      ],
      "metadata": {
        "id": "deCxNXYG8J-P"
      },
      "execution_count": 156,
      "outputs": []
    },
    {
      "cell_type": "code",
      "source": [
        "result_new.show()"
      ],
      "metadata": {
        "colab": {
          "base_uri": "https://localhost:8080/"
        },
        "id": "LDlwobzD8PCL",
        "outputId": "eac1940f-bd10-4987-ffaa-5bb09372f4ea"
      },
      "execution_count": 157,
      "outputs": [
        {
          "output_type": "stream",
          "name": "stdout",
          "text": [
            "+-------+--------------------+--------------------+---------------+----------------+-------------------------+--------------------+------+-------------+-------------+-----------+\n",
            "|user_id|          is_convert|           coupon_id|  coupon_reduce|coupon_threshold|expected_threshold_uplift|               score|choice|choose_coupon|choose_budget|choose_cost|\n",
            "+-------+--------------------+--------------------+---------------+----------------+-------------------------+--------------------+------+-------------+-------------+-----------+\n",
            "|3790260|[0.17150539677590...|[2060114740, 1806...|[20, 10, 10, 0]|[98, 98, 68, -1]|     [16.8075288840386...|[-0.3167746032240...|     3|   1234832524|            0|         -1|\n",
            "|4687825|[0.13038360772451...|[2060114740, 1806...|[20, 10, 10, 0]|[98, 98, 68, -1]|     [12.7775935570026...|[-0.3578963922754...|     1|   1806204031|           10|         98|\n",
            "|5077519|[0.04486359551504...|[2060114740, 1806...|[20, 10, 10, 0]|[98, 98, 68, -1]|     [4.39663236047393...|[-0.4434164044849...|     2|   4096652575|           10|         68|\n",
            "|7927329|[0.00695453419686...|[2060114740, 1806...|[20, 10, 10, 0]|[98, 98, 68, -1]|     [0.68154435129238...|[-0.4813254658031...|     2|   4096652575|           10|         68|\n",
            "+-------+--------------------+--------------------+---------------+----------------+-------------------------+--------------------+------+-------------+-------------+-----------+\n",
            "\n"
          ]
        }
      ]
    },
    {
      "cell_type": "code",
      "source": [],
      "metadata": {
        "id": "iwuZYDje8Qw8"
      },
      "execution_count": null,
      "outputs": []
    }
  ],
  "metadata": {
    "colab": {
      "provenance": []
    },
    "kernelspec": {
      "display_name": "Python 3",
      "name": "python3"
    },
    "language_info": {
      "name": "python"
    }
  },
  "nbformat": 4,
  "nbformat_minor": 0
}