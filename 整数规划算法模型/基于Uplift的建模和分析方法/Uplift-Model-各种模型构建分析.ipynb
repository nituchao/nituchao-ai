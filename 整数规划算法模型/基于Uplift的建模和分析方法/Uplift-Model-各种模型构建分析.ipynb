{
 "cells": [
  {
   "cell_type": "markdown",
   "metadata": {},
   "source": [
    "## T-Learner\n",
    "\n",
    "T-Learner(Two Model)是将对照组和实验组分开建模，然后实验组模型与对照组模型响应概率的差即为提升值。\n",
    "\n",
    "论文：https://arxiv.org/pdf/1706.03461.pdf"
   ]
  },
  {
   "cell_type": "code",
   "execution_count": 8,
   "metadata": {},
   "outputs": [
    {
     "name": "stdout",
     "output_type": "stream",
     "text": [
      "T-Learner Uplift End\n"
     ]
    }
   ],
   "source": [
    "from xgboost.sklearn import XGBClassifier\n",
    "from causalml.inference.meta import BaseTClassifier\n",
    "from causalml.dataset import make_uplift_classification\n",
    "from sklearn.model_selection import train_test_split\n",
    "\n",
    "df, x_names = make_uplift_classification(treatment_name=['control', 'treatment'])\n",
    "df_train, df_test = train_test_split(df, test_size=0.2, random_state=111)\n",
    "\n",
    "base_model = XGBClassifier()\n",
    "\n",
    "clf = BaseTClassifier(learner=base_model, control_name='control')\n",
    "clf.fit(df_train[x_names].values,\n",
    "        treatment=df_train['treatment_group_key'].values,\n",
    "        y=df_train['conversion'].values)\n",
    "\n",
    "y_pred = clf.predict(df_test[x_names].values)\n",
    "\n",
    "print(\"T-Learner Uplift End\")"
   ]
  },
  {
   "cell_type": "markdown",
   "metadata": {},
   "source": [
    "## S-Learner\n",
    "S-Learner是指单一模型，把对照组和实验组放在一起建模，把营销动作作为一个特征（如将对照组），特征\n",
    "加入训练特征，如下图所示。在预测时，改变不同的W值计算响应率，从而与对照组相减得到uplift score。\n",
    "\n",
    "论文：https://arxiv.org/pdf/1706.03461.pdf"
   ]
  },
  {
   "cell_type": "code",
   "execution_count": 10,
   "metadata": {},
   "outputs": [
    {
     "name": "stdout",
     "output_type": "stream",
     "text": [
      "S-Learner Uplift End\n"
     ]
    }
   ],
   "source": [
    "from xgboost.sklearn import XGBClassifier\n",
    "from causalml.inference.meta import BaseSClassifier\n",
    "from causalml.dataset import make_uplift_classification\n",
    "from sklearn.model_selection import train_test_split\n",
    "\n",
    "df, x_names = make_uplift_classification(treatment_name=['control', 'treatment'])\n",
    "df_train, df_test = train_test_split(df, test_size=0.2, random_state=111)\n",
    "\n",
    "base_model = XGBClassifier()\n",
    "clf = BaseSClassifier(learner=base_model, control_name='control')\n",
    "clf.fit(df_train[x_names].values, \n",
    "        treatment=df_train['treatment_group_key'].values, \n",
    "        y=df_train['conversion'].values)\n",
    "\n",
    "y_pred = clf.predict(df_test[x_names].values)\n",
    "\n",
    "print(\"S-Learner Uplift End\")"
   ]
  },
  {
   "cell_type": "markdown",
   "metadata": {},
   "source": [
    "## X-Learner\n",
    "X-Learner是在T-Learner的基础上优化的一种方法，利用了全量的数据进行预测，且对于Treatment和Control样本不平衡时，也有较好的效果。\n",
    "\n",
    "论文：https://arxiv.org/pdf/1706.03461.pdf"
   ]
  },
  {
   "cell_type": "code",
   "execution_count": 12,
   "metadata": {},
   "outputs": [
    {
     "name": "stdout",
     "output_type": "stream",
     "text": [
      "X-Learner Uplift End\n"
     ]
    }
   ],
   "source": [
    "from xgboost.sklearn import XGBClassifier, XGBRegressor\n",
    "from causalml.inference.meta import BaseXClassifier\n",
    "from causalml.dataset import make_uplift_classification\n",
    "from sklearn.model_selection import train_test_split\n",
    "\n",
    "df, x_names = make_uplift_classification(treatment_name=['control', 'treatment'])\n",
    "df_train, df_test = train_test_split(df, test_size=0.2, random_state=111)\n",
    "\n",
    "clf = BaseXClassifier(outcome_learner=XGBClassifier(), \n",
    "                      effect_learner=XGBRegressor(), \n",
    "                      control_name='control')\n",
    "clf.fit(df_train[x_names].values,\n",
    "        treatment=df_train['treatment_group_key'].values,\n",
    "        y=df_train['conversion'].values)\n",
    "\n",
    "y_pred = clf.predict(df_test[x_names].values)\n",
    "\n",
    "print(\"X-Learner Uplift End\")"
   ]
  },
  {
   "cell_type": "markdown",
   "metadata": {},
   "source": [
    "## Causal Tree\n",
    "推理树是一种直接优化uplift的方法，算法是在决策树的基础上，改变叶子节点的分裂方法，从而得到Uplift Tree。在预测环节，计算样本所在叶节点的实验组与对照组的差作为uplift score。"
   ]
  },
  {
   "cell_type": "code",
   "execution_count": 13,
   "metadata": {},
   "outputs": [
    {
     "name": "stdout",
     "output_type": "stream",
     "text": [
      "Causal Tree Edn\n"
     ]
    }
   ],
   "source": [
    "from causalml.inference.tree import UpliftTreeClassifier\n",
    "from causalml.dataset import make_uplift_classification\n",
    "from sklearn.model_selection import train_test_split\n",
    "\n",
    "df, x_names = make_uplift_classification(treatment_name=['control', 'treatment'])\n",
    "df_train, df_test = train_test_split(df, test_size=0.2, random_state=111)\n",
    "\n",
    "clf = BaseXClassifier(outcome_learner=XGBClassifier(), \n",
    "                      effect_learner=XGBRegressor(), \n",
    "                      control_name='control')\n",
    "clf.fit(df_train[x_names].values,\n",
    "        treatment=df_train['treatment_group_key'].values,\n",
    "        y=df_train['conversion'].values)\n",
    "\n",
    "y_pred = clf.predict(df_test[x_names].values)\n",
    "\n",
    "print(\"Causal Tree Edn\")"
   ]
  },
  {
   "cell_type": "code",
   "execution_count": null,
   "metadata": {},
   "outputs": [],
   "source": []
  }
 ],
 "metadata": {
  "kernelspec": {
   "display_name": "py39_torch2_cpu",
   "language": "python",
   "name": "python3"
  },
  "language_info": {
   "codemirror_mode": {
    "name": "ipython",
    "version": 3
   },
   "file_extension": ".py",
   "mimetype": "text/x-python",
   "name": "python",
   "nbconvert_exporter": "python",
   "pygments_lexer": "ipython3",
   "version": "3.9.18"
  }
 },
 "nbformat": 4,
 "nbformat_minor": 2
}
