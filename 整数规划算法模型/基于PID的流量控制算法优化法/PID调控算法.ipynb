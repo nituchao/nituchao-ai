{
  "cells": [
    {
      "cell_type": "code",
      "execution_count": 1,
      "metadata": {
        "id": "e4WNZwpYKBP1"
      },
      "outputs": [],
      "source": [
        "import pandas as pd\n",
        "import random\n",
        "import matplotlib.pyplot as plt"
      ]
    },
    {
      "cell_type": "code",
      "execution_count": 2,
      "metadata": {
        "id": "O3AydEkvKEIo"
      },
      "outputs": [],
      "source": [
        "# 模拟调控N天，第1天无法用PID，从第2天开始施加PID调控\n",
        "N = 10\n",
        "\n",
        "# 每天目标预算\n",
        "Budget_target = 100\n",
        "\n",
        "# 每天实际花出预算\n",
        "Budget_real = [0] * N\n",
        "Budget_real[1] = 80\n",
        "\n",
        "# 调控后每天预期预算\n",
        "Budget_expected_positional = [0] * N\n",
        "Budget_expected_incremental = [0] * N\n",
        "Budget_expected_incremental_u = [0] * N\n",
        "\n",
        "# PID系数\n",
        "kp = 0.5\n",
        "ki = 0.5\n",
        "kd = 0.5\n",
        "\n",
        "# 积分天数\n",
        "T = 3"
      ]
    },
    {
      "cell_type": "code",
      "execution_count": 3,
      "metadata": {
        "id": "22SaYi6kLMkg"
      },
      "outputs": [],
      "source": [
        "# 模拟每天实际花出预算，在目标预算和预期预算之间\n",
        "def get_budget(Budget_min, Budget_max):\n",
        "  return random.uniform(Budget_min, Budget_max)"
      ]
    },
    {
      "cell_type": "code",
      "execution_count": 4,
      "metadata": {},
      "outputs": [
        {
          "data": {
            "text/plain": [
              "15.671211650473017"
            ]
          },
          "execution_count": 4,
          "metadata": {},
          "output_type": "execute_result"
        }
      ],
      "source": [
        "random.uniform(10, 20)"
      ]
    },
    {
      "cell_type": "code",
      "execution_count": 5,
      "metadata": {
        "id": "SCYO_CuFObCB"
      },
      "outputs": [],
      "source": [
        "# 位置型PID\n",
        "def pid_positional(Budget_target, Budget_error):\n",
        "  P = Budget_error[0]\n",
        "  I = sum(Budget_error)\n",
        "  D = Budget_error[0] - Budget_error[1]\n",
        "\n",
        "  return kp * P + ki * I + kd * D"
      ]
    },
    {
      "cell_type": "code",
      "execution_count": 6,
      "metadata": {},
      "outputs": [],
      "source": [
        "# I_error = curr_err + 0.99 * I_err\n",
        "# 起步时PID error使用对数值；"
      ]
    },
    {
      "cell_type": "code",
      "execution_count": 7,
      "metadata": {
        "id": "ZLKY0Yf6OfbD"
      },
      "outputs": [],
      "source": [
        "# 增量型PID\n",
        "def pid_incremental(Budget_target, Budget_error, u):\n",
        "\n",
        "  delta = kp * (Budget_error[0] - Budget_error[1]) + ki * Budget_error[0] + kd * (Budget_error[0] - 2 * Budget_error[1] + Budget_error[2])\n",
        "\n",
        "  return delta + u\n"
      ]
    },
    {
      "cell_type": "code",
      "execution_count": 8,
      "metadata": {
        "id": "HBtooSA3KguA"
      },
      "outputs": [],
      "source": [
        " # 第2天开始PID调控\n",
        "for i in range(2, N):\n",
        "  Budget_error = []\n",
        "  for j in range(i-1, max(0, i-T), -1):\n",
        "    Budget_error.append(Budget_target - Budget_real[j])\n",
        "  if len(Budget_error) < T:\n",
        "    Budget_error = Budget_error + [0] * (T - len(Budget_error))\n",
        "\n",
        "  # 位置型PID\n",
        "  Budget_expected_positional[i] = Budget_target + pid_positional(Budget_target, Budget_error)\n",
        "  Budget_min = min(Budget_target, Budget_expected_positional[i])\n",
        "  Budget_max = max(Budget_target, Budget_expected_positional[i])\n",
        "  Budget_real[i] = get_budget(Budget_min, Budget_max)"
      ]
    },
    {
      "cell_type": "code",
      "execution_count": null,
      "metadata": {
        "colab": {
          "base_uri": "https://localhost:8080/",
          "height": 447
        },
        "id": "aOI59eVgKELA",
        "outputId": "b68a3b7b-b4e1-497b-c047-7c2c72e6499a"
      },
      "outputs": [],
      "source": [
        "plt.plot([_ for _ in range(N)], Budget_expected_positional)"
      ]
    },
    {
      "cell_type": "code",
      "execution_count": null,
      "metadata": {
        "id": "lVTpmFqskZTA"
      },
      "outputs": [],
      "source": [
        " # 第2天开始PID调控\n",
        "for i in range(2, N):\n",
        "  Budget_error = []\n",
        "  for j in range(i-1, max(0, i-T), -1):\n",
        "    Budget_error.append(Budget_target - Budget_real[j])\n",
        "  if len(Budget_error) <\n",
        "    Budget_error = Budget_error + [0] * (T - len(Budget_error))\n",
        "\n",
        "  # 增量型PID\n",
        "  Budget_expected_incremental_u[i] = pid_incremental(Budget_target, Budget_error, Budget_expected_incremental_u[i-1])\n",
        "  Budget_expected_incremental[i] = Budget_target + Budget_expected_incremental_u[i]\n",
        "  Budget_min = min(Budget_target, Budget_expected_incremental[i])\n",
        "  Budget_max = max(Budget_target, Budget_expected_incremental[i])\n",
        "  Budget_real[i] = get_budget(Budget_min, Budget_max)"
      ]
    },
    {
      "cell_type": "code",
      "execution_count": null,
      "metadata": {
        "colab": {
          "base_uri": "https://localhost:8080/",
          "height": 447
        },
        "id": "oPGz_1QdKIft",
        "outputId": "6d352c18-6cb7-462d-8493-76d614fe7200"
      },
      "outputs": [],
      "source": [
        "plt.plot([_ for _ in range(N)], Budget_expected_incremental)"
      ]
    },
    {
      "cell_type": "code",
      "execution_count": 10,
      "metadata": {
        "id": "emD9CuNLKIim"
      },
      "outputs": [
        {
          "data": {
            "application/vnd.microsoft.datawrangler.viewer.v0+json": {
              "columns": [
                {
                  "name": "index",
                  "rawType": "int64",
                  "type": "integer"
                },
                {
                  "name": "default_bp_pv",
                  "rawType": "int64",
                  "type": "integer"
                },
                {
                  "name": "pv",
                  "rawType": "int64",
                  "type": "integer"
                }
              ],
              "conversionMethod": "pd.DataFrame",
              "ref": "3bb91c55-ef2a-4663-b837-b526badb0fe6",
              "rows": [
                [
                  "0",
                  "10",
                  "69"
                ],
                [
                  "1",
                  "58",
                  "106"
                ],
                [
                  "2",
                  "10",
                  "87"
                ],
                [
                  "3",
                  "47",
                  "119"
                ],
                [
                  "4",
                  "65",
                  "178"
                ]
              ],
              "shape": {
                "columns": 2,
                "rows": 5
              }
            },
            "text/html": [
              "<div>\n",
              "<style scoped>\n",
              "    .dataframe tbody tr th:only-of-type {\n",
              "        vertical-align: middle;\n",
              "    }\n",
              "\n",
              "    .dataframe tbody tr th {\n",
              "        vertical-align: top;\n",
              "    }\n",
              "\n",
              "    .dataframe thead th {\n",
              "        text-align: right;\n",
              "    }\n",
              "</style>\n",
              "<table border=\"1\" class=\"dataframe\">\n",
              "  <thead>\n",
              "    <tr style=\"text-align: right;\">\n",
              "      <th></th>\n",
              "      <th>default_bp_pv</th>\n",
              "      <th>pv</th>\n",
              "    </tr>\n",
              "  </thead>\n",
              "  <tbody>\n",
              "    <tr>\n",
              "      <th>0</th>\n",
              "      <td>10</td>\n",
              "      <td>69</td>\n",
              "    </tr>\n",
              "    <tr>\n",
              "      <th>1</th>\n",
              "      <td>58</td>\n",
              "      <td>106</td>\n",
              "    </tr>\n",
              "    <tr>\n",
              "      <th>2</th>\n",
              "      <td>10</td>\n",
              "      <td>87</td>\n",
              "    </tr>\n",
              "    <tr>\n",
              "      <th>3</th>\n",
              "      <td>47</td>\n",
              "      <td>119</td>\n",
              "    </tr>\n",
              "    <tr>\n",
              "      <th>4</th>\n",
              "      <td>65</td>\n",
              "      <td>178</td>\n",
              "    </tr>\n",
              "  </tbody>\n",
              "</table>\n",
              "</div>"
            ],
            "text/plain": [
              "   default_bp_pv   pv\n",
              "0             10   69\n",
              "1             58  106\n",
              "2             10   87\n",
              "3             47  119\n",
              "4             65  178"
            ]
          },
          "execution_count": 10,
          "metadata": {},
          "output_type": "execute_result"
        }
      ],
      "source": [
        "import pandas as pd\n",
        "import numpy as np\n",
        "\n",
        "# 生成10行测试数据（数值范围可调整）\n",
        "data = pd.DataFrame({\n",
        "    'default_bp_pv': np.random.randint(0, 100, size=10),  # 50-199之间的随机整数\n",
        "    'pv': np.random.randint(50, 200, size=10)               # 0-99之间的随机整数\n",
        "})\n",
        "\n",
        "# 显示前5行示例\n",
        "data.head()"
      ]
    },
    {
      "cell_type": "code",
      "execution_count": 15,
      "metadata": {},
      "outputs": [
        {
          "data": {
            "application/vnd.microsoft.datawrangler.viewer.v0+json": {
              "columns": [
                {
                  "name": "index",
                  "rawType": "int64",
                  "type": "integer"
                },
                {
                  "name": "default_bp_pv",
                  "rawType": "int64",
                  "type": "integer"
                },
                {
                  "name": "pv",
                  "rawType": "int64",
                  "type": "integer"
                },
                {
                  "name": "default_bp_pv_ratio_cum",
                  "rawType": "float64",
                  "type": "float"
                },
                {
                  "name": "default_bp_pv_cum",
                  "rawType": "int64",
                  "type": "integer"
                },
                {
                  "name": "pv_cum",
                  "rawType": "int64",
                  "type": "integer"
                },
                {
                  "name": "default_bp_pv_ratio_cum_x",
                  "rawType": "float64",
                  "type": "float"
                }
              ],
              "conversionMethod": "pd.DataFrame",
              "ref": "4d8196f2-280b-4e1f-9104-fa56e3308e92",
              "rows": [
                [
                  "0",
                  "10",
                  "69",
                  "0.14492753623188406",
                  "10",
                  "69",
                  "0.14492753623188406"
                ],
                [
                  "1",
                  "58",
                  "106",
                  "0.38857142857142857",
                  "68",
                  "175",
                  "0.38857142857142857"
                ],
                [
                  "2",
                  "10",
                  "87",
                  "0.29770992366412213",
                  "78",
                  "262",
                  "0.29770992366412213"
                ],
                [
                  "3",
                  "47",
                  "119",
                  "0.32808398950131235",
                  "125",
                  "381",
                  "0.32808398950131235"
                ],
                [
                  "4",
                  "65",
                  "178",
                  "0.33989266547406083",
                  "190",
                  "559",
                  "0.33989266547406083"
                ]
              ],
              "shape": {
                "columns": 6,
                "rows": 5
              }
            },
            "text/html": [
              "<div>\n",
              "<style scoped>\n",
              "    .dataframe tbody tr th:only-of-type {\n",
              "        vertical-align: middle;\n",
              "    }\n",
              "\n",
              "    .dataframe tbody tr th {\n",
              "        vertical-align: top;\n",
              "    }\n",
              "\n",
              "    .dataframe thead th {\n",
              "        text-align: right;\n",
              "    }\n",
              "</style>\n",
              "<table border=\"1\" class=\"dataframe\">\n",
              "  <thead>\n",
              "    <tr style=\"text-align: right;\">\n",
              "      <th></th>\n",
              "      <th>default_bp_pv</th>\n",
              "      <th>pv</th>\n",
              "      <th>default_bp_pv_ratio_cum</th>\n",
              "      <th>default_bp_pv_cum</th>\n",
              "      <th>pv_cum</th>\n",
              "      <th>default_bp_pv_ratio_cum_x</th>\n",
              "    </tr>\n",
              "  </thead>\n",
              "  <tbody>\n",
              "    <tr>\n",
              "      <th>0</th>\n",
              "      <td>10</td>\n",
              "      <td>69</td>\n",
              "      <td>0.144928</td>\n",
              "      <td>10</td>\n",
              "      <td>69</td>\n",
              "      <td>0.144928</td>\n",
              "    </tr>\n",
              "    <tr>\n",
              "      <th>1</th>\n",
              "      <td>58</td>\n",
              "      <td>106</td>\n",
              "      <td>0.388571</td>\n",
              "      <td>68</td>\n",
              "      <td>175</td>\n",
              "      <td>0.388571</td>\n",
              "    </tr>\n",
              "    <tr>\n",
              "      <th>2</th>\n",
              "      <td>10</td>\n",
              "      <td>87</td>\n",
              "      <td>0.297710</td>\n",
              "      <td>78</td>\n",
              "      <td>262</td>\n",
              "      <td>0.297710</td>\n",
              "    </tr>\n",
              "    <tr>\n",
              "      <th>3</th>\n",
              "      <td>47</td>\n",
              "      <td>119</td>\n",
              "      <td>0.328084</td>\n",
              "      <td>125</td>\n",
              "      <td>381</td>\n",
              "      <td>0.328084</td>\n",
              "    </tr>\n",
              "    <tr>\n",
              "      <th>4</th>\n",
              "      <td>65</td>\n",
              "      <td>178</td>\n",
              "      <td>0.339893</td>\n",
              "      <td>190</td>\n",
              "      <td>559</td>\n",
              "      <td>0.339893</td>\n",
              "    </tr>\n",
              "  </tbody>\n",
              "</table>\n",
              "</div>"
            ],
            "text/plain": [
              "   default_bp_pv   pv  default_bp_pv_ratio_cum  default_bp_pv_cum  pv_cum  \\\n",
              "0             10   69                 0.144928                 10      69   \n",
              "1             58  106                 0.388571                 68     175   \n",
              "2             10   87                 0.297710                 78     262   \n",
              "3             47  119                 0.328084                125     381   \n",
              "4             65  178                 0.339893                190     559   \n",
              "\n",
              "   default_bp_pv_ratio_cum_x  \n",
              "0                   0.144928  \n",
              "1                   0.388571  \n",
              "2                   0.297710  \n",
              "3                   0.328084  \n",
              "4                   0.339893  "
            ]
          },
          "execution_count": 15,
          "metadata": {},
          "output_type": "execute_result"
        }
      ],
      "source": [
        "\n",
        "data['default_bp_pv_cum'] = data['default_bp_pv'].cumsum()\n",
        "data['pv_cum'] = data['pv'].cumsum()\n",
        "data['default_bp_pv_ratio_cum'] = data['default_bp_pv'].cumsum() / data['pv'].cumsum()\n",
        "data['default_bp_pv_ratio_cum_x'] = data['default_bp_pv_cum'] / data['pv_cum']\n",
        "\n",
        "data.head()"
      ]
    },
    {
      "cell_type": "code",
      "execution_count": 16,
      "metadata": {},
      "outputs": [
        {
          "data": {
            "text/plain": [
              "0    0.144928\n",
              "1    0.388571\n",
              "2    0.297710\n",
              "3    0.328084\n",
              "4    0.339893\n",
              "5    0.356071\n",
              "6    0.364912\n",
              "7    0.322148\n",
              "8    0.315385\n",
              "9    0.308377\n",
              "dtype: float64"
            ]
          },
          "execution_count": 16,
          "metadata": {},
          "output_type": "execute_result"
        }
      ],
      "source": [
        "data['default_bp_pv'].cumsum() / data['pv'].cumsum()"
      ]
    },
    {
      "cell_type": "code",
      "execution_count": 22,
      "metadata": {},
      "outputs": [
        {
          "data": {
            "text/plain": [
              "0    0.144928\n",
              "1    0.388571\n",
              "2    0.297710\n",
              "3    0.328084\n",
              "4    0.339893\n",
              "5    0.356071\n",
              "6    0.364912\n",
              "7    0.322148\n",
              "8    0.315385\n",
              "9    0.308377\n",
              "dtype: float64"
            ]
          },
          "execution_count": 22,
          "metadata": {},
          "output_type": "execute_result"
        }
      ],
      "source": [
        "aaa = data['default_bp_pv'].cumsum() / data['pv'].cumsum()\n",
        "\n",
        "aaa"
      ]
    },
    {
      "cell_type": "code",
      "execution_count": 24,
      "metadata": {},
      "outputs": [
        {
          "data": {
            "text/plain": [
              "numpy.ndarray"
            ]
          },
          "execution_count": 24,
          "metadata": {},
          "output_type": "execute_result"
        }
      ],
      "source": [
        "type(aaa.to_numpy())"
      ]
    },
    {
      "cell_type": "code",
      "execution_count": 21,
      "metadata": {},
      "outputs": [
        {
          "data": {
            "text/plain": [
              "numpy.ndarray"
            ]
          },
          "execution_count": 21,
          "metadata": {},
          "output_type": "execute_result"
        }
      ],
      "source": [
        "type(data['pv'].values)"
      ]
    },
    {
      "cell_type": "code",
      "execution_count": null,
      "metadata": {},
      "outputs": [],
      "source": []
    }
  ],
  "metadata": {
    "colab": {
      "provenance": []
    },
    "kernelspec": {
      "display_name": ".venv",
      "language": "python",
      "name": "python3"
    },
    "language_info": {
      "codemirror_mode": {
        "name": "ipython",
        "version": 3
      },
      "file_extension": ".py",
      "mimetype": "text/x-python",
      "name": "python",
      "nbconvert_exporter": "python",
      "pygments_lexer": "ipython3",
      "version": "3.9.6"
    }
  },
  "nbformat": 4,
  "nbformat_minor": 0
}
