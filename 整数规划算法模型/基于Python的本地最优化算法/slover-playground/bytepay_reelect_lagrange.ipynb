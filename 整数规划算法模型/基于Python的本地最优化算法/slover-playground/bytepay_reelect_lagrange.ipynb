{
 "cells": [
  {
   "cell_type": "code",
   "execution_count": 1,
   "metadata": {},
   "outputs": [
    {
     "ename": "IndexError",
     "evalue": "invalid index to scalar variable.",
     "output_type": "error",
     "traceback": [
      "\u001b[0;31m---------------------------------------------------------------------------\u001b[0m",
      "\u001b[0;31mIndexError\u001b[0m                                Traceback (most recent call last)",
      "Cell \u001b[0;32mIn[1], line 33\u001b[0m\n\u001b[1;32m     30\u001b[0m lambda0 \u001b[38;5;241m=\u001b[39m np\u001b[38;5;241m.\u001b[39marray([\u001b[38;5;241m0\u001b[39m])\n\u001b[1;32m     32\u001b[0m \u001b[38;5;66;03m# 求解拉格朗日松弛问题\u001b[39;00m\n\u001b[0;32m---> 33\u001b[0m x, lambda_ \u001b[38;5;241m=\u001b[39m \u001b[43mlagrangian_relaxation\u001b[49m\u001b[43m(\u001b[49m\u001b[43mx0\u001b[49m\u001b[43m,\u001b[49m\u001b[43m \u001b[49m\u001b[43mlambda0\u001b[49m\u001b[43m)\u001b[49m\n\u001b[1;32m     35\u001b[0m \u001b[38;5;66;03m# 打印结果\u001b[39;00m\n\u001b[1;32m     36\u001b[0m \u001b[38;5;28mprint\u001b[39m(\u001b[38;5;124m\"\u001b[39m\u001b[38;5;124mOptimal Solution:\u001b[39m\u001b[38;5;124m\"\u001b[39m, x)\n",
      "Cell \u001b[0;32mIn[1], line 20\u001b[0m, in \u001b[0;36mlagrangian_relaxation\u001b[0;34m(x0, lambda0, max_iter, epsilon)\u001b[0m\n\u001b[1;32m     17\u001b[0m x \u001b[38;5;241m=\u001b[39m np\u001b[38;5;241m.\u001b[39margmin(objective_function(x) \u001b[38;5;241m+\u001b[39m lambda_ \u001b[38;5;241m*\u001b[39m constraint_function(x))\n\u001b[1;32m     19\u001b[0m \u001b[38;5;66;03m# 更新拉格朗日乘子\u001b[39;00m\n\u001b[0;32m---> 20\u001b[0m lambda_ \u001b[38;5;241m=\u001b[39m \u001b[38;5;28mmax\u001b[39m(\u001b[38;5;241m0\u001b[39m, lambda_ \u001b[38;5;241m+\u001b[39m epsilon \u001b[38;5;241m*\u001b[39m \u001b[43mconstraint_function\u001b[49m\u001b[43m(\u001b[49m\u001b[43mx\u001b[49m\u001b[43m)\u001b[49m)\n\u001b[1;32m     22\u001b[0m \u001b[38;5;66;03m# 检查是否收敛\u001b[39;00m\n\u001b[1;32m     23\u001b[0m \u001b[38;5;28;01mif\u001b[39;00m np\u001b[38;5;241m.\u001b[39mabs(constraint_function(x)) \u001b[38;5;241m<\u001b[39m epsilon:\n",
      "Cell \u001b[0;32mIn[1], line 9\u001b[0m, in \u001b[0;36mconstraint_function\u001b[0;34m(x)\u001b[0m\n\u001b[1;32m      8\u001b[0m \u001b[38;5;28;01mdef\u001b[39;00m \u001b[38;5;21mconstraint_function\u001b[39m(x):\n\u001b[0;32m----> 9\u001b[0m     \u001b[38;5;28;01mreturn\u001b[39;00m \u001b[43mx\u001b[49m\u001b[43m[\u001b[49m\u001b[38;5;241;43m0\u001b[39;49m\u001b[43m]\u001b[49m \u001b[38;5;241m+\u001b[39m x[\u001b[38;5;241m1\u001b[39m] \u001b[38;5;241m-\u001b[39m \u001b[38;5;241m5\u001b[39m\n",
      "\u001b[0;31mIndexError\u001b[0m: invalid index to scalar variable."
     ]
    }
   ],
   "source": [
    "import numpy as np\n",
    "\n",
    "# 定义目标函数\n",
    "def objective_function(x):\n",
    "    return x[0] + 2 * x[1]\n",
    "\n",
    "# 定义约束条件\n",
    "def constraint_function(x):\n",
    "    return x[0] + x[1] - 5\n",
    "\n",
    "# 拉格朗日松弛法\n",
    "def lagrangian_relaxation(x0, lambda0, max_iter=100, epsilon=1e-3):\n",
    "    x = x0.copy()\n",
    "    lambda_ = lambda0.copy()\n",
    "    for i in range(max_iter):\n",
    "        # 求解松弛问题\n",
    "        x = np.argmin(objective_function(x) + lambda_ * constraint_function(x))\n",
    "\n",
    "        # 更新拉格朗日乘子\n",
    "        lambda_ = max(0, lambda_ + epsilon * constraint_function(x))\n",
    "\n",
    "        # 检查是否收敛\n",
    "        if np.abs(constraint_function(x)) < epsilon:\n",
    "            break\n",
    "\n",
    "    return x, lambda_\n",
    "\n",
    "# 初始化变量和拉格朗日乘子\n",
    "x0 = np.array([0, 0])\n",
    "lambda0 = np.array([0])\n",
    "\n",
    "# 求解拉格朗日松弛问题\n",
    "x, lambda_ = lagrangian_relaxation(x0, lambda0)\n",
    "\n",
    "# 打印结果\n",
    "print(\"Optimal Solution:\", x)\n",
    "print(\"Lagrange Multiplier:\", lambda_)\n",
    "print(\"Objective Function Value:\", objective_function(x))"
   ]
  },
  {
   "cell_type": "code",
   "execution_count": null,
   "metadata": {},
   "outputs": [],
   "source": []
  }
 ],
 "metadata": {
  "kernelspec": {
   "display_name": "py39_torch2_cpu",
   "language": "python",
   "name": "python3"
  },
  "language_info": {
   "codemirror_mode": {
    "name": "ipython",
    "version": 3
   },
   "file_extension": ".py",
   "mimetype": "text/x-python",
   "name": "python",
   "nbconvert_exporter": "python",
   "pygments_lexer": "ipython3",
   "version": "3.9.18"
  }
 },
 "nbformat": 4,
 "nbformat_minor": 2
}
