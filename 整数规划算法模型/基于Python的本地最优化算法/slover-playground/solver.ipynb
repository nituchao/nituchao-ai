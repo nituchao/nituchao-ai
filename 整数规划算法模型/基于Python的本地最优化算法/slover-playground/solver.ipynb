{
 "cells": [
  {
   "cell_type": "code",
   "execution_count": 1,
   "metadata": {},
   "outputs": [],
   "source": [
    "import pulp as lp\n",
    "import pandas as pd\n",
    "import numpy as np"
   ]
  },
  {
   "cell_type": "code",
   "execution_count": 1,
   "metadata": {},
   "outputs": [
    {
     "name": "stdout",
     "output_type": "stream",
     "text": [
      "Welcome to the CBC MILP Solver \n",
      "Version: 2.10.3 \n",
      "Build Date: Dec 15 2019 \n",
      "\n",
      "command line - /Users/bytedance/miniconda3/envs/py39_torch2_cpu/lib/python3.9/site-packages/pulp/solverdir/cbc/osx/64/cbc /var/folders/v7/rktr9bj972l5l321cppqrf340000gn/T/9b4080c4aa3047c0857d96e90802019c-pulp.mps -max -timeMode elapsed -branch -printingOptions all -solution /var/folders/v7/rktr9bj972l5l321cppqrf340000gn/T/9b4080c4aa3047c0857d96e90802019c-pulp.sol (default strategy 1)\n",
      "At line 2 NAME          MODEL\n",
      "At line 3 ROWS\n",
      "At line 9 COLUMNS\n",
      "At line 22 RHS\n",
      "At line 27 BOUNDS\n",
      "At line 30 ENDATA\n",
      "Problem MODEL has 4 rows, 2 columns and 6 elements\n",
      "Coin0008I MODEL read with 0 errors\n",
      "Option for timeMode changed from cpu to elapsed\n",
      "Continuous objective value is 2400 - 0.00 seconds\n",
      "Cgl0004I processed model has 2 rows, 2 columns (2 integer (0 of which binary)) and 4 elements\n",
      "Cutoff increment increased from 1e-05 to 9.9999\n",
      "Cbc0012I Integer solution of -2400 found by DiveCoefficient after 0 iterations and 0 nodes (0.01 seconds)\n",
      "Cbc0001I Search completed - best objective -2400, took 0 iterations and 0 nodes (0.01 seconds)\n",
      "Cbc0035I Maximum depth 0, 0 variables fixed on reduced cost\n",
      "Cuts at root node changed objective from -2400 to -2400\n",
      "Probing was tried 0 times and created 0 cuts of which 0 were active after adding rounds of cuts (0.000 seconds)\n",
      "Gomory was tried 0 times and created 0 cuts of which 0 were active after adding rounds of cuts (0.000 seconds)\n",
      "Knapsack was tried 0 times and created 0 cuts of which 0 were active after adding rounds of cuts (0.000 seconds)\n",
      "Clique was tried 0 times and created 0 cuts of which 0 were active after adding rounds of cuts (0.000 seconds)\n",
      "MixedIntegerRounding2 was tried 0 times and created 0 cuts of which 0 were active after adding rounds of cuts (0.000 seconds)\n",
      "FlowCover was tried 0 times and created 0 cuts of which 0 were active after adding rounds of cuts (0.000 seconds)\n",
      "TwoMirCuts was tried 0 times and created 0 cuts of which 0 were active after adding rounds of cuts (0.000 seconds)\n",
      "ZeroHalf was tried 0 times and created 0 cuts of which 0 were active after adding rounds of cuts (0.000 seconds)\n",
      "\n",
      "Result - Optimal solution found\n",
      "\n",
      "Objective value:                2400.00000000\n",
      "Enumerated nodes:               0\n",
      "Total iterations:               0\n",
      "Time (CPU seconds):             0.00\n",
      "Time (Wallclock seconds):       0.02\n",
      "\n",
      "Option for printingOptions changed from normal to all\n",
      "Total time (CPU seconds):       0.00   (Wallclock seconds):       0.02\n",
      "\n",
      "Optimization Status: Optimal\n",
      "Optimal Solution:\n",
      "Wheat Acres = 0.0\n",
      "Corn Acres = 80.0\n",
      "Total Yield = 2400.0\n"
     ]
    }
   ],
   "source": [
    "from pulp import *\n",
    "\n",
    "# 创建问题\n",
    "problem = LpProblem(\"CropOptimization\", LpMaximize)\n",
    "\n",
    "# 定义决策变量\n",
    "wheat_acres = LpVariable(\"WheatAcres\", lowBound=0, cat='Integer')\n",
    "corn_acres = LpVariable(\"CornAcres\", lowBound=0, cat='Integer')\n",
    "\n",
    "# 定义目标函数\n",
    "problem += 20 * wheat_acres + 30 * corn_acres, \"TotalYield\"\n",
    "\n",
    "# 定义约束条件\n",
    "problem += wheat_acres + corn_acres <= 100, \"LandConstraint\"\n",
    "problem += 8 * wheat_acres + 10 * corn_acres <= 800, \"WorkConstraint\"\n",
    "problem += wheat_acres <= 100, \"WheatAcresConstraint\"\n",
    "problem += corn_acres <= 100, \"CornAcresConstraint\"\n",
    "\n",
    "# 求解问题\n",
    "problem.solve()\n",
    "\n",
    "# 打印结果\n",
    "print(\"Optimization Status:\", LpStatus[problem.status])\n",
    "print(\"Optimal Solution:\")\n",
    "print(\"Wheat Acres =\", value(wheat_acres))\n",
    "print(\"Corn Acres =\", value(corn_acres))\n",
    "print(\"Total Yield =\", value(problem.objective))"
   ]
  },
  {
   "cell_type": "code",
   "execution_count": null,
   "metadata": {},
   "outputs": [],
   "source": []
  }
 ],
 "metadata": {
  "kernelspec": {
   "display_name": "py39_torch2_cpu",
   "language": "python",
   "name": "python3"
  },
  "language_info": {
   "codemirror_mode": {
    "name": "ipython",
    "version": 3
   },
   "file_extension": ".py",
   "mimetype": "text/x-python",
   "name": "python",
   "nbconvert_exporter": "python",
   "pygments_lexer": "ipython3",
   "version": "3.9.18"
  }
 },
 "nbformat": 4,
 "nbformat_minor": 2
}
