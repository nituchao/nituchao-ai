{
 "cells": [
  {
   "cell_type": "code",
   "execution_count": 1,
   "metadata": {},
   "outputs": [
    {
     "data": {
      "text/plain": [
       "0.003185225748121523"
      ]
     },
     "execution_count": 1,
     "metadata": {},
     "output_type": "execute_result"
    }
   ],
   "source": [
    "98441.76836842652 / 30905743"
   ]
  },
  {
   "cell_type": "code",
   "execution_count": 2,
   "metadata": {},
   "outputs": [
    {
     "data": {
      "text/plain": [
       "0.14"
      ]
     },
     "execution_count": 2,
     "metadata": {},
     "output_type": "execute_result"
    }
   ],
   "source": [
    "4326804.0200000005 / 30905743"
   ]
  },
  {
   "cell_type": "code",
   "execution_count": 3,
   "metadata": {},
   "outputs": [
    {
     "data": {
      "text/plain": [
       "0.3071833745697346"
      ]
     },
     "execution_count": 3,
     "metadata": {},
     "output_type": "execute_result"
    }
   ],
   "source": [
    "9493730.428324953 / 30905743"
   ]
  },
  {
   "cell_type": "code",
   "execution_count": 5,
   "metadata": {},
   "outputs": [
    {
     "name": "stdout",
     "output_type": "stream",
     "text": [
      "206\n"
     ]
    }
   ],
   "source": [
    "fly_not = 189481683\n",
    "ses_all = 189481889\n",
    "fly_yes = ses_all - fly_not\n",
    "\n",
    "print(fly_yes)"
   ]
  },
  {
   "cell_type": "code",
   "execution_count": 6,
   "metadata": {},
   "outputs": [],
   "source": [
    "import pandas as pd\n",
    "import numpy as np"
   ]
  },
  {
   "cell_type": "code",
   "execution_count": 22,
   "metadata": {},
   "outputs": [
    {
     "data": {
      "text/plain": [
       "0.6521281421281421"
      ]
     },
     "execution_count": 22,
     "metadata": {},
     "output_type": "execute_result"
    }
   ],
   "source": [
    "(5000 * 0.544 + 291 * 2.51)/(5000+291)"
   ]
  },
  {
   "cell_type": "code",
   "execution_count": 8,
   "metadata": {},
   "outputs": [
    {
     "data": {
      "text/html": [
       "<div>\n",
       "<style scoped>\n",
       "    .dataframe tbody tr th:only-of-type {\n",
       "        vertical-align: middle;\n",
       "    }\n",
       "\n",
       "    .dataframe tbody tr th {\n",
       "        vertical-align: top;\n",
       "    }\n",
       "\n",
       "    .dataframe thead th {\n",
       "        text-align: right;\n",
       "    }\n",
       "</style>\n",
       "<table border=\"1\" class=\"dataframe\">\n",
       "  <thead>\n",
       "    <tr style=\"text-align: right;\">\n",
       "      <th></th>\n",
       "      <th>session_id</th>\n",
       "      <th>default_pay_mode</th>\n",
       "      <th>bind_card_x1</th>\n",
       "      <th>bytepay_ctr_x1</th>\n",
       "      <th>all_ctr_x1</th>\n",
       "      <th>budget_x1</th>\n",
       "      <th>bind_card_x0</th>\n",
       "      <th>bytepay_ctr_x0</th>\n",
       "      <th>all_ctr_x0</th>\n",
       "      <th>budget_x0</th>\n",
       "    </tr>\n",
       "  </thead>\n",
       "  <tbody>\n",
       "    <tr>\n",
       "      <th>0</th>\n",
       "      <td>202405101320383738a0zb71cy22x3</td>\n",
       "      <td>bp_top</td>\n",
       "      <td>0.000357</td>\n",
       "      <td>0.082155</td>\n",
       "      <td>0.080981</td>\n",
       "      <td>-0.001175</td>\n",
       "      <td>0.000137</td>\n",
       "      <td>0.019261</td>\n",
       "      <td>0.081437</td>\n",
       "      <td>0.062176</td>\n",
       "    </tr>\n",
       "    <tr>\n",
       "      <th>1</th>\n",
       "      <td>20240510131620187102za70yb1c22dx</td>\n",
       "      <td>bp_top</td>\n",
       "      <td>0.002636</td>\n",
       "      <td>0.227701</td>\n",
       "      <td>0.795592</td>\n",
       "      <td>0.567891</td>\n",
       "      <td>0.002107</td>\n",
       "      <td>0.223255</td>\n",
       "      <td>0.841327</td>\n",
       "      <td>0.618072</td>\n",
       "    </tr>\n",
       "    <tr>\n",
       "      <th>2</th>\n",
       "      <td>20240510205932374969a0bz17yc2d3e</td>\n",
       "      <td>bp_top</td>\n",
       "      <td>0.000692</td>\n",
       "      <td>0.125163</td>\n",
       "      <td>0.191061</td>\n",
       "      <td>0.065897</td>\n",
       "      <td>0.000000</td>\n",
       "      <td>0.000000</td>\n",
       "      <td>0.000000</td>\n",
       "      <td>0.000000</td>\n",
       "    </tr>\n",
       "    <tr>\n",
       "      <th>3</th>\n",
       "      <td>20240510084903636354z7ya20xb13w8</td>\n",
       "      <td>bp_top</td>\n",
       "      <td>0.000786</td>\n",
       "      <td>0.101570</td>\n",
       "      <td>0.248613</td>\n",
       "      <td>0.147044</td>\n",
       "      <td>0.000107</td>\n",
       "      <td>0.003223</td>\n",
       "      <td>0.284094</td>\n",
       "      <td>0.280871</td>\n",
       "    </tr>\n",
       "    <tr>\n",
       "      <th>4</th>\n",
       "      <td>20240510234744881772az0b71c2dy3e</td>\n",
       "      <td>bp_top</td>\n",
       "      <td>0.002416</td>\n",
       "      <td>0.282996</td>\n",
       "      <td>0.392014</td>\n",
       "      <td>0.109018</td>\n",
       "      <td>0.000410</td>\n",
       "      <td>0.071137</td>\n",
       "      <td>0.419518</td>\n",
       "      <td>0.348381</td>\n",
       "    </tr>\n",
       "  </tbody>\n",
       "</table>\n",
       "</div>"
      ],
      "text/plain": [
       "                         session_id default_pay_mode  bind_card_x1  \\\n",
       "0    202405101320383738a0zb71cy22x3           bp_top      0.000357   \n",
       "1  20240510131620187102za70yb1c22dx           bp_top      0.002636   \n",
       "2  20240510205932374969a0bz17yc2d3e           bp_top      0.000692   \n",
       "3  20240510084903636354z7ya20xb13w8           bp_top      0.000786   \n",
       "4  20240510234744881772az0b71c2dy3e           bp_top      0.002416   \n",
       "\n",
       "   bytepay_ctr_x1  all_ctr_x1  budget_x1  bind_card_x0  bytepay_ctr_x0  \\\n",
       "0        0.082155    0.080981  -0.001175      0.000137        0.019261   \n",
       "1        0.227701    0.795592   0.567891      0.002107        0.223255   \n",
       "2        0.125163    0.191061   0.065897      0.000000        0.000000   \n",
       "3        0.101570    0.248613   0.147044      0.000107        0.003223   \n",
       "4        0.282996    0.392014   0.109018      0.000410        0.071137   \n",
       "\n",
       "   all_ctr_x0  budget_x0  \n",
       "0    0.081437   0.062176  \n",
       "1    0.841327   0.618072  \n",
       "2    0.000000   0.000000  \n",
       "3    0.284094   0.280871  \n",
       "4    0.419518   0.348381  "
      ]
     },
     "execution_count": 8,
     "metadata": {},
     "output_type": "execute_result"
    }
   ],
   "source": [
    "df = pd.read_csv('cash_desk_reelect_newcustomer_20240525.csv')\n",
    "df.head()"
   ]
  },
  {
   "cell_type": "code",
   "execution_count": 18,
   "metadata": {},
   "outputs": [
    {
     "data": {
      "text/html": [
       "<div>\n",
       "<style scoped>\n",
       "    .dataframe tbody tr th:only-of-type {\n",
       "        vertical-align: middle;\n",
       "    }\n",
       "\n",
       "    .dataframe tbody tr th {\n",
       "        vertical-align: top;\n",
       "    }\n",
       "\n",
       "    .dataframe thead th {\n",
       "        text-align: right;\n",
       "    }\n",
       "</style>\n",
       "<table border=\"1\" class=\"dataframe\">\n",
       "  <thead>\n",
       "    <tr style=\"text-align: right;\">\n",
       "      <th></th>\n",
       "      <th>session_id</th>\n",
       "      <th>default_pay_mode</th>\n",
       "      <th>bind_card_x1</th>\n",
       "      <th>bytepay_ctr_x1</th>\n",
       "      <th>all_ctr_x1</th>\n",
       "      <th>budget_x1</th>\n",
       "      <th>bind_card_x0</th>\n",
       "      <th>bytepay_ctr_x0</th>\n",
       "      <th>all_ctr_x0</th>\n",
       "      <th>budget_x0</th>\n",
       "      <th>cost</th>\n",
       "    </tr>\n",
       "  </thead>\n",
       "  <tbody>\n",
       "    <tr>\n",
       "      <th>0</th>\n",
       "      <td>202405101320383738a0zb71cy22x3</td>\n",
       "      <td>bp_top</td>\n",
       "      <td>0.000357</td>\n",
       "      <td>0.082155</td>\n",
       "      <td>0.080981</td>\n",
       "      <td>-0.001175</td>\n",
       "      <td>0.000137</td>\n",
       "      <td>0.019261</td>\n",
       "      <td>0.081437</td>\n",
       "      <td>0.062176</td>\n",
       "      <td>-0.001175</td>\n",
       "    </tr>\n",
       "    <tr>\n",
       "      <th>1</th>\n",
       "      <td>20240510131620187102za70yb1c22dx</td>\n",
       "      <td>bp_top</td>\n",
       "      <td>0.002636</td>\n",
       "      <td>0.227701</td>\n",
       "      <td>0.795592</td>\n",
       "      <td>0.567891</td>\n",
       "      <td>0.002107</td>\n",
       "      <td>0.223255</td>\n",
       "      <td>0.841327</td>\n",
       "      <td>0.618072</td>\n",
       "      <td>0.567891</td>\n",
       "    </tr>\n",
       "    <tr>\n",
       "      <th>2</th>\n",
       "      <td>20240510205932374969a0bz17yc2d3e</td>\n",
       "      <td>bp_top</td>\n",
       "      <td>0.000692</td>\n",
       "      <td>0.125163</td>\n",
       "      <td>0.191061</td>\n",
       "      <td>0.065897</td>\n",
       "      <td>0.000000</td>\n",
       "      <td>0.000000</td>\n",
       "      <td>0.000000</td>\n",
       "      <td>0.000000</td>\n",
       "      <td>0.065897</td>\n",
       "    </tr>\n",
       "    <tr>\n",
       "      <th>3</th>\n",
       "      <td>20240510084903636354z7ya20xb13w8</td>\n",
       "      <td>bp_top</td>\n",
       "      <td>0.000786</td>\n",
       "      <td>0.101570</td>\n",
       "      <td>0.248613</td>\n",
       "      <td>0.147044</td>\n",
       "      <td>0.000107</td>\n",
       "      <td>0.003223</td>\n",
       "      <td>0.284094</td>\n",
       "      <td>0.280871</td>\n",
       "      <td>0.147044</td>\n",
       "    </tr>\n",
       "    <tr>\n",
       "      <th>4</th>\n",
       "      <td>20240510234744881772az0b71c2dy3e</td>\n",
       "      <td>bp_top</td>\n",
       "      <td>0.002416</td>\n",
       "      <td>0.282996</td>\n",
       "      <td>0.392014</td>\n",
       "      <td>0.109018</td>\n",
       "      <td>0.000410</td>\n",
       "      <td>0.071137</td>\n",
       "      <td>0.419518</td>\n",
       "      <td>0.348381</td>\n",
       "      <td>0.109018</td>\n",
       "    </tr>\n",
       "  </tbody>\n",
       "</table>\n",
       "</div>"
      ],
      "text/plain": [
       "                         session_id default_pay_mode  bind_card_x1  \\\n",
       "0    202405101320383738a0zb71cy22x3           bp_top      0.000357   \n",
       "1  20240510131620187102za70yb1c22dx           bp_top      0.002636   \n",
       "2  20240510205932374969a0bz17yc2d3e           bp_top      0.000692   \n",
       "3  20240510084903636354z7ya20xb13w8           bp_top      0.000786   \n",
       "4  20240510234744881772az0b71c2dy3e           bp_top      0.002416   \n",
       "\n",
       "   bytepay_ctr_x1  all_ctr_x1  budget_x1  bind_card_x0  bytepay_ctr_x0  \\\n",
       "0        0.082155    0.080981  -0.001175      0.000137        0.019261   \n",
       "1        0.227701    0.795592   0.567891      0.002107        0.223255   \n",
       "2        0.125163    0.191061   0.065897      0.000000        0.000000   \n",
       "3        0.101570    0.248613   0.147044      0.000107        0.003223   \n",
       "4        0.282996    0.392014   0.109018      0.000410        0.071137   \n",
       "\n",
       "   all_ctr_x0  budget_x0      cost  \n",
       "0    0.081437   0.062176 -0.001175  \n",
       "1    0.841327   0.618072  0.567891  \n",
       "2    0.000000   0.000000  0.065897  \n",
       "3    0.284094   0.280871  0.147044  \n",
       "4    0.419518   0.348381  0.109018  "
      ]
     },
     "execution_count": 18,
     "metadata": {},
     "output_type": "execute_result"
    }
   ],
   "source": [
    "df['cost'] = df['all_ctr_x1'] - df['bytepay_ctr_x1']\n",
    "df.head()"
   ]
  },
  {
   "cell_type": "code",
   "execution_count": 19,
   "metadata": {},
   "outputs": [
    {
     "name": "stdout",
     "output_type": "stream",
     "text": [
      "0.31812262400099994\n"
     ]
    }
   ],
   "source": [
    "cost_rate = df['cost'].sum() / df.shape[0]\n",
    "print(cost_rate)"
   ]
  },
  {
   "cell_type": "code",
   "execution_count": 20,
   "metadata": {},
   "outputs": [
    {
     "name": "stdout",
     "output_type": "stream",
     "text": [
      "0.19087357440059996\n"
     ]
    }
   ],
   "source": [
    "reelect_rate_reduce = 0.4\n",
    "global_cons = cost_rate * (1 - reelect_rate_reduce)\n",
    "print(global_cons)"
   ]
  },
  {
   "cell_type": "code",
   "execution_count": 25,
   "metadata": {},
   "outputs": [
    {
     "data": {
      "text/plain": [
       "980000"
      ]
     },
     "execution_count": 25,
     "metadata": {},
     "output_type": "execute_result"
    }
   ],
   "source": [
    "400 + 150 + 100\n",
    "\n",
    "370000 + 310000 + 150000 + 150000"
   ]
  },
  {
   "cell_type": "code",
   "execution_count": 47,
   "metadata": {},
   "outputs": [
    {
     "name": "stdout",
     "output_type": "stream",
     "text": [
      "164: 1\n",
      "178: 2\n",
      "115: 1\n",
      "315: 2\n",
      "219: 1\n",
      "298: 2\n",
      "36: 1\n",
      "227: 2\n",
      "65: 1\n",
      "161: 2\n",
      "348: 1\n",
      "270: 1\n",
      "215: 1\n",
      "79: 1\n",
      "75: 1\n",
      "246: 1\n",
      "1: 1\n",
      "179: 1\n",
      "239: 1\n",
      "337: 1\n",
      "144: 1\n",
      "30: 1\n",
      "3: 1\n",
      "287: 1\n",
      "25: 1\n",
      "196: 1\n",
      "221: 1\n",
      "240: 1\n",
      "112: 1\n",
      "61: 1\n",
      "274: 1\n",
      "122: 1\n",
      "143: 1\n",
      "363: 1\n",
      "58: 1\n",
      "66: 1\n",
      "138: 1\n",
      "47: 1\n",
      "131: 1\n",
      "296: 1\n",
      "129: 1\n",
      "145: 1\n",
      "328: 1\n",
      "261: 1\n",
      "154: 1\n"
     ]
    }
   ],
   "source": [
    "import random\n",
    "import numpy as np\n",
    "\n",
    "aaa = []\n",
    "char_count = {}\n",
    "\n",
    "for i in range(0, 50):\n",
    "    random_int = random.randint(1, 365)\n",
    "    aaa.append(random_int)\n",
    "\n",
    "for char in aaa:\n",
    "    if char in char_count:\n",
    "        char_count[char] += 1\n",
    "    else:\n",
    "        char_count[char] = 1\n",
    "\n",
    "for char, count in char_count.items():\n",
    "    print(f'{char}: {count}')\n"
   ]
  },
  {
   "cell_type": "code",
   "execution_count": 45,
   "metadata": {},
   "outputs": [
    {
     "name": "stdout",
     "output_type": "stream",
     "text": [
      "18\n",
      "20\n",
      "8.634628386520805e+45\n",
      "1.7613971492896263e+51\n",
      "0.33996391946400006\n"
     ]
    }
   ],
   "source": [
    "count = 20\n",
    "day_start = 365\n",
    "day_end = day_start - count + 2\n",
    "\n",
    "bb = 1.0\n",
    "idx = 0\n",
    "for aaa in range(day_start, day_end, -1):\n",
    "    bb = bb * aaa\n",
    "    idx = idx + 1\n",
    "print(idx)\n",
    "\n",
    "cc = 1.0\n",
    "idx = 0\n",
    "for ddd in range(0, count):\n",
    "    cc = cc * 365\n",
    "    idx = idx + 1\n",
    "print(idx)\n",
    "\n",
    "res = count * (count - 1) * 365 * bb / cc / 2\n",
    "\n",
    "print(bb)\n",
    "print(cc)\n",
    "print(res)\n"
   ]
  },
  {
   "cell_type": "code",
   "execution_count": 61,
   "metadata": {},
   "outputs": [
    {
     "name": "stdout",
     "output_type": "stream",
     "text": [
      "1.0366907533424609e+51\n",
      "1.7613971492896263e+51\n",
      "0.41143838358058005\n"
     ]
    }
   ],
   "source": [
    "count = 20\n",
    "\n",
    "def qeuery(n):\n",
    "    res = 1.0\n",
    "    for tmp in range(365, 365 - n, -1):\n",
    "        res = res * tmp\n",
    "    return res\n",
    "\n",
    "aaa = qeuery(count)\n",
    "bbb = 1.0 * (365 ** count)\n",
    "\n",
    "print(aaa)\n",
    "print(bbb)\n",
    "\n",
    "res = 1 -  aaa / bbb\n",
    "\n",
    "print(res)"
   ]
  },
  {
   "cell_type": "code",
   "execution_count": 56,
   "metadata": {},
   "outputs": [
    {
     "name": "stdout",
     "output_type": "stream",
     "text": [
      "365\n",
      "364\n",
      "363\n",
      "362\n",
      "361\n",
      "360\n",
      "359\n",
      "358\n",
      "357\n",
      "356\n",
      "355\n",
      "354\n",
      "353\n",
      "352\n",
      "351\n",
      "350\n",
      "349\n",
      "348\n",
      "347\n",
      "346\n",
      "345\n",
      "344\n",
      "343\n",
      "342\n"
     ]
    }
   ],
   "source": [
    "for tmp in range(365, 365 - count - 1, -1):\n",
    "    print(tmp)"
   ]
  },
  {
   "cell_type": "code",
   "execution_count": 3,
   "metadata": {},
   "outputs": [
    {
     "data": {
      "text/plain": [
       "0.09693837201790212"
      ]
     },
     "execution_count": 3,
     "metadata": {},
     "output_type": "execute_result"
    }
   ],
   "source": [
    "(0.019696055 - 0.01795548) / 0.01795548"
   ]
  },
  {
   "cell_type": "code",
   "execution_count": 2,
   "metadata": {},
   "outputs": [
    {
     "name": "stdout",
     "output_type": "stream",
     "text": [
      "3202\n",
      "3359\n",
      "0.04903185509056839\n",
      "7354.778263585259\n"
     ]
    }
   ],
   "source": [
    "start = 3202\n",
    "curr = 3359\n",
    "lift = (curr - start) / start\n",
    "absv = lift * 150000\n",
    "\n",
    "print(start)\n",
    "print(curr)\n",
    "print(lift)\n",
    "print(absv)"
   ]
  },
  {
   "cell_type": "code",
   "execution_count": 5,
   "metadata": {},
   "outputs": [
    {
     "name": "stdout",
     "output_type": "stream",
     "text": [
      "580\n",
      "1400\n",
      "820\n",
      "0.5857142857142857\n"
     ]
    }
   ],
   "source": [
    "start = 400 + 150 + 30 \n",
    "curr = 1400\n",
    "lift = (curr - start) \n",
    "lift_rate = lift / curr\n",
    "print(start)\n",
    "print(curr)\n",
    "print(lift)\n",
    "print(lift_rate)\n"
   ]
  },
  {
   "cell_type": "code",
   "execution_count": 2,
   "metadata": {},
   "outputs": [
    {
     "data": {
      "text/plain": [
       "580"
      ]
     },
     "execution_count": 2,
     "metadata": {},
     "output_type": "execute_result"
    }
   ],
   "source": [
    "400 + 150 + 30"
   ]
  },
  {
   "cell_type": "code",
   "execution_count": 1,
   "metadata": {},
   "outputs": [
    {
     "data": {
      "text/plain": [
       "<tf.Tensor: shape=(75, 1), dtype=float32, numpy=\n",
       "array([[ 9.0170747e-01],\n",
       "       [ 1.7704237e+00],\n",
       "       [ 5.2429974e-01],\n",
       "       [ 2.3489185e-01],\n",
       "       [ 4.1075656e-01],\n",
       "       [-5.5960409e-02],\n",
       "       [-9.1363883e-01],\n",
       "       [-4.3466392e-01],\n",
       "       [-1.4827926e+00],\n",
       "       [ 9.9481875e-01],\n",
       "       [ 8.3234864e-01],\n",
       "       [ 7.6379174e-01],\n",
       "       [ 1.2167101e+00],\n",
       "       [-1.2072438e+00],\n",
       "       [-2.9005787e-01],\n",
       "       [ 2.7994636e-01],\n",
       "       [ 5.7792288e-01],\n",
       "       [-1.0001831e+00],\n",
       "       [-2.7058321e-01],\n",
       "       [-2.6633635e+00],\n",
       "       [-5.4931700e-01],\n",
       "       [ 9.9252087e-01],\n",
       "       [-9.3917674e-01],\n",
       "       [ 1.1472623e+00],\n",
       "       [ 8.2475060e-01],\n",
       "       [-3.8489792e-01],\n",
       "       [ 4.4531772e-01],\n",
       "       [ 6.2540233e-02],\n",
       "       [-1.0552011e+00],\n",
       "       [ 4.8130518e-01],\n",
       "       [-1.6969233e+00],\n",
       "       [-6.3294500e-01],\n",
       "       [ 8.3897710e-01],\n",
       "       [-8.5873252e-01],\n",
       "       [-2.4359901e+00],\n",
       "       [ 1.4626073e+00],\n",
       "       [-8.7700045e-01],\n",
       "       [ 5.8995080e-01],\n",
       "       [-1.7367984e-01],\n",
       "       [ 1.4174916e+00],\n",
       "       [-3.4677550e-01],\n",
       "       [-1.1683705e+00],\n",
       "       [-5.4119587e-01],\n",
       "       [-1.8622320e+00],\n",
       "       [-7.6769060e-01],\n",
       "       [ 4.4722781e-01],\n",
       "       [-3.0446854e-01],\n",
       "       [-1.1770560e-01],\n",
       "       [ 1.1003255e+00],\n",
       "       [-4.8200440e-02],\n",
       "       [ 1.0157937e+00],\n",
       "       [-2.0454433e+00],\n",
       "       [ 6.9328535e-01],\n",
       "       [ 1.1847571e+00],\n",
       "       [ 9.5217651e-01],\n",
       "       [-1.0431217e+00],\n",
       "       [-1.1197085e-03],\n",
       "       [ 8.0538166e-01],\n",
       "       [-4.5706430e-03],\n",
       "       [-1.1775082e-01],\n",
       "       [-5.5387259e-01],\n",
       "       [ 1.5765803e+00],\n",
       "       [-1.0808226e+00],\n",
       "       [ 3.2184467e-02],\n",
       "       [-6.4393777e-01],\n",
       "       [ 1.5705745e+00],\n",
       "       [-2.3344590e-01],\n",
       "       [-6.2646079e-01],\n",
       "       [ 3.6898211e-01],\n",
       "       [-1.2454776e+00],\n",
       "       [ 3.8827640e-01],\n",
       "       [-2.1214227e-01],\n",
       "       [ 6.3435310e-01],\n",
       "       [-2.0005955e-01],\n",
       "       [-4.3735212e-01]], dtype=float32)>"
      ]
     },
     "execution_count": 1,
     "metadata": {},
     "output_type": "execute_result"
    }
   ],
   "source": [
    "import tensorflow as tf\n",
    "\n",
    "tf.random.normal([75, 1])"
   ]
  },
  {
   "cell_type": "code",
   "execution_count": 4,
   "metadata": {},
   "outputs": [
    {
     "data": {
      "text/plain": [
       "<tensorflow.python.ops.init_ops_v2.RandomUniform at 0x31ab14f10>"
      ]
     },
     "execution_count": 4,
     "metadata": {},
     "output_type": "execute_result"
    }
   ],
   "source": [
    "tf.random_uniform_initializer(-0.01, 0.01)"
   ]
  },
  {
   "cell_type": "code",
   "execution_count": 1,
   "metadata": {},
   "outputs": [
    {
     "name": "stdout",
     "output_type": "stream",
     "text": [
      "2025-03-04 17:11:56+08:00\n",
      "2025-03-04 17:11:56\n",
      "20250304171156362827\n"
     ]
    }
   ],
   "source": [
    "#!/usr/bin/env python\n",
    "# -*- coding: utf-8 -*-\n",
    "\"\"\"\n",
    "Created on 2022/8/2 22:20\n",
    "@author:   gongqingyi\n",
    "@email:    gongqingyi@bytedance.com\n",
    "\"\"\"\n",
    "\n",
    "from pytz import timezone\n",
    "from datetime import datetime, timedelta\n",
    "\n",
    "\n",
    "UTC = timezone('UTC')\n",
    "US = timezone('US/Eastern')\n",
    "CN = timezone('Asia/Shanghai')\n",
    "\n",
    "\n",
    "def get_datetime(datetime_string=None, fmt='%Y-%m-%d %H:%M:%S', tz=UTC):\n",
    "    # %Y-%m-%d %H:%M:%S.%f\n",
    "    \"\"\" 把指定时区的时间字符串转换成 datetime 对象 \"\"\"\n",
    "    if datetime_string is None:\n",
    "        return from_timestamp(tz=tz)\n",
    "    return tz.localize(datetime.strptime(datetime_string, fmt).replace(tzinfo=None))\n",
    "\n",
    "\n",
    "def get_datetime_string(dt=None, fmt='%Y-%m-%d %H:%M:%S'):\n",
    "    \"\"\" 把 datetime 对象格式化成时间字符串， 丢弃时区 \"\"\"\n",
    "    if dt is None:\n",
    "        return datetime.now(tz=CN).strftime(fmt)\n",
    "    return dt.strftime(fmt)\n",
    "\n",
    "\n",
    "def get_datetime_ms_string(dt=None):\n",
    "    \"\"\" 把 datetime 对象格式化成时间字符串， 丢弃时区 \"\"\"\n",
    "    fmt = '%Y%m%d%H%M%S%f'\n",
    "    if dt is None:\n",
    "        return datetime.now(tz=CN).strftime(fmt)[:-3]\n",
    "    return dt.strftime(fmt)[:-3]\n",
    "\n",
    "\n",
    "def get_datetime_us_string(dt=None):\n",
    "    \"\"\" 把 datetime 对象格式化成时间字符串， 丢弃时区 \"\"\"\n",
    "    fmt = '%Y%m%d%H%M%S%f'\n",
    "    if dt is None:\n",
    "        return datetime.now(tz=CN).strftime(fmt)\n",
    "    return dt.strftime(fmt)\n",
    "\n",
    "\n",
    "# ----------------------------------------------------------------------------------------------------------------------\n",
    "\n",
    "\n",
    "def get_timestamp(dt=None):\n",
    "    if dt is None:\n",
    "        dt = datetime.now()\n",
    "    \"\"\" 获取秒级时间戳 \"\"\"\n",
    "    return int(dt.timestamp())\n",
    "\n",
    "\n",
    "def get_milli_timestamp(dt=None):\n",
    "    if dt is None:\n",
    "        dt = datetime.now()\n",
    "    \"\"\" 获取毫秒级时间戳 \"\"\"\n",
    "    return int(dt.timestamp() * 1e3)\n",
    "\n",
    "\n",
    "def get_micro_timestamp(dt=None):\n",
    "    if dt is None:\n",
    "        dt = datetime.now()\n",
    "    \"\"\" 获取微秒级时间戳 \"\"\"\n",
    "    return int(dt.timestamp() * 1e6)\n",
    "\n",
    "\n",
    "# ----------------------------------------------------------------------------------------------------------------------\n",
    "\n",
    "\n",
    "def from_timestamp(timestamp=-1, tz=UTC):\n",
    "    if timestamp == -1:\n",
    "        timestamp = get_timestamp()\n",
    "    \"\"\" 秒级时间戳转datetime \"\"\"\n",
    "    return datetime.fromtimestamp(timestamp, tz=tz)\n",
    "\n",
    "\n",
    "def from_milli_timestamp(timestamp=-1, tz=UTC):\n",
    "    if timestamp == -1:\n",
    "        timestamp = get_milli_timestamp()\n",
    "    \"\"\" 毫秒级时间戳转datetime \"\"\"\n",
    "    seconds = int(timestamp / 1e3)\n",
    "    milliseconds = timestamp % 1e3\n",
    "    return datetime.fromtimestamp(seconds, tz=tz) + timedelta(milliseconds=milliseconds)\n",
    "\n",
    "\n",
    "def from_micro_timestamp(timestamp=-1, tz=UTC):\n",
    "    if timestamp == -1:\n",
    "        timestamp = get_micro_timestamp()\n",
    "    \"\"\" 微秒级时间戳转datetime \"\"\"\n",
    "    seconds = int(timestamp / 1e6)\n",
    "    microseconds = timestamp % 1e6\n",
    "    return datetime.fromtimestamp(seconds, tz=tz) + timedelta(microseconds=microseconds)\n",
    "\n",
    "\n",
    "if __name__ == '__main__':\n",
    "    print(get_datetime(tz=CN))\n",
    "    print(get_datetime_string())\n",
    "    print(get_datetime_string(fmt='%Y%m%d%H%M%S%f'))\n"
   ]
  },
  {
   "cell_type": "code",
   "execution_count": 2,
   "metadata": {},
   "outputs": [
    {
     "data": {
      "text/plain": [
       "datetime.datetime(2025, 3, 4, 17, 12, 46, tzinfo=<DstTzInfo 'Asia/Shanghai' CST+8:00:00 STD>)"
      ]
     },
     "execution_count": 2,
     "metadata": {},
     "output_type": "execute_result"
    }
   ],
   "source": [
    "get_datetime(fmt='%Y%m%d 23:59:59', tz=CN)"
   ]
  },
  {
   "cell_type": "code",
   "execution_count": 6,
   "metadata": {},
   "outputs": [
    {
     "name": "stdout",
     "output_type": "stream",
     "text": [
      "2025-03-04 00:00:00+08:00\n",
      "2025-03-04 23:59:59+08:00\n",
      "2025-03-03 22:00:00+08:00\n"
     ]
    }
   ],
   "source": [
    "curr_dt_str = get_datetime_string(fmt=\"%Y-%m-%d\")\n",
    "curr_dt_start = get_datetime(curr_dt_str, fmt=\"%Y-%m-%d\", tz=CN)\n",
    "curr_dt_end = curr_dt_start + timedelta(seconds= 3600 * 24 - 1)\n",
    "\n",
    "yest_dt_22h = curr_dt_start - timedelta(seconds= 3600 * 2)\n",
    "\n",
    "print(curr_dt_start)\n",
    "print(curr_dt_end)\n",
    "print(yest_dt_22h)"
   ]
  },
  {
   "cell_type": "code",
   "execution_count": null,
   "metadata": {},
   "outputs": [],
   "source": [
    "yest_dt_22h = curr_dt_start - timedelta(seconds= 3600 * 2)"
   ]
  }
 ],
 "metadata": {
  "kernelspec": {
   "display_name": ".venv",
   "language": "python",
   "name": "python3"
  },
  "language_info": {
   "codemirror_mode": {
    "name": "ipython",
    "version": 3
   },
   "file_extension": ".py",
   "mimetype": "text/x-python",
   "name": "python",
   "nbconvert_exporter": "python",
   "pygments_lexer": "ipython3",
   "version": "3.9.6"
  }
 },
 "nbformat": 4,
 "nbformat_minor": 2
}
