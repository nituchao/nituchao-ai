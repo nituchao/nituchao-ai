{
 "cells": [
  {
   "cell_type": "code",
   "execution_count": 1,
   "metadata": {},
   "outputs": [],
   "source": [
    "import pandas as pd\n",
    "import numpy as np"
   ]
  },
  {
   "cell_type": "code",
   "execution_count": 10,
   "metadata": {},
   "outputs": [
    {
     "name": "stdout",
     "output_type": "stream",
     "text": [
      "case\n",
      "when model_score <= 0.012122 then 0.1\n",
      "when model_score > 0.012122 and model_score <= 0.037223 then 0.2\n",
      "when model_score > 0.037223 and model_score <= 0.085075 then 0.3\n",
      "when model_score > 0.085075 and model_score <= 0.165137 then 0.4\n",
      "when model_score > 0.165137 and model_score <= 0.285171 then 0.5\n",
      "when model_score > 0.285171 and model_score <= 0.435755 then 0.6\n",
      "when model_score > 0.435755 and model_score <= 0.593949 then 0.7\n",
      "when model_score > 0.593949 and model_score <= 0.747104 then 0.8\n",
      "when model_score > 0.747104 and model_score <= 0.882672 then 0.9\n",
      "else 1\n",
      "end\n"
     ]
    }
   ],
   "source": [
    "str = '0.012122025,0.037222613,0.08507508,0.16513711,0.28517106,0.4357552,0.59394896,0.7471038,0.8826715'\n",
    "model_score_bin = np.fromstring(str, dtype=float, sep=',')\n",
    "res = \"\"\n",
    "idx = 0.1\n",
    "\n",
    "res = 'case'\n",
    "pre_score = 0\n",
    "for curr_score in model_score_bin:\n",
    "    tmp = ''\n",
    "    if idx == 0.1:\n",
    "        tmp = 'when model_score <= %f then %.1f' % (curr_score, idx)\n",
    "        pre_score = curr_score\n",
    "    elif idx <= 0.9:\n",
    "        tmp = 'when model_score > %f and model_score <= %f then %.1f' % (pre_score, curr_score, idx)\n",
    "        pre_score = curr_score\n",
    "    \n",
    "    idx = idx + 0.1\n",
    "    res = res + \"\\n\" + tmp\n",
    "\n",
    "res = res + \"\\nelse 1\\nend\"\n",
    "\n",
    "print(res)"
   ]
  },
  {
   "cell_type": "code",
   "execution_count": 13,
   "metadata": {},
   "outputs": [
    {
     "name": "stdout",
     "output_type": "stream",
     "text": [
      "case\n",
      "when model_score <= 0.000000 then 0.1\n",
      "when model_score > 0.000000 and model_score <= 0.008369 then 0.2\n",
      "when model_score > 0.008369 and model_score <= 0.034344 then 0.3\n",
      "when model_score > 0.034344 and model_score <= 0.089013 then 0.4\n",
      "when model_score > 0.089013 and model_score <= 0.187957 then 0.5\n",
      "when model_score > 0.187957 and model_score <= 0.339098 then 0.6\n",
      "when model_score > 0.339098 and model_score <= 0.520418 then 0.7\n",
      "when model_score > 0.520418 and model_score <= 0.701431 then 0.8\n",
      "when model_score > 0.701431 and model_score <= 0.863376 then 0.9\n",
      "when model_score > 0.863376 then 1\n",
      "end\n"
     ]
    }
   ],
   "source": [
    "str = '0.0,0.008368819,0.034343973,0.08901335,0.18795697,0.33909827,0.5204176,0.70143116,0.8633757'\n",
    "model_score_bin = np.fromstring(str, dtype=float, sep=',')\n",
    "res = \"\"\n",
    "idx = 0.1\n",
    "\n",
    "res = 'case'\n",
    "pre_score = 0\n",
    "for curr_score in model_score_bin:\n",
    "    tmp = ''\n",
    "    if idx == 0.1:\n",
    "        tmp = 'when model_score <= %f then %.1f' % (curr_score, idx)\n",
    "        pre_score = curr_score\n",
    "    elif idx <= 0.9:\n",
    "        tmp = 'when model_score > %f and model_score <= %f then %.1f' % (pre_score, curr_score, idx)\n",
    "        pre_score = curr_score\n",
    "    \n",
    "    idx = idx + 0.1\n",
    "    res = res + \"\\n\" + tmp\n",
    "\n",
    "res = res + \"\\nwhen model_score > %f then 1\\nend\" % (pre_score)\n",
    "\n",
    "print(res)"
   ]
  },
  {
   "cell_type": "code",
   "execution_count": 19,
   "metadata": {},
   "outputs": [
    {
     "name": "stdout",
     "output_type": "stream",
     "text": [
      "case\n",
      "when model_score is null then 0.0\n",
      "when model_score <= 0.000000 then 0.1\n",
      "when model_score > 0.000000 and model_score <= 0.002623 then 0.2\n",
      "when model_score > 0.002623 and model_score <= 0.012995 then 0.3\n",
      "when model_score > 0.012995 and model_score <= 0.038881 then 0.4\n",
      "when model_score > 0.038881 and model_score <= 0.096511 then 0.5\n",
      "when model_score > 0.096511 and model_score <= 0.213421 then 0.6\n",
      "when model_score > 0.213421 and model_score <= 0.402846 then 0.7\n",
      "when model_score > 0.402846 and model_score <= 0.620141 then 0.8\n",
      "when model_score > 0.620141 and model_score <= 0.826949 then 0.9\n",
      "when model_score > 0.826949 then 1\n",
      "else 9999\n",
      "end\n"
     ]
    }
   ],
   "source": [
    "str = '0.0,0.0026225732,0.012994919,0.038881093,0.09651124,0.21342109,0.40284595,0.62014127,0.8269488'\n",
    "\n",
    "model_score_bin = np.fromstring(str, dtype=float, sep=',')\n",
    "res = \"\"\n",
    "idx = 0.1\n",
    "\n",
    "res = 'case'\n",
    "res = res + '\\nwhen model_score is null then 0.0'\n",
    "pre_score = 0\n",
    "for curr_score in model_score_bin:\n",
    "    tmp = ''\n",
    "    if idx == 0.1:\n",
    "        tmp = 'when model_score <= %f then %.1f' % (curr_score, idx)\n",
    "        pre_score = curr_score\n",
    "    elif idx <= 0.9:\n",
    "        tmp = 'when model_score > %f and model_score <= %f then %.1f' % (pre_score, curr_score, idx)\n",
    "        pre_score = curr_score\n",
    "    \n",
    "    idx = idx + 0.1\n",
    "    res = res + \"\\n\" + tmp\n",
    "\n",
    "res = res + \"\\nwhen model_score > %f then 1\\n\" % (pre_score)\n",
    "res = res + \"else 9999\\n\"\n",
    "res = res + \"end\"\n",
    "\n",
    "print(res)"
   ]
  },
  {
   "cell_type": "code",
   "execution_count": 20,
   "metadata": {},
   "outputs": [
    {
     "name": "stdout",
     "output_type": "stream",
     "text": [
      "case\n",
      "when model_score is null then 0.0\n",
      "when model_score <= 0.000000 then 0.1\n",
      "when model_score > 0.000000 and model_score <= 0.008369 then 0.2\n",
      "when model_score > 0.008369 and model_score <= 0.034387 then 0.3\n",
      "when model_score > 0.034387 and model_score <= 0.089089 then 0.4\n",
      "when model_score > 0.089089 and model_score <= 0.187875 then 0.5\n",
      "when model_score > 0.187875 and model_score <= 0.339347 then 0.6\n",
      "when model_score > 0.339347 and model_score <= 0.520127 then 0.7\n",
      "when model_score > 0.520127 and model_score <= 0.701303 then 0.8\n",
      "when model_score > 0.701303 and model_score <= 0.863222 then 0.9\n",
      "when model_score > 0.863222 then 1\n",
      "else 9999\n",
      "end\n"
     ]
    }
   ],
   "source": [
    "str = '0.0,0.008368819,0.0343868,0.08908917,0.1878748,0.33934718,0.5201266,0.7013033,0.86322224'\n",
    "\n",
    "model_score_bin = np.fromstring(str, dtype=float, sep=',')\n",
    "res = \"\"\n",
    "idx = 0.1\n",
    "\n",
    "res = 'case'\n",
    "res = res + '\\nwhen model_score is null then 0.0'\n",
    "pre_score = 0\n",
    "for curr_score in model_score_bin:\n",
    "    tmp = ''\n",
    "    if idx == 0.1:\n",
    "        tmp = 'when model_score <= %f then %.1f' % (curr_score, idx)\n",
    "        pre_score = curr_score\n",
    "    elif idx <= 0.9:\n",
    "        tmp = 'when model_score > %f and model_score <= %f then %.1f' % (pre_score, curr_score, idx)\n",
    "        pre_score = curr_score\n",
    "    \n",
    "    idx = idx + 0.1\n",
    "    res = res + \"\\n\" + tmp\n",
    "\n",
    "res = res + \"\\nwhen model_score > %f then 1\\n\" % (pre_score)\n",
    "res = res + \"else 9999\\n\"\n",
    "res = res + \"end\"\n",
    "\n",
    "print(res)"
   ]
  },
  {
   "cell_type": "code",
   "execution_count": 24,
   "metadata": {},
   "outputs": [
    {
     "name": "stdout",
     "output_type": "stream",
     "text": [
      "case\n",
      "when model_score is null then 0.0\n",
      "when model_score <= 0.000000 then 0.1\n",
      "when model_score > 0.000000 and model_score <= 0.009015 then 0.2\n",
      "when model_score > 0.009015 and model_score <= 0.035192 then 0.3\n",
      "when model_score > 0.035192 and model_score <= 0.090206 then 0.4\n",
      "when model_score > 0.090206 and model_score <= 0.187323 then 0.5\n",
      "when model_score > 0.187323 and model_score <= 0.333047 then 0.6\n",
      "when model_score > 0.333047 and model_score <= 0.508565 then 0.7\n",
      "when model_score > 0.508565 and model_score <= 0.688446 then 0.8\n",
      "when model_score > 0.688446 and model_score <= 0.854027 then 0.9\n",
      "when model_score > 0.854027 then 1\n",
      "else 9999\n",
      "end\n",
      "case\n",
      "when toFloat64OrZero(get_json_object((decision_ext{'strategy_selector'}),'$.usage_bytepay_v71')) is null then 0.0\n",
      "when toFloat64OrZero(get_json_object((decision_ext{'strategy_selector'}),'$.usage_bytepay_v71')) <= 0.000000 then 0.1\n",
      "when toFloat64OrZero(get_json_object((decision_ext{'strategy_selector'}),'$.usage_bytepay_v71')) > 0.000000 and toFloat64OrZero(get_json_object((decision_ext{'strategy_selector'}),'$.usage_bytepay_v71')) <= 0.009015 then 0.2\n",
      "when toFloat64OrZero(get_json_object((decision_ext{'strategy_selector'}),'$.usage_bytepay_v71')) > 0.009015 and toFloat64OrZero(get_json_object((decision_ext{'strategy_selector'}),'$.usage_bytepay_v71')) <= 0.035192 then 0.3\n",
      "when toFloat64OrZero(get_json_object((decision_ext{'strategy_selector'}),'$.usage_bytepay_v71')) > 0.035192 and toFloat64OrZero(get_json_object((decision_ext{'strategy_selector'}),'$.usage_bytepay_v71')) <= 0.090206 then 0.4\n",
      "when toFloat64OrZero(get_json_object((decision_ext{'strategy_selector'}),'$.usage_bytepay_v71')) > 0.090206 and toFloat64OrZero(get_json_object((decision_ext{'strategy_selector'}),'$.usage_bytepay_v71')) <= 0.187323 then 0.5\n",
      "when toFloat64OrZero(get_json_object((decision_ext{'strategy_selector'}),'$.usage_bytepay_v71')) > 0.187323 and toFloat64OrZero(get_json_object((decision_ext{'strategy_selector'}),'$.usage_bytepay_v71')) <= 0.333047 then 0.6\n",
      "when toFloat64OrZero(get_json_object((decision_ext{'strategy_selector'}),'$.usage_bytepay_v71')) > 0.333047 and toFloat64OrZero(get_json_object((decision_ext{'strategy_selector'}),'$.usage_bytepay_v71')) <= 0.508565 then 0.7\n",
      "when toFloat64OrZero(get_json_object((decision_ext{'strategy_selector'}),'$.usage_bytepay_v71')) > 0.508565 and toFloat64OrZero(get_json_object((decision_ext{'strategy_selector'}),'$.usage_bytepay_v71')) <= 0.688446 then 0.8\n",
      "when toFloat64OrZero(get_json_object((decision_ext{'strategy_selector'}),'$.usage_bytepay_v71')) > 0.688446 and toFloat64OrZero(get_json_object((decision_ext{'strategy_selector'}),'$.usage_bytepay_v71')) <= 0.854027 then 0.9\n",
      "when toFloat64OrZero(get_json_object((decision_ext{'strategy_selector'}),'$.usage_bytepay_v71')) > 0.854027 then 1\n",
      "else 9999\n",
      "end\n"
     ]
    }
   ],
   "source": [
    "str = '0.0,0.009015,0.035192158,0.09020567,0.18732297,0.33304736,0.50856483,0.68844604,0.8540266'\n",
    "\n",
    "model_names = [\"model_score\", \"toFloat64OrZero(get_json_object((decision_ext{'strategy_selector'}),'$.usage_bytepay_v71'))\"]\n",
    "\n",
    "for model_name in model_names:\n",
    "    model_score_bin = np.fromstring(str, dtype=float, sep=',')\n",
    "    res = \"\"\n",
    "    idx = 0.1\n",
    "\n",
    "    res = 'case'\n",
    "    res = res + '\\nwhen %s is null then 0.0' % (model_name)\n",
    "    pre_score = 0\n",
    "    for curr_score in model_score_bin:\n",
    "        tmp = ''\n",
    "        if idx == 0.1:\n",
    "            tmp = 'when %s <= %f then %.1f' % (model_name, curr_score, idx)\n",
    "            pre_score = curr_score\n",
    "        elif idx <= 0.9:\n",
    "            tmp = 'when %s > %f and %s <= %f then %.1f' % (model_name, pre_score, model_name, curr_score, idx)\n",
    "            pre_score = curr_score\n",
    "        \n",
    "        idx = idx + 0.1\n",
    "        res = res + \"\\n\" + tmp\n",
    "\n",
    "    res = res + \"\\nwhen %s > %f then 1\\n\" % (model_name, pre_score)\n",
    "    res = res + \"else 9999\\n\"\n",
    "    res = res + \"end\"\n",
    "\n",
    "    print(res)"
   ]
  },
  {
   "cell_type": "code",
   "execution_count": 26,
   "metadata": {},
   "outputs": [
    {
     "data": {
      "text/plain": [
       "0.001390616653342647"
      ]
     },
     "execution_count": 26,
     "metadata": {},
     "output_type": "execute_result"
    }
   ],
   "source": [
    "(0.009015-0.009002481)/0.009002481"
   ]
  },
  {
   "cell_type": "code",
   "execution_count": 2,
   "metadata": {},
   "outputs": [
    {
     "data": {
      "text/plain": [
       "101"
      ]
     },
     "execution_count": 2,
     "metadata": {},
     "output_type": "execute_result"
    }
   ],
   "source": [
    "(40 + 31 + 15 + 15)"
   ]
  },
  {
   "cell_type": "code",
   "execution_count": 3,
   "metadata": {},
   "outputs": [
    {
     "data": {
      "text/plain": [
       "470"
      ]
     },
     "execution_count": 3,
     "metadata": {},
     "output_type": "execute_result"
    }
   ],
   "source": [
    "400 + 45 + 25 + 30"
   ]
  },
  {
   "cell_type": "code",
   "execution_count": null,
   "metadata": {},
   "outputs": [],
   "source": []
  }
 ],
 "metadata": {
  "kernelspec": {
   "display_name": "py39_torch2_cpu",
   "language": "python",
   "name": "python3"
  },
  "language_info": {
   "codemirror_mode": {
    "name": "ipython",
    "version": 3
   },
   "file_extension": ".py",
   "mimetype": "text/x-python",
   "name": "python",
   "nbconvert_exporter": "python",
   "pygments_lexer": "ipython3",
   "version": "3.9.18"
  }
 },
 "nbformat": 4,
 "nbformat_minor": 2
}
